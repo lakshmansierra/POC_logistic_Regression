{
  "cells": [
    {
      "cell_type": "markdown",
      "metadata": {
        "colab_type": "text",
        "id": "37puETfgRzzg"
      },
      "source": [
        "# Logistic Regression"
      ]
    },
    {
      "cell_type": "markdown",
      "metadata": {
        "colab_type": "text",
        "id": "EoRP98MpR-qj"
      },
      "source": [
        "## Importing the libraries"
      ]
    },
    {
      "cell_type": "code",
      "execution_count": 1,
      "metadata": {
        "colab": {},
        "colab_type": "code",
        "id": "N-qiINBQSK2g"
      },
      "outputs": [],
      "source": [
        "import os\n",
        "import numpy as np\n",
        "import matplotlib.pyplot as plt\n",
        "import pandas as pd"
      ]
    },
    {
      "cell_type": "markdown",
      "metadata": {
        "colab_type": "text",
        "id": "RopL7tUZSQkT"
      },
      "source": [
        "## Importing the dataset"
      ]
    },
    {
      "cell_type": "code",
      "execution_count": 2,
      "metadata": {},
      "outputs": [],
      "source": [
        "# pyspark_df = spark.table(\"sd_bdc_demo.k_cluster_age_years_since_last_promotion.1_am_workday_updated_data\")\n",
        "# pyspark_df.display()\n",
        "# df = pyspark_df.toPandas()"
      ]
    },
    {
      "cell_type": "code",
      "execution_count": 3,
      "metadata": {
        "colab": {},
        "colab_type": "code",
        "id": "WwEPNDWySTKm"
      },
      "outputs": [],
      "source": [
        "df = pd.read_csv(\"1_am_workday_updated_data/1_am_workday_updated_data.csv\")\n"
      ]
    },
    {
      "cell_type": "code",
      "execution_count": 4,
      "metadata": {},
      "outputs": [
        {
          "name": "stdout",
          "output_type": "stream",
          "text": [
            "<class 'pandas.core.frame.DataFrame'>\n"
          ]
        }
      ],
      "source": [
        "print(type(df))"
      ]
    },
    {
      "cell_type": "code",
      "execution_count": 5,
      "metadata": {},
      "outputs": [
        {
          "name": "stdout",
          "output_type": "stream",
          "text": [
            "Index(['Current_Role', 'Zip_Code', 'Employee_ID', 'Employee_Annual_Salary',\n",
            "       'Monthly_Medical_contribution', 'Monthly_Dental_Contribution',\n",
            "       'Monthly_Vision_Contribution', 'Bonus', 'Years_Of_Service',\n",
            "       'Department', 'Gender', 'Employee_HR_rate', 'Hours_per_week',\n",
            "       'Years_Since_Last_Promotion', 'age', 'left'],\n",
            "      dtype='object')\n"
          ]
        }
      ],
      "source": [
        "print(df.columns)"
      ]
    },
    {
      "cell_type": "code",
      "execution_count": 6,
      "metadata": {},
      "outputs": [
        {
          "name": "stdout",
          "output_type": "stream",
          "text": [
            "                Current_Role  Zip_Code  Employee_ID  Employee_Annual_Salary  \\\n",
            "0   Senior Software Engineer     94103           57                  130800   \n",
            "1   Associate Data Scientist     94111           58                   74250   \n",
            "2  Associate Product Manager     10009           59                  125850   \n",
            "3           Business Analyst     60605           60                   84750   \n",
            "4    Chief Operating Officer      2101           61                  300000   \n",
            "\n",
            "   Monthly_Medical_contribution  Monthly_Dental_Contribution  \\\n",
            "0                           130                           35   \n",
            "1                           105                           30   \n",
            "2                           130                           35   \n",
            "3                           105                           30   \n",
            "4                           230                           55   \n",
            "\n",
            "   Monthly_Vision_Contribution  Bonus  Years_Of_Service    Department  \\\n",
            "0                           19  13865               5.2   Engineering   \n",
            "1                           17   4344               1.7  Data Science   \n",
            "2                           19  15920               1.3       Product   \n",
            "3                           17   5890               3.9       Finance   \n",
            "4                           27  90000              15.2     Executive   \n",
            "\n",
            "       Gender  Employee_HR_rate  Hours_per_week  Years_Since_Last_Promotion  \\\n",
            "0        Male                60              40                    2.814511   \n",
            "1  Non-Binary               117              40                    1.577002   \n",
            "2  Non-Binary               147              40                    1.259411   \n",
            "3      Female               153              40                    2.310746   \n",
            "4      Female                79              40                    5.796030   \n",
            "\n",
            "   age  left  \n",
            "0   34     0  \n",
            "1   29     0  \n",
            "2   31     0  \n",
            "3   31     0  \n",
            "4   41     1  \n"
          ]
        }
      ],
      "source": [
        "print(df.head())"
      ]
    },
    {
      "cell_type": "code",
      "execution_count": 7,
      "metadata": {},
      "outputs": [
        {
          "name": "stdout",
          "output_type": "stream",
          "text": [
            "Index(['Current_Role', 'Zip_Code', 'Employee_ID', 'Employee_Annual_Salary',\n",
            "       'Monthly_Medical_contribution', 'Monthly_Dental_Contribution',\n",
            "       'Monthly_Vision_Contribution', 'Bonus', 'Years_Of_Service',\n",
            "       'Department', 'Gender', 'Employee_HR_rate', 'Hours_per_week',\n",
            "       'Years_Since_Last_Promotion', 'age', 'left'],\n",
            "      dtype='object')\n"
          ]
        }
      ],
      "source": [
        "print(df.columns)"
      ]
    },
    {
      "cell_type": "code",
      "execution_count": 8,
      "metadata": {},
      "outputs": [
        {
          "name": "stdout",
          "output_type": "stream",
          "text": [
            "(100, 16)\n"
          ]
        }
      ],
      "source": [
        "print(df.shape)"
      ]
    },
    {
      "cell_type": "markdown",
      "metadata": {
        "colab_type": "text",
        "id": "CriG6VzVSjcK"
      },
      "source": [
        "## Encoding categorical data"
      ]
    },
    {
      "cell_type": "code",
      "execution_count": 9,
      "metadata": {},
      "outputs": [],
      "source": [
        "df_encoded = pd.get_dummies(df, columns=['Current_Role', 'Department', 'Gender'], drop_first=False).astype(int)\n"
      ]
    },
    {
      "cell_type": "code",
      "execution_count": 10,
      "metadata": {},
      "outputs": [
        {
          "name": "stdout",
          "output_type": "stream",
          "text": [
            "   Zip_Code  Employee_ID  Employee_Annual_Salary  \\\n",
            "0     94103           57                  130800   \n",
            "1     94111           58                   74250   \n",
            "2     10009           59                  125850   \n",
            "3     60605           60                   84750   \n",
            "4      2101           61                  300000   \n",
            "\n",
            "   Monthly_Medical_contribution  Monthly_Dental_Contribution  \\\n",
            "0                           130                           35   \n",
            "1                           105                           30   \n",
            "2                           130                           35   \n",
            "3                           105                           30   \n",
            "4                           230                           55   \n",
            "\n",
            "   Monthly_Vision_Contribution  Bonus  Years_Of_Service  Employee_HR_rate  \\\n",
            "0                           19  13865                 5                60   \n",
            "1                           17   4344                 1               117   \n",
            "2                           19  15920                 1               147   \n",
            "3                           17   5890                 3               153   \n",
            "4                           27  90000                15                79   \n",
            "\n",
            "   Hours_per_week  ...  Department_Finance  Department_Human Resources  \\\n",
            "0              40  ...                   0                           0   \n",
            "1              40  ...                   0                           0   \n",
            "2              40  ...                   0                           0   \n",
            "3              40  ...                   1                           0   \n",
            "4              40  ...                   0                           0   \n",
            "\n",
            "   Department_IT  Department_Marketing  Department_Operations  \\\n",
            "0              0                     0                      0   \n",
            "1              0                     0                      0   \n",
            "2              0                     0                      0   \n",
            "3              0                     0                      0   \n",
            "4              0                     0                      0   \n",
            "\n",
            "   Department_Product  Department_Sales  Gender_Female  Gender_Male  \\\n",
            "0                   0                 0              0            1   \n",
            "1                   0                 0              0            0   \n",
            "2                   1                 0              0            0   \n",
            "3                   0                 0              1            0   \n",
            "4                   0                 0              1            0   \n",
            "\n",
            "   Gender_Non-Binary  \n",
            "0                  0  \n",
            "1                  1  \n",
            "2                  1  \n",
            "3                  0  \n",
            "4                  0  \n",
            "\n",
            "[5 rows x 105 columns]\n"
          ]
        }
      ],
      "source": [
        "print(df_encoded.head())"
      ]
    },
    {
      "cell_type": "code",
      "execution_count": 11,
      "metadata": {},
      "outputs": [
        {
          "name": "stdout",
          "output_type": "stream",
          "text": [
            "(100, 105)\n"
          ]
        }
      ],
      "source": [
        "print(df_encoded.shape)"
      ]
    },
    {
      "cell_type": "markdown",
      "metadata": {},
      "source": [
        "## Removing `left` column\n",
        "- Including `left` column to do clustering, then adding the `cluster label` as one of the features for logistic regression will do `data leakage`. Don't do it"
      ]
    },
    {
      "cell_type": "code",
      "execution_count": 12,
      "metadata": {},
      "outputs": [],
      "source": [
        "df_no_left = df_encoded.drop(columns=['left'])\n",
        "X = df_no_left"
      ]
    },
    {
      "cell_type": "code",
      "execution_count": 13,
      "metadata": {},
      "outputs": [
        {
          "name": "stdout",
          "output_type": "stream",
          "text": [
            "   Zip_Code  Employee_ID  Employee_Annual_Salary  \\\n",
            "0     94103           57                  130800   \n",
            "1     94111           58                   74250   \n",
            "2     10009           59                  125850   \n",
            "3     60605           60                   84750   \n",
            "4      2101           61                  300000   \n",
            "\n",
            "   Monthly_Medical_contribution  Monthly_Dental_Contribution  \\\n",
            "0                           130                           35   \n",
            "1                           105                           30   \n",
            "2                           130                           35   \n",
            "3                           105                           30   \n",
            "4                           230                           55   \n",
            "\n",
            "   Monthly_Vision_Contribution  Bonus  Years_Of_Service  Employee_HR_rate  \\\n",
            "0                           19  13865                 5                60   \n",
            "1                           17   4344                 1               117   \n",
            "2                           19  15920                 1               147   \n",
            "3                           17   5890                 3               153   \n",
            "4                           27  90000                15                79   \n",
            "\n",
            "   Hours_per_week  ...  Department_Finance  Department_Human Resources  \\\n",
            "0              40  ...                   0                           0   \n",
            "1              40  ...                   0                           0   \n",
            "2              40  ...                   0                           0   \n",
            "3              40  ...                   1                           0   \n",
            "4              40  ...                   0                           0   \n",
            "\n",
            "   Department_IT  Department_Marketing  Department_Operations  \\\n",
            "0              0                     0                      0   \n",
            "1              0                     0                      0   \n",
            "2              0                     0                      0   \n",
            "3              0                     0                      0   \n",
            "4              0                     0                      0   \n",
            "\n",
            "   Department_Product  Department_Sales  Gender_Female  Gender_Male  \\\n",
            "0                   0                 0              0            1   \n",
            "1                   0                 0              0            0   \n",
            "2                   1                 0              0            0   \n",
            "3                   0                 0              1            0   \n",
            "4                   0                 0              1            0   \n",
            "\n",
            "   Gender_Non-Binary  \n",
            "0                  0  \n",
            "1                  1  \n",
            "2                  1  \n",
            "3                  0  \n",
            "4                  0  \n",
            "\n",
            "[5 rows x 104 columns]\n"
          ]
        }
      ],
      "source": [
        "print(X.head())\n"
      ]
    },
    {
      "cell_type": "code",
      "execution_count": 14,
      "metadata": {},
      "outputs": [
        {
          "name": "stdout",
          "output_type": "stream",
          "text": [
            "(100, 104)\n"
          ]
        }
      ],
      "source": [
        "print(X.shape)"
      ]
    },
    {
      "cell_type": "markdown",
      "metadata": {},
      "source": [
        "## Feature Scaling"
      ]
    },
    {
      "cell_type": "code",
      "execution_count": 15,
      "metadata": {},
      "outputs": [],
      "source": [
        "from sklearn.preprocessing import StandardScaler\n",
        "sc = StandardScaler()\n",
        "\n",
        "# List of columns to scale\n",
        "columns_to_scale = [\n",
        "    'Employee_Annual_Salary', 'Monthly_Medical_contribution',\n",
        "    'Monthly_Dental_Contribution', 'Monthly_Vision_Contribution', 'Bonus',\n",
        "    'Years_Of_Service', 'Employee_HR_rate', 'Hours_per_week',\n",
        "    'Years_Since_Last_Promotion', 'age'\n",
        "]\n",
        "\n",
        "# Fit sc on training data and transform both training and test sets\n",
        "X_scaled = X.copy()\n",
        "\n",
        "X_scaled[columns_to_scale] = sc.fit_transform(X_scaled[columns_to_scale])\n"
      ]
    },
    {
      "cell_type": "code",
      "execution_count": 16,
      "metadata": {
        "colab": {
          "base_uri": "https://localhost:8080/",
          "height": 154
        },
        "colab_type": "code",
        "id": "DWPET8ZdlMnu",
        "outputId": "dea86927-5124-4e2a-e974-2804df9a913c"
      },
      "outputs": [
        {
          "name": "stdout",
          "output_type": "stream",
          "text": [
            "    Zip_Code  Employee_ID  Employee_Annual_Salary  \\\n",
            "0      94103           57                0.042182   \n",
            "1      94111           58               -1.037434   \n",
            "2      10009           59               -0.052320   \n",
            "3      60605           60               -0.836975   \n",
            "4       2101           61                3.272440   \n",
            "..       ...          ...                     ...   \n",
            "95     98103          152               -0.773018   \n",
            "96     78723          153               -0.624106   \n",
            "97     78712          154               -0.773018   \n",
            "98     78703          155               -0.778746   \n",
            "99     98109          156                3.272440   \n",
            "\n",
            "    Monthly_Medical_contribution  Monthly_Dental_Contribution  \\\n",
            "0                       0.060356                     0.060356   \n",
            "1                      -0.801873                    -0.801873   \n",
            "2                       0.060356                     0.060356   \n",
            "3                      -0.801873                    -0.801873   \n",
            "4                       3.509273                     3.509273   \n",
            "..                           ...                          ...   \n",
            "95                     -0.801873                    -0.801873   \n",
            "96                     -0.801873                    -0.801873   \n",
            "97                     -0.801873                    -0.801873   \n",
            "98                     -0.801873                    -0.801873   \n",
            "99                      3.509273                     3.509273   \n",
            "\n",
            "    Monthly_Vision_Contribution     Bonus  Years_Of_Service  Employee_HR_rate  \\\n",
            "0                      0.060356 -0.220739         -0.053649         -1.714816   \n",
            "1                     -0.801873 -0.747377         -1.394874          0.259821   \n",
            "2                      0.060356 -0.107070         -1.394874          1.299103   \n",
            "3                     -0.801873 -0.661863         -0.724262          1.506960   \n",
            "4                      3.509273  3.990537          3.299414         -1.056604   \n",
            "..                          ...       ...               ...               ...   \n",
            "95                    -0.801873 -0.678235         -1.059568          1.437674   \n",
            "96                    -0.801873 -0.581880         -0.053649         -0.814105   \n",
            "97                    -0.801873 -0.678235         -1.059568         -1.229818   \n",
            "98                    -0.801873 -0.681720         -1.059568          0.398392   \n",
            "99                     3.509273  3.990537          2.293495         -1.472317   \n",
            "\n",
            "    Hours_per_week  ...  Department_Finance  Department_Human Resources  \\\n",
            "0              0.0  ...                   0                           0   \n",
            "1              0.0  ...                   0                           0   \n",
            "2              0.0  ...                   0                           0   \n",
            "3              0.0  ...                   1                           0   \n",
            "4              0.0  ...                   0                           0   \n",
            "..             ...  ...                 ...                         ...   \n",
            "95             0.0  ...                   0                           0   \n",
            "96             0.0  ...                   0                           0   \n",
            "97             0.0  ...                   0                           0   \n",
            "98             0.0  ...                   0                           0   \n",
            "99             0.0  ...                   0                           0   \n",
            "\n",
            "    Department_IT  Department_Marketing  Department_Operations  \\\n",
            "0               0                     0                      0   \n",
            "1               0                     0                      0   \n",
            "2               0                     0                      0   \n",
            "3               0                     0                      0   \n",
            "4               0                     0                      0   \n",
            "..            ...                   ...                    ...   \n",
            "95              0                     0                      0   \n",
            "96              0                     0                      0   \n",
            "97              0                     0                      0   \n",
            "98              0                     0                      0   \n",
            "99              0                     0                      0   \n",
            "\n",
            "    Department_Product  Department_Sales  Gender_Female  Gender_Male  \\\n",
            "0                    0                 0              0            1   \n",
            "1                    0                 0              0            0   \n",
            "2                    1                 0              0            0   \n",
            "3                    0                 0              1            0   \n",
            "4                    0                 0              1            0   \n",
            "..                 ...               ...            ...          ...   \n",
            "95                   0                 0              0            1   \n",
            "96                   0                 0              1            0   \n",
            "97                   0                 0              0            1   \n",
            "98                   0                 0              0            1   \n",
            "99                   0                 0              1            0   \n",
            "\n",
            "    Gender_Non-Binary  \n",
            "0                   0  \n",
            "1                   1  \n",
            "2                   1  \n",
            "3                   0  \n",
            "4                   0  \n",
            "..                ...  \n",
            "95                  0  \n",
            "96                  0  \n",
            "97                  0  \n",
            "98                  0  \n",
            "99                  0  \n",
            "\n",
            "[100 rows x 104 columns]\n"
          ]
        }
      ],
      "source": [
        "print(X_scaled)"
      ]
    },
    {
      "cell_type": "code",
      "execution_count": 17,
      "metadata": {},
      "outputs": [
        {
          "name": "stdout",
          "output_type": "stream",
          "text": [
            "(100, 104)\n"
          ]
        }
      ],
      "source": [
        "print(X_scaled.shape)"
      ]
    },
    {
      "cell_type": "markdown",
      "metadata": {},
      "source": [
        "### Removing `Employee ID` & `Zip Code` in `X_scaled`"
      ]
    },
    {
      "cell_type": "code",
      "execution_count": 18,
      "metadata": {},
      "outputs": [
        {
          "name": "stdout",
          "output_type": "stream",
          "text": [
            "<class 'pandas.core.frame.DataFrame'>\n"
          ]
        }
      ],
      "source": [
        "print(type(X_scaled))"
      ]
    },
    {
      "cell_type": "code",
      "execution_count": 19,
      "metadata": {},
      "outputs": [
        {
          "name": "stdout",
          "output_type": "stream",
          "text": [
            "    Employee_Annual_Salary  Monthly_Medical_contribution  \\\n",
            "0                 0.042182                      0.060356   \n",
            "1                -1.037434                     -0.801873   \n",
            "2                -0.052320                      0.060356   \n",
            "3                -0.836975                     -0.801873   \n",
            "4                 3.272440                      3.509273   \n",
            "..                     ...                           ...   \n",
            "95               -0.773018                     -0.801873   \n",
            "96               -0.624106                     -0.801873   \n",
            "97               -0.773018                     -0.801873   \n",
            "98               -0.778746                     -0.801873   \n",
            "99                3.272440                      3.509273   \n",
            "\n",
            "    Monthly_Dental_Contribution  Monthly_Vision_Contribution     Bonus  \\\n",
            "0                      0.060356                     0.060356 -0.220739   \n",
            "1                     -0.801873                    -0.801873 -0.747377   \n",
            "2                      0.060356                     0.060356 -0.107070   \n",
            "3                     -0.801873                    -0.801873 -0.661863   \n",
            "4                      3.509273                     3.509273  3.990537   \n",
            "..                          ...                          ...       ...   \n",
            "95                    -0.801873                    -0.801873 -0.678235   \n",
            "96                    -0.801873                    -0.801873 -0.581880   \n",
            "97                    -0.801873                    -0.801873 -0.678235   \n",
            "98                    -0.801873                    -0.801873 -0.681720   \n",
            "99                     3.509273                     3.509273  3.990537   \n",
            "\n",
            "    Years_Of_Service  Employee_HR_rate  Hours_per_week  \\\n",
            "0          -0.053649         -1.714816             0.0   \n",
            "1          -1.394874          0.259821             0.0   \n",
            "2          -1.394874          1.299103             0.0   \n",
            "3          -0.724262          1.506960             0.0   \n",
            "4           3.299414         -1.056604             0.0   \n",
            "..               ...               ...             ...   \n",
            "95         -1.059568          1.437674             0.0   \n",
            "96         -0.053649         -0.814105             0.0   \n",
            "97         -1.059568         -1.229818             0.0   \n",
            "98         -1.059568          0.398392             0.0   \n",
            "99          2.293495         -1.472317             0.0   \n",
            "\n",
            "    Years_Since_Last_Promotion       age  ...  Department_Finance  \\\n",
            "0                    -0.481337  0.628154  ...                   0   \n",
            "1                    -1.245364 -0.691498  ...                   0   \n",
            "2                    -1.245364 -0.163637  ...                   0   \n",
            "3                    -0.481337 -0.163637  ...                   1   \n",
            "4                     1.810744  2.475667  ...                   0   \n",
            "..                         ...       ...  ...                 ...   \n",
            "95                   -1.245364 -0.955428  ...                   0   \n",
            "96                   -0.481337 -0.955428  ...                   0   \n",
            "97                   -0.481337 -0.163637  ...                   0   \n",
            "98                   -1.245364 -2.011149  ...                   0   \n",
            "99                    0.282690  0.892085  ...                   0   \n",
            "\n",
            "    Department_Human Resources  Department_IT  Department_Marketing  \\\n",
            "0                            0              0                     0   \n",
            "1                            0              0                     0   \n",
            "2                            0              0                     0   \n",
            "3                            0              0                     0   \n",
            "4                            0              0                     0   \n",
            "..                         ...            ...                   ...   \n",
            "95                           0              0                     0   \n",
            "96                           0              0                     0   \n",
            "97                           0              0                     0   \n",
            "98                           0              0                     0   \n",
            "99                           0              0                     0   \n",
            "\n",
            "    Department_Operations  Department_Product  Department_Sales  \\\n",
            "0                       0                   0                 0   \n",
            "1                       0                   0                 0   \n",
            "2                       0                   1                 0   \n",
            "3                       0                   0                 0   \n",
            "4                       0                   0                 0   \n",
            "..                    ...                 ...               ...   \n",
            "95                      0                   0                 0   \n",
            "96                      0                   0                 0   \n",
            "97                      0                   0                 0   \n",
            "98                      0                   0                 0   \n",
            "99                      0                   0                 0   \n",
            "\n",
            "    Gender_Female  Gender_Male  Gender_Non-Binary  \n",
            "0               0            1                  0  \n",
            "1               0            0                  1  \n",
            "2               0            0                  1  \n",
            "3               1            0                  0  \n",
            "4               1            0                  0  \n",
            "..            ...          ...                ...  \n",
            "95              0            1                  0  \n",
            "96              1            0                  0  \n",
            "97              0            1                  0  \n",
            "98              0            1                  0  \n",
            "99              1            0                  0  \n",
            "\n",
            "[100 rows x 102 columns]\n"
          ]
        }
      ],
      "source": [
        "X_scaled_new = X_scaled.drop(columns=['Employee_ID', 'Zip_Code'])\n",
        "print(X_scaled_new)"
      ]
    },
    {
      "cell_type": "code",
      "execution_count": 20,
      "metadata": {},
      "outputs": [
        {
          "name": "stdout",
          "output_type": "stream",
          "text": [
            "Index(['Employee_Annual_Salary', 'Monthly_Medical_contribution',\n",
            "       'Monthly_Dental_Contribution', 'Monthly_Vision_Contribution', 'Bonus',\n",
            "       'Years_Of_Service', 'Employee_HR_rate', 'Hours_per_week',\n",
            "       'Years_Since_Last_Promotion', 'age',\n",
            "       ...\n",
            "       'Department_Finance', 'Department_Human Resources', 'Department_IT',\n",
            "       'Department_Marketing', 'Department_Operations', 'Department_Product',\n",
            "       'Department_Sales', 'Gender_Female', 'Gender_Male',\n",
            "       'Gender_Non-Binary'],\n",
            "      dtype='object', length=102)\n"
          ]
        }
      ],
      "source": [
        "print(X_scaled_new.columns)"
      ]
    },
    {
      "cell_type": "markdown",
      "metadata": {},
      "source": [
        "## Using the elbow method to find the optimal number of clusters"
      ]
    },
    {
      "cell_type": "markdown",
      "metadata": {},
      "source": [
        "### Clustering on `age` & `Years_Of_Service` "
      ]
    },
    {
      "cell_type": "code",
      "execution_count": 21,
      "metadata": {},
      "outputs": [
        {
          "name": "stdout",
          "output_type": "stream",
          "text": [
            "Index(['age'], dtype='object')\n",
            "    age\n",
            "0    34\n",
            "1    29\n",
            "2    31\n",
            "3    31\n",
            "4    41\n",
            "..  ...\n",
            "95   28\n",
            "96   28\n",
            "97   31\n",
            "98   24\n",
            "99   35\n",
            "\n",
            "[100 rows x 1 columns]\n"
          ]
        }
      ],
      "source": [
        "req_cols = ['age']\n",
        "X_scaled_new = df[req_cols]\n",
        "print(X_scaled_new.columns)\n",
        "print(X_scaled_new)"
      ]
    },
    {
      "cell_type": "code",
      "execution_count": 22,
      "metadata": {},
      "outputs": [],
      "source": [
        "from sklearn.cluster import KMeans\n",
        "from sklearn.metrics import silhouette_score\n",
        "\n",
        "cluster_range = range(2,11)\n",
        "wcss = []\n",
        "silhouette_scores = []\n",
        "for i in cluster_range:\n",
        "    kmeans = KMeans(n_clusters = i, init = 'k-means++', random_state = 42)\n",
        "    kmeans.fit(X_scaled_new)\n",
        "    labels = kmeans.labels_\n",
        "    wcss.append(kmeans.inertia_)\n",
        "    silhouette_scores.append(silhouette_score(X_scaled_new, labels))\n"
      ]
    },
    {
      "cell_type": "code",
      "execution_count": 23,
      "metadata": {},
      "outputs": [
        {
          "data": {
            "image/png": "[encoded data removed]",
            "text/plain": [
              "<Figure size 640x480 with 2 Axes>"
            ]
          },
          "metadata": {},
          "output_type": "display_data"
        }
      ],
      "source": [
        "fig, ax1 = plt.subplots()\n",
        "\n",
        "color = 'tab:blue'\n",
        "ax1.set_xlabel('Number of Clusters')\n",
        "ax1.set_ylabel('WCSS', color=color)\n",
        "ax1.plot(cluster_range, wcss, color=color, marker='o')\n",
        "ax1.tick_params(axis='y', labelcolor=color)\n",
        "\n",
        "ax2 = ax1.twinx()\n",
        "color = 'tab:green'\n",
        "ax2.set_ylabel('Silhouette Score', color=color)\n",
        "ax2.plot(cluster_range, silhouette_scores, color=color, marker='x')\n",
        "ax2.tick_params(axis='y', labelcolor=color)\n",
        "\n",
        "plt.title('WCSS & Silhouette Score vs Number of Clusters')\n",
        "plt.show()"
      ]
    },
    {
      "cell_type": "markdown",
      "metadata": {},
      "source": [
        "### Saving the no of clusters, wcss & silhouette score in a new table"
      ]
    },
    {
      "cell_type": "code",
      "execution_count": 24,
      "metadata": {},
      "outputs": [
        {
          "name": "stdout",
          "output_type": "stream",
          "text": [
            "[522.9508061182308, 229.79999999999998, 131.66439613526575, 92.26692307692309, 64.46501831501831, 48.44835164835165, 39.19328874024526, 37.85995540691192, 33.31294685990338]\n",
            "[1, 2, 3, 4, 5, 6, 7, 8, 9, 10]\n"
          ]
        }
      ],
      "source": [
        "print(wcss)\n",
        "print(list(range(1,11)))\n",
        "cluster_eval_df = pd.DataFrame({\n",
        "    'Number_of_Clusters': list(cluster_range),\n",
        "    'WCSS': wcss,\n",
        "    'Silhouette_Score': silhouette_scores\n",
        "})\n"
      ]
    },
    {
      "cell_type": "code",
      "execution_count": 25,
      "metadata": {},
      "outputs": [],
      "source": [
        "# Create the folder if it doesn't exist\n",
        "os.makedirs(\"2_1_am_workday_elbow_analysis_data\", exist_ok=True)\n",
        "\n",
        "# Save the Excel file inside the folder\n",
        "cluster_eval_df.to_csv(\"2_1_am_workday_elbow_analysis_data/2_1_am_workday_elbow_analysis_data.csv\", index=False)"
      ]
    },
    {
      "cell_type": "code",
      "execution_count": 26,
      "metadata": {},
      "outputs": [],
      "source": [
        "# spark_df = spark.createDataFrame(cluster_eval_df)\n",
        "# spark_df.write.mode(\"overwrite\").saveAsTable(\"sd_bdc_demo.k_cluster_age_years_since_last_promotion.2_1_am_workday_elbow_analysis_data\")"
      ]
    },
    {
      "cell_type": "markdown",
      "metadata": {},
      "source": [
        "## Training the K-Means model on the dataset"
      ]
    },
    {
      "cell_type": "code",
      "execution_count": 27,
      "metadata": {},
      "outputs": [
        {
          "data": {
            "text/html": [
              "<style>#sk-container-id-1 {\n",
              "  /* Definition of color scheme common for light and dark mode */\n",
              "  --sklearn-color-text: #000;\n",
              "  --sklearn-color-text-muted: #666;\n",
              "  --sklearn-color-line: gray;\n",
              "  /* Definition of color scheme for unfitted estimators */\n",
              "  --sklearn-color-unfitted-level-0: #fff5e6;\n",
              "  --sklearn-color-unfitted-level-1: #f6e4d2;\n",
              "  --sklearn-color-unfitted-level-2: #ffe0b3;\n",
              "  --sklearn-color-unfitted-level-3: chocolate;\n",
              "  /* Definition of color scheme for fitted estimators */\n",
              "  --sklearn-color-fitted-level-0: #f0f8ff;\n",
              "  --sklearn-color-fitted-level-1: #d4ebff;\n",
              "  --sklearn-color-fitted-level-2: #b3dbfd;\n",
              "  --sklearn-color-fitted-level-3: cornflowerblue;\n",
              "\n",
              "  /* Specific color for light theme */\n",
              "  --sklearn-color-text-on-default-background: var(--sg-text-color, var(--theme-code-foreground, var(--jp-content-font-color1, black)));\n",
              "  --sklearn-color-background: var(--sg-background-color, var(--theme-background, var(--jp-layout-color0, white)));\n",
              "  --sklearn-color-border-box: var(--sg-text-color, var(--theme-code-foreground, var(--jp-content-font-color1, black)));\n",
              "  --sklearn-color-icon: #696969;\n",
              "\n",
              "  @media (prefers-color-scheme: dark) {\n",
              "    /* Redefinition of color scheme for dark theme */\n",
              "    --sklearn-color-text-on-default-background: var(--sg-text-color, var(--theme-code-foreground, var(--jp-content-font-color1, white)));\n",
              "    --sklearn-color-background: var(--sg-background-color, var(--theme-background, var(--jp-layout-color0, #111)));\n",
              "    --sklearn-color-border-box: var(--sg-text-color, var(--theme-code-foreground, var(--jp-content-font-color1, white)));\n",
              "    --sklearn-color-icon: #878787;\n",
              "  }\n",
              "}\n",
              "\n",
              "#sk-container-id-1 {\n",
              "  color: var(--sklearn-color-text);\n",
              "}\n",
              "\n",
              "#sk-container-id-1 pre {\n",
              "  padding: 0;\n",
              "}\n",
              "\n",
              "#sk-container-id-1 input.sk-hidden--visually {\n",
              "  border: 0;\n",
              "  clip: rect(1px 1px 1px 1px);\n",
              "  clip: rect(1px, 1px, 1px, 1px);\n",
              "  height: 1px;\n",
              "  margin: -1px;\n",
              "  overflow: hidden;\n",
              "  padding: 0;\n",
              "  position: absolute;\n",
              "  width: 1px;\n",
              "}\n",
              "\n",
              "#sk-container-id-1 div.sk-dashed-wrapped {\n",
              "  border: 1px dashed var(--sklearn-color-line);\n",
              "  margin: 0 0.4em 0.5em 0.4em;\n",
              "  box-sizing: border-box;\n",
              "  padding-bottom: 0.4em;\n",
              "  background-color: var(--sklearn-color-background);\n",
              "}\n",
              "\n",
              "#sk-container-id-1 div.sk-container {\n",
              "  /* jupyter's `normalize.less` sets `[hidden] { display: none; }`\n",
              "     but bootstrap.min.css set `[hidden] { display: none !important; }`\n",
              "     so we also need the `!important` here to be able to override the\n",
              "     default hidden behavior on the sphinx rendered scikit-learn.org.\n",
              "     See: https://github.com/scikit-learn/scikit-learn/issues/21755 */\n",
              "  display: inline-block !important;\n",
              "  position: relative;\n",
              "}\n",
              "\n",
              "#sk-container-id-1 div.sk-text-repr-fallback {\n",
              "  display: none;\n",
              "}\n",
              "\n",
              "div.sk-parallel-item,\n",
              "div.sk-serial,\n",
              "div.sk-item {\n",
              "  /* draw centered vertical line to link estimators */\n",
              "  background-image: linear-gradient(var(--sklearn-color-text-on-default-background), var(--sklearn-color-text-on-default-background));\n",
              "  background-size: 2px 100%;\n",
              "  background-repeat: no-repeat;\n",
              "  background-position: center center;\n",
              "}\n",
              "\n",
              "/* Parallel-specific style estimator block */\n",
              "\n",
              "#sk-container-id-1 div.sk-parallel-item::after {\n",
              "  content: \"\";\n",
              "  width: 100%;\n",
              "  border-bottom: 2px solid var(--sklearn-color-text-on-default-background);\n",
              "  flex-grow: 1;\n",
              "}\n",
              "\n",
              "#sk-container-id-1 div.sk-parallel {\n",
              "  display: flex;\n",
              "  align-items: stretch;\n",
              "  justify-content: center;\n",
              "  background-color: var(--sklearn-color-background);\n",
              "  position: relative;\n",
              "}\n",
              "\n",
              "#sk-container-id-1 div.sk-parallel-item {\n",
              "  display: flex;\n",
              "  flex-direction: column;\n",
              "}\n",
              "\n",
              "#sk-container-id-1 div.sk-parallel-item:first-child::after {\n",
              "  align-self: flex-end;\n",
              "  width: 50%;\n",
              "}\n",
              "\n",
              "#sk-container-id-1 div.sk-parallel-item:last-child::after {\n",
              "  align-self: flex-start;\n",
              "  width: 50%;\n",
              "}\n",
              "\n",
              "#sk-container-id-1 div.sk-parallel-item:only-child::after {\n",
              "  width: 0;\n",
              "}\n",
              "\n",
              "/* Serial-specific style estimator block */\n",
              "\n",
              "#sk-container-id-1 div.sk-serial {\n",
              "  display: flex;\n",
              "  flex-direction: column;\n",
              "  align-items: center;\n",
              "  background-color: var(--sklearn-color-background);\n",
              "  padding-right: 1em;\n",
              "  padding-left: 1em;\n",
              "}\n",
              "\n",
              "\n",
              "/* Toggleable style: style used for estimator/Pipeline/ColumnTransformer box that is\n",
              "clickable and can be expanded/collapsed.\n",
              "- Pipeline and ColumnTransformer use this feature and define the default style\n",
              "- Estimators will overwrite some part of the style using the `sk-estimator` class\n",
              "*/\n",
              "\n",
              "/* Pipeline and ColumnTransformer style (default) */\n",
              "\n",
              "#sk-container-id-1 div.sk-toggleable {\n",
              "  /* Default theme specific background. It is overwritten whether we have a\n",
              "  specific estimator or a Pipeline/ColumnTransformer */\n",
              "  background-color: var(--sklearn-color-background);\n",
              "}\n",
              "\n",
              "/* Toggleable label */\n",
              "#sk-container-id-1 label.sk-toggleable__label {\n",
              "  cursor: pointer;\n",
              "  display: flex;\n",
              "  width: 100%;\n",
              "  margin-bottom: 0;\n",
              "  padding: 0.5em;\n",
              "  box-sizing: border-box;\n",
              "  text-align: center;\n",
              "  align-items: start;\n",
              "  justify-content: space-between;\n",
              "  gap: 0.5em;\n",
              "}\n",
              "\n",
              "#sk-container-id-1 label.sk-toggleable__label .caption {\n",
              "  font-size: 0.6rem;\n",
              "  font-weight: lighter;\n",
              "  color: var(--sklearn-color-text-muted);\n",
              "}\n",
              "\n",
              "#sk-container-id-1 label.sk-toggleable__label-arrow:before {\n",
              "  /* Arrow on the left of the label */\n",
              "  content: \"▸\";\n",
              "  float: left;\n",
              "  margin-right: 0.25em;\n",
              "  color: var(--sklearn-color-icon);\n",
              "}\n",
              "\n",
              "#sk-container-id-1 label.sk-toggleable__label-arrow:hover:before {\n",
              "  color: var(--sklearn-color-text);\n",
              "}\n",
              "\n",
              "/* Toggleable content - dropdown */\n",
              "\n",
              "#sk-container-id-1 div.sk-toggleable__content {\n",
              "  max-height: 0;\n",
              "  max-width: 0;\n",
              "  overflow: hidden;\n",
              "  text-align: left;\n",
              "  /* unfitted */\n",
              "  background-color: var(--sklearn-color-unfitted-level-0);\n",
              "}\n",
              "\n",
              "#sk-container-id-1 div.sk-toggleable__content.fitted {\n",
              "  /* fitted */\n",
              "  background-color: var(--sklearn-color-fitted-level-0);\n",
              "}\n",
              "\n",
              "#sk-container-id-1 div.sk-toggleable__content pre {\n",
              "  margin: 0.2em;\n",
              "  border-radius: 0.25em;\n",
              "  color: var(--sklearn-color-text);\n",
              "  /* unfitted */\n",
              "  background-color: var(--sklearn-color-unfitted-level-0);\n",
              "}\n",
              "\n",
              "#sk-container-id-1 div.sk-toggleable__content.fitted pre {\n",
              "  /* unfitted */\n",
              "  background-color: var(--sklearn-color-fitted-level-0);\n",
              "}\n",
              "\n",
              "#sk-container-id-1 input.sk-toggleable__control:checked~div.sk-toggleable__content {\n",
              "  /* Expand drop-down */\n",
              "  max-height: 200px;\n",
              "  max-width: 100%;\n",
              "  overflow: auto;\n",
              "}\n",
              "\n",
              "#sk-container-id-1 input.sk-toggleable__control:checked~label.sk-toggleable__label-arrow:before {\n",
              "  content: \"▾\";\n",
              "}\n",
              "\n",
              "/* Pipeline/ColumnTransformer-specific style */\n",
              "\n",
              "#sk-container-id-1 div.sk-label input.sk-toggleable__control:checked~label.sk-toggleable__label {\n",
              "  color: var(--sklearn-color-text);\n",
              "  background-color: var(--sklearn-color-unfitted-level-2);\n",
              "}\n",
              "\n",
              "#sk-container-id-1 div.sk-label.fitted input.sk-toggleable__control:checked~label.sk-toggleable__label {\n",
              "  background-color: var(--sklearn-color-fitted-level-2);\n",
              "}\n",
              "\n",
              "/* Estimator-specific style */\n",
              "\n",
              "/* Colorize estimator box */\n",
              "#sk-container-id-1 div.sk-estimator input.sk-toggleable__control:checked~label.sk-toggleable__label {\n",
              "  /* unfitted */\n",
              "  background-color: var(--sklearn-color-unfitted-level-2);\n",
              "}\n",
              "\n",
              "#sk-container-id-1 div.sk-estimator.fitted input.sk-toggleable__control:checked~label.sk-toggleable__label {\n",
              "  /* fitted */\n",
              "  background-color: var(--sklearn-color-fitted-level-2);\n",
              "}\n",
              "\n",
              "#sk-container-id-1 div.sk-label label.sk-toggleable__label,\n",
              "#sk-container-id-1 div.sk-label label {\n",
              "  /* The background is the default theme color */\n",
              "  color: var(--sklearn-color-text-on-default-background);\n",
              "}\n",
              "\n",
              "/* On hover, darken the color of the background */\n",
              "#sk-container-id-1 div.sk-label:hover label.sk-toggleable__label {\n",
              "  color: var(--sklearn-color-text);\n",
              "  background-color: var(--sklearn-color-unfitted-level-2);\n",
              "}\n",
              "\n",
              "/* Label box, darken color on hover, fitted */\n",
              "#sk-container-id-1 div.sk-label.fitted:hover label.sk-toggleable__label.fitted {\n",
              "  color: var(--sklearn-color-text);\n",
              "  background-color: var(--sklearn-color-fitted-level-2);\n",
              "}\n",
              "\n",
              "/* Estimator label */\n",
              "\n",
              "#sk-container-id-1 div.sk-label label {\n",
              "  font-family: monospace;\n",
              "  font-weight: bold;\n",
              "  display: inline-block;\n",
              "  line-height: 1.2em;\n",
              "}\n",
              "\n",
              "#sk-container-id-1 div.sk-label-container {\n",
              "  text-align: center;\n",
              "}\n",
              "\n",
              "/* Estimator-specific */\n",
              "#sk-container-id-1 div.sk-estimator {\n",
              "  font-family: monospace;\n",
              "  border: 1px dotted var(--sklearn-color-border-box);\n",
              "  border-radius: 0.25em;\n",
              "  box-sizing: border-box;\n",
              "  margin-bottom: 0.5em;\n",
              "  /* unfitted */\n",
              "  background-color: var(--sklearn-color-unfitted-level-0);\n",
              "}\n",
              "\n",
              "#sk-container-id-1 div.sk-estimator.fitted {\n",
              "  /* fitted */\n",
              "  background-color: var(--sklearn-color-fitted-level-0);\n",
              "}\n",
              "\n",
              "/* on hover */\n",
              "#sk-container-id-1 div.sk-estimator:hover {\n",
              "  /* unfitted */\n",
              "  background-color: var(--sklearn-color-unfitted-level-2);\n",
              "}\n",
              "\n",
              "#sk-container-id-1 div.sk-estimator.fitted:hover {\n",
              "  /* fitted */\n",
              "  background-color: var(--sklearn-color-fitted-level-2);\n",
              "}\n",
              "\n",
              "/* Specification for estimator info (e.g. \"i\" and \"?\") */\n",
              "\n",
              "/* Common style for \"i\" and \"?\" */\n",
              "\n",
              ".sk-estimator-doc-link,\n",
              "a:link.sk-estimator-doc-link,\n",
              "a:visited.sk-estimator-doc-link {\n",
              "  float: right;\n",
              "  font-size: smaller;\n",
              "  line-height: 1em;\n",
              "  font-family: monospace;\n",
              "  background-color: var(--sklearn-color-background);\n",
              "  border-radius: 1em;\n",
              "  height: 1em;\n",
              "  width: 1em;\n",
              "  text-decoration: none !important;\n",
              "  margin-left: 0.5em;\n",
              "  text-align: center;\n",
              "  /* unfitted */\n",
              "  border: var(--sklearn-color-unfitted-level-1) 1pt solid;\n",
              "  color: var(--sklearn-color-unfitted-level-1);\n",
              "}\n",
              "\n",
              ".sk-estimator-doc-link.fitted,\n",
              "a:link.sk-estimator-doc-link.fitted,\n",
              "a:visited.sk-estimator-doc-link.fitted {\n",
              "  /* fitted */\n",
              "  border: var(--sklearn-color-fitted-level-1) 1pt solid;\n",
              "  color: var(--sklearn-color-fitted-level-1);\n",
              "}\n",
              "\n",
              "/* On hover */\n",
              "div.sk-estimator:hover .sk-estimator-doc-link:hover,\n",
              ".sk-estimator-doc-link:hover,\n",
              "div.sk-label-container:hover .sk-estimator-doc-link:hover,\n",
              ".sk-estimator-doc-link:hover {\n",
              "  /* unfitted */\n",
              "  background-color: var(--sklearn-color-unfitted-level-3);\n",
              "  color: var(--sklearn-color-background);\n",
              "  text-decoration: none;\n",
              "}\n",
              "\n",
              "div.sk-estimator.fitted:hover .sk-estimator-doc-link.fitted:hover,\n",
              ".sk-estimator-doc-link.fitted:hover,\n",
              "div.sk-label-container:hover .sk-estimator-doc-link.fitted:hover,\n",
              ".sk-estimator-doc-link.fitted:hover {\n",
              "  /* fitted */\n",
              "  background-color: var(--sklearn-color-fitted-level-3);\n",
              "  color: var(--sklearn-color-background);\n",
              "  text-decoration: none;\n",
              "}\n",
              "\n",
              "/* Span, style for the box shown on hovering the info icon */\n",
              ".sk-estimator-doc-link span {\n",
              "  display: none;\n",
              "  z-index: 9999;\n",
              "  position: relative;\n",
              "  font-weight: normal;\n",
              "  right: .2ex;\n",
              "  padding: .5ex;\n",
              "  margin: .5ex;\n",
              "  width: min-content;\n",
              "  min-width: 20ex;\n",
              "  max-width: 50ex;\n",
              "  color: var(--sklearn-color-text);\n",
              "  box-shadow: 2pt 2pt 4pt #999;\n",
              "  /* unfitted */\n",
              "  background: var(--sklearn-color-unfitted-level-0);\n",
              "  border: .5pt solid var(--sklearn-color-unfitted-level-3);\n",
              "}\n",
              "\n",
              ".sk-estimator-doc-link.fitted span {\n",
              "  /* fitted */\n",
              "  background: var(--sklearn-color-fitted-level-0);\n",
              "  border: var(--sklearn-color-fitted-level-3);\n",
              "}\n",
              "\n",
              ".sk-estimator-doc-link:hover span {\n",
              "  display: block;\n",
              "}\n",
              "\n",
              "/* \"?\"-specific style due to the `<a>` HTML tag */\n",
              "\n",
              "#sk-container-id-1 a.estimator_doc_link {\n",
              "  float: right;\n",
              "  font-size: 1rem;\n",
              "  line-height: 1em;\n",
              "  font-family: monospace;\n",
              "  background-color: var(--sklearn-color-background);\n",
              "  border-radius: 1rem;\n",
              "  height: 1rem;\n",
              "  width: 1rem;\n",
              "  text-decoration: none;\n",
              "  /* unfitted */\n",
              "  color: var(--sklearn-color-unfitted-level-1);\n",
              "  border: var(--sklearn-color-unfitted-level-1) 1pt solid;\n",
              "}\n",
              "\n",
              "#sk-container-id-1 a.estimator_doc_link.fitted {\n",
              "  /* fitted */\n",
              "  border: var(--sklearn-color-fitted-level-1) 1pt solid;\n",
              "  color: var(--sklearn-color-fitted-level-1);\n",
              "}\n",
              "\n",
              "/* On hover */\n",
              "#sk-container-id-1 a.estimator_doc_link:hover {\n",
              "  /* unfitted */\n",
              "  background-color: var(--sklearn-color-unfitted-level-3);\n",
              "  color: var(--sklearn-color-background);\n",
              "  text-decoration: none;\n",
              "}\n",
              "\n",
              "#sk-container-id-1 a.estimator_doc_link.fitted:hover {\n",
              "  /* fitted */\n",
              "  background-color: var(--sklearn-color-fitted-level-3);\n",
              "}\n",
              "</style><div id=\"sk-container-id-1\" class=\"sk-top-container\"><div class=\"sk-text-repr-fallback\"><pre>KMeans(n_clusters=5, random_state=42)</pre><b>In a Jupyter environment, please rerun this cell to show the HTML representation or trust the notebook. <br />On GitHub, the HTML representation is unable to render, please try loading this page with nbviewer.org.</b></div><div class=\"sk-container\" hidden><div class=\"sk-item\"><div class=\"sk-estimator fitted sk-toggleable\"><input class=\"sk-toggleable__control sk-hidden--visually\" id=\"sk-estimator-id-1\" type=\"checkbox\" checked><label for=\"sk-estimator-id-1\" class=\"sk-toggleable__label fitted sk-toggleable__label-arrow\"><div><div>KMeans</div></div><div><a class=\"sk-estimator-doc-link fitted\" rel=\"noreferrer\" target=\"_blank\" href=\"https://scikit-learn.org/1.6/modules/generated/sklearn.cluster.KMeans.html\">?<span>Documentation for KMeans</span></a><span class=\"sk-estimator-doc-link fitted\">i<span>Fitted</span></span></div></label><div class=\"sk-toggleable__content fitted\"><pre>KMeans(n_clusters=5, random_state=42)</pre></div> </div></div></div></div>"
            ],
            "text/plain": [
              "KMeans(n_clusters=5, random_state=42)"
            ]
          },
          "execution_count": 27,
          "metadata": {},
          "output_type": "execute_result"
        }
      ],
      "source": [
        "kmeans = KMeans(n_clusters = 5, init = 'k-means++', random_state = 42)\n",
        "kmeans.fit(X_scaled_new)"
      ]
    },
    {
      "cell_type": "markdown",
      "metadata": {},
      "source": [
        "## Prediction"
      ]
    },
    {
      "cell_type": "code",
      "execution_count": 28,
      "metadata": {},
      "outputs": [],
      "source": [
        "y_kmeans = kmeans.predict(X_scaled_new)"
      ]
    },
    {
      "cell_type": "code",
      "execution_count": 29,
      "metadata": {},
      "outputs": [
        {
          "name": "stdout",
          "output_type": "stream",
          "text": [
            "[3 4 0 0 1 1 3 2 3 4 2 0 0 3 2 3 3 4 1 3 1 1 3 4 0 2 2 4 3 4 0 2 0 0 3 0 2\n",
            " 0 2 0 2 0 4 3 3 0 3 1 0 1 3 0 4 4 2 0 2 3 1 3 3 1 1 3 1 0 0 3 3 0 0 3 1 0\n",
            " 3 2 4 0 1 1 1 4 0 0 0 3 0 3 0 2 0 2 1 0 0 4 4 0 2 3]\n"
          ]
        }
      ],
      "source": [
        "print(y_kmeans)"
      ]
    },
    {
      "cell_type": "code",
      "execution_count": 30,
      "metadata": {},
      "outputs": [
        {
          "name": "stdout",
          "output_type": "stream",
          "text": [
            "100\n"
          ]
        }
      ],
      "source": [
        "print(len(y_kmeans))"
      ]
    },
    {
      "cell_type": "markdown",
      "metadata": {},
      "source": [
        "## Visualising the clusters"
      ]
    },
    {
      "cell_type": "code",
      "execution_count": 31,
      "metadata": {},
      "outputs": [
        {
          "data": {
            "image/png": "[encoded data removed]",
            "text/plain": [
              "<Figure size 1000x500 with 2 Axes>"
            ]
          },
          "metadata": {},
          "output_type": "display_data"
        }
      ],
      "source": [
        "import matplotlib.pyplot as plt\n",
        "import numpy as np\n",
        "\n",
        "# Jitter y-values for better separation\n",
        "y_jitter = np.random.normal(0, 0.02, size=len(df))\n",
        "\n",
        "plt.figure(figsize=(10, 5))\n",
        "scatter = plt.scatter(X_scaled_new, y_jitter, c=y_kmeans, cmap='Set2')\n",
        "plt.xlabel(\"Age\")\n",
        "plt.yticks([])  # hide y-axis since it's meaningless\n",
        "plt.title(\"1D Age Clustering Visualized in 2D\")\n",
        "plt.colorbar(scatter, label=\"Cluster\")\n",
        "plt.show()\n"
      ]
    },
    {
      "cell_type": "markdown",
      "metadata": {},
      "source": [
        "### Saving the output as new table"
      ]
    },
    {
      "cell_type": "code",
      "execution_count": 32,
      "metadata": {},
      "outputs": [],
      "source": [
        "df_new = df.copy()"
      ]
    },
    {
      "cell_type": "code",
      "execution_count": 33,
      "metadata": {},
      "outputs": [],
      "source": [
        "df_new['Cluster_label'] = y_kmeans\n"
      ]
    },
    {
      "cell_type": "code",
      "execution_count": 34,
      "metadata": {},
      "outputs": [
        {
          "name": "stdout",
          "output_type": "stream",
          "text": [
            "                 Current_Role  Zip_Code  Employee_ID  Employee_Annual_Salary  \\\n",
            "0    Senior Software Engineer     94103           57                  130800   \n",
            "1    Associate Data Scientist     94111           58                   74250   \n",
            "2   Associate Product Manager     10009           59                  125850   \n",
            "3            Business Analyst     60605           60                   84750   \n",
            "4     Chief Operating Officer      2101           61                  300000   \n",
            "..                        ...       ...          ...                     ...   \n",
            "95           Technical Writer     98103          152                   88100   \n",
            "96                UX Designer     78723          153                   95900   \n",
            "97              UX Researcher     78712          154                   88100   \n",
            "98              UX Researcher     78703          155                   87800   \n",
            "99           VP of Technology     98109          156                  300000   \n",
            "\n",
            "    Monthly_Medical_contribution  Monthly_Dental_Contribution  \\\n",
            "0                            130                           35   \n",
            "1                            105                           30   \n",
            "2                            130                           35   \n",
            "3                            105                           30   \n",
            "4                            230                           55   \n",
            "..                           ...                          ...   \n",
            "95                           105                           30   \n",
            "96                           105                           30   \n",
            "97                           105                           30   \n",
            "98                           105                           30   \n",
            "99                           230                           55   \n",
            "\n",
            "    Monthly_Vision_Contribution  Bonus  Years_Of_Service    Department  \\\n",
            "0                            19  13865               5.2   Engineering   \n",
            "1                            17   4344               1.7  Data Science   \n",
            "2                            19  15920               1.3       Product   \n",
            "3                            17   5890               3.9       Finance   \n",
            "4                            27  90000              15.2     Executive   \n",
            "..                          ...    ...               ...           ...   \n",
            "95                           17   5594               2.7   Engineering   \n",
            "96                           17   7336               5.3        Design   \n",
            "97                           17   5594               2.7        Design   \n",
            "98                           17   5531               2.6        Design   \n",
            "99                           27  90000              12.3     Executive   \n",
            "\n",
            "        Gender  Employee_HR_rate  Hours_per_week  Years_Since_Last_Promotion  \\\n",
            "0         Male                60              40                    2.814511   \n",
            "1   Non-Binary               117              40                    1.577002   \n",
            "2   Non-Binary               147              40                    1.259411   \n",
            "3       Female               153              40                    2.310746   \n",
            "4       Female                79              40                    5.796030   \n",
            "..         ...               ...             ...                         ...   \n",
            "95        Male               151              40                    1.716632   \n",
            "96      Female                86              40                    2.729637   \n",
            "97        Male                74              40                    2.162902   \n",
            "98        Male               121              40                    1.648186   \n",
            "99      Female                67              40                    3.972621   \n",
            "\n",
            "    age  left  Cluster_label  \n",
            "0    34     0              3  \n",
            "1    29     0              4  \n",
            "2    31     0              0  \n",
            "3    31     0              0  \n",
            "4    41     1              1  \n",
            "..  ...   ...            ...  \n",
            "95   28     0              4  \n",
            "96   28     0              4  \n",
            "97   31     0              0  \n",
            "98   24     0              2  \n",
            "99   35     0              3  \n",
            "\n",
            "[100 rows x 17 columns]\n"
          ]
        }
      ],
      "source": [
        "print(df_new)"
      ]
    },
    {
      "cell_type": "code",
      "execution_count": 35,
      "metadata": {},
      "outputs": [
        {
          "name": "stdout",
          "output_type": "stream",
          "text": [
            "(100, 17)\n"
          ]
        }
      ],
      "source": [
        "print(df_new.shape)"
      ]
    },
    {
      "cell_type": "code",
      "execution_count": 36,
      "metadata": {},
      "outputs": [],
      "source": [
        "# Create the folder if it doesn't exist\n",
        "os.makedirs(\"2_9_am_workday_cluster_updated_data\", exist_ok=True)\n",
        "\n",
        "# Save the Excel file inside the folder\n",
        "df_new.to_csv(\"2_9_am_workday_cluster_updated_data/2_9_am_workday_cluster_updated_data.csv\", index=False)"
      ]
    },
    {
      "cell_type": "code",
      "execution_count": 37,
      "metadata": {},
      "outputs": [],
      "source": [
        "# spark_df = spark.createDataFrame(df_new)\n",
        "# spark_df.write.mode(\"overwrite\").saveAsTable(\"sd_bdc_demo.k_cluster_age_years_since_last_promotion.2_9_am_workday_cluster_updated_data\")"
      ]
    },
    {
      "cell_type": "markdown",
      "metadata": {},
      "source": [
        "### Saving selected columns as the output of new table"
      ]
    },
    {
      "cell_type": "code",
      "execution_count": 38,
      "metadata": {},
      "outputs": [],
      "source": [
        "df_selected = df_new[['Employee_ID', 'Cluster_label', 'age']]\n"
      ]
    },
    {
      "cell_type": "code",
      "execution_count": 39,
      "metadata": {},
      "outputs": [],
      "source": [
        "# Create the folder if it doesn't exist\n",
        "os.makedirs(\"2_3_am_workday_cluster_label_vs_age_data\", exist_ok=True)\n",
        "\n",
        "# Save the Excel file inside the folder\n",
        "df_selected.to_csv(\"2_3_am_workday_cluster_label_vs_age_data/2_3_am_workday_cluster_label_vs_age_data.csv\", index=False)"
      ]
    },
    {
      "cell_type": "code",
      "execution_count": 40,
      "metadata": {},
      "outputs": [],
      "source": [
        "# spark_df = spark.createDataFrame(df_selected)\n",
        "# spark_df.write.mode(\"overwrite\").saveAsTable(\"sd_bdc_demo.k_cluster_age_years_since_last_promotion.2_3_am_workday_cluster_label_vs_age_data\")"
      ]
    },
    {
      "cell_type": "markdown",
      "metadata": {},
      "source": [
        "### Saving the output data cluster wise"
      ]
    },
    {
      "cell_type": "code",
      "execution_count": 41,
      "metadata": {},
      "outputs": [],
      "source": [
        "df_cluster_0 = df_new[df_new['Cluster_label'] == 0].drop(columns=['Cluster_label'])\n",
        "df_cluster_1 = df_new[df_new['Cluster_label'] == 1].drop(columns=['Cluster_label'])\n",
        "df_cluster_2 = df_new[df_new['Cluster_label'] == 2].drop(columns=['Cluster_label'])\n",
        "df_cluster_3 = df_new[df_new['Cluster_label'] == 3].drop(columns=['Cluster_label'])\n",
        "df_cluster_4 = df_new[df_new['Cluster_label'] == 4].drop(columns=['Cluster_label'])\n"
      ]
    },
    {
      "cell_type": "code",
      "execution_count": 42,
      "metadata": {},
      "outputs": [
        {
          "name": "stdout",
          "output_type": "stream",
          "text": [
            "(31, 16)\n"
          ]
        }
      ],
      "source": [
        "print(df_cluster_0.shape)"
      ]
    },
    {
      "cell_type": "code",
      "execution_count": 43,
      "metadata": {},
      "outputs": [],
      "source": [
        "# Create the folder if it doesn't exist\n",
        "os.makedirs(\"2_4_am_workday_cluster_0_updated_data\", exist_ok=True)\n",
        "\n",
        "# Save the Excel file inside the folder\n",
        "df_cluster_0.to_csv(\"2_4_am_workday_cluster_0_updated_data/2_4_am_workday_cluster_0_updated_data.csv\", index=False)"
      ]
    },
    {
      "cell_type": "code",
      "execution_count": 44,
      "metadata": {},
      "outputs": [],
      "source": [
        "# spark_df = spark.createDataFrame(df_cluster_0)\n",
        "# spark_df.write.mode(\"overwrite\").saveAsTable(\"sd_bdc_demo.k_cluster_age_years_since_last_promotion.2_4_am_workday_cluster_0_updated_data\")"
      ]
    },
    {
      "cell_type": "code",
      "execution_count": 45,
      "metadata": {},
      "outputs": [],
      "source": [
        "# Create the folder if it doesn't exist\n",
        "os.makedirs(\"2_5_am_workday_cluster_1_updated_data\", exist_ok=True)\n",
        "\n",
        "# Save the Excel file inside the folder\n",
        "df_cluster_1.to_csv(\"2_5_am_workday_cluster_1_updated_data/2_5_am_workday_cluster_1_updated_data.csv\", index=False)"
      ]
    },
    {
      "cell_type": "code",
      "execution_count": 46,
      "metadata": {},
      "outputs": [],
      "source": [
        "# spark_df = spark.createDataFrame(df_cluster_1)\n",
        "# spark_df.write.mode(\"overwrite\").saveAsTable(\"sd_bdc_demo.k_cluster_age_years_since_last_promotion.2_5_am_workday_cluster_1_updated_data\")"
      ]
    },
    {
      "cell_type": "code",
      "execution_count": 47,
      "metadata": {},
      "outputs": [],
      "source": [
        "# Create the folder if it doesn't exist\n",
        "os.makedirs(\"2_6_am_workday_cluster_2_updated_data\", exist_ok=True)\n",
        "\n",
        "# Save the Excel file inside the folder\n",
        "df_cluster_2.to_csv(\"2_6_am_workday_cluster_2_updated_data/2_6_am_workday_cluster_2_updated_data.csv\", index=False)"
      ]
    },
    {
      "cell_type": "code",
      "execution_count": 48,
      "metadata": {},
      "outputs": [],
      "source": [
        "# spark_df = spark.createDataFrame(df_cluster_2)\n",
        "# spark_df.write.mode(\"overwrite\").saveAsTable(\"sd_bdc_demo.k_cluster_age_years_since_last_promotion.2_6_am_workday_cluster_2_updated_data\")"
      ]
    },
    {
      "cell_type": "code",
      "execution_count": 49,
      "metadata": {},
      "outputs": [],
      "source": [
        "# Create the folder if it doesn't exist\n",
        "os.makedirs(\"2_7_am_workday_cluster_3_updated_data\", exist_ok=True)\n",
        "\n",
        "# Save the Excel file inside the folder\n",
        "df_cluster_3.to_csv(\"2_7_am_workday_cluster_3_updated_data/2_7_am_workday_cluster_3_updated_data.csv\", index=False)"
      ]
    },
    {
      "cell_type": "code",
      "execution_count": 50,
      "metadata": {},
      "outputs": [],
      "source": [
        "# spark_df = spark.createDataFrame(df_cluster_3)\n",
        "# spark_df.write.mode(\"overwrite\").saveAsTable(\"sd_bdc_demo.k_cluster_age_years_since_last_promotion.2_7_am_workday_cluster_3_updated_data\")"
      ]
    },
    {
      "cell_type": "code",
      "execution_count": 51,
      "metadata": {},
      "outputs": [],
      "source": [
        "# Create the folder if it doesn't exist\n",
        "os.makedirs(\"2_8_am_workday_cluster_4_updated_data\", exist_ok=True)\n",
        "\n",
        "# Save the Excel file inside the folder\n",
        "df_cluster_4.to_csv(\"2_8_am_workday_cluster_4_updated_data/2_8_am_workday_cluster_4_updated_data.csv\", index=False)"
      ]
    },
    {
      "cell_type": "code",
      "execution_count": 52,
      "metadata": {},
      "outputs": [],
      "source": [
        "# spark_df = spark.createDataFrame(df_cluster_4)\n",
        "# spark_df.write.mode(\"overwrite\").saveAsTable(\"sd_bdc_demo.k_cluster_age_years_since_last_promotion.2_8_am_workday_cluster_4_updated_data\")"
      ]
    },
    {
      "cell_type": "markdown",
      "metadata": {},
      "source": [
        "## Insights"
      ]
    },
    {
      "cell_type": "code",
      "execution_count": 53,
      "metadata": {},
      "outputs": [
        {
          "data": {
            "text/plain": [
              "<Axes: xlabel='Cluster_label', ylabel='age'>"
            ]
          },
          "execution_count": 53,
          "metadata": {},
          "output_type": "execute_result"
        },
        {
          "data": {
            "image/png": "[encoded data removed]",
            "text/plain": [
              "<Figure size 640x480 with 1 Axes>"
            ]
          },
          "metadata": {},
          "output_type": "display_data"
        }
      ],
      "source": [
        "# Compare age distributions visually\n",
        "import seaborn as sns\n",
        "sns.boxplot(x='Cluster_label', y='age', data=df_new)"
      ]
    },
    {
      "cell_type": "code",
      "execution_count": 54,
      "metadata": {},
      "outputs": [
        {
          "name": "stdout",
          "output_type": "stream",
          "text": [
            "   Cluster_label  Employee_Annual_Salary  Monthly_Medical_contribution  \\\n",
            "0              0           112872.580645                    119.516129   \n",
            "1              1           192312.500000                    162.812500   \n",
            "2              2            86073.333333                    106.666667   \n",
            "3              3           147904.000000                    138.000000   \n",
            "4              4            99561.538462                    112.692308   \n",
            "\n",
            "   Monthly_Dental_Contribution  Monthly_Vision_Contribution         Bonus  \\\n",
            "0                    32.903226                    18.161290  12146.548387   \n",
            "1                    41.562500                    21.625000  39061.062500   \n",
            "2                    30.333333                    17.133333   5933.866667   \n",
            "3                    36.600000                    19.640000  23213.320000   \n",
            "4                    31.538462                    17.615385   8823.846154   \n",
            "\n",
            "   Years_Of_Service  Employee_HR_rate  Hours_per_week  \\\n",
            "0          5.132258        114.225806            40.0   \n",
            "1          9.225000        103.750000            40.0   \n",
            "2          3.026667        120.800000            40.0   \n",
            "3          6.832000        104.520000            40.0   \n",
            "4          3.438462        101.846154            40.0   \n",
            "\n",
            "   Years_Since_Last_Promotion        age      left  \n",
            "0                    3.110993  31.000000  0.096774  \n",
            "1                    4.536619  37.625000  0.312500  \n",
            "2                    1.935661  25.800000  0.000000  \n",
            "3                    3.522957  33.720000  0.120000  \n",
            "4                    2.118675  28.384615  0.000000  \n"
          ]
        }
      ],
      "source": [
        "selected_cols = [\n",
        "                    'Employee_Annual_Salary', 'Monthly_Medical_contribution',\n",
        "                    'Monthly_Dental_Contribution', 'Monthly_Vision_Contribution', 'Bonus',\n",
        "                    'Years_Of_Service', 'Employee_HR_rate', 'Hours_per_week',\n",
        "                    'Years_Since_Last_Promotion', 'age', 'left'\n",
        "                ]\n",
        "cluster_avg = df_new.groupby('Cluster_label')[selected_cols].mean().reset_index()\n",
        "print(cluster_avg)\n"
      ]
    },
    {
      "cell_type": "code",
      "execution_count": 55,
      "metadata": {},
      "outputs": [
        {
          "name": "stdout",
          "output_type": "stream",
          "text": [
            "<class 'pandas.core.frame.DataFrame'>\n"
          ]
        }
      ],
      "source": [
        "print(type(cluster_avg))"
      ]
    },
    {
      "cell_type": "markdown",
      "metadata": {},
      "source": [
        "### Saving the insights as new table"
      ]
    },
    {
      "cell_type": "code",
      "execution_count": 56,
      "metadata": {},
      "outputs": [],
      "source": [
        "# Create the folder if it doesn't exist\n",
        "os.makedirs(\"2_2_am_workday_cluster_insight_data\", exist_ok=True)\n",
        "\n",
        "# Save the Excel file inside the folder\n",
        "cluster_avg.to_csv(\"2_2_am_workday_cluster_insight_data/2_2_am_workday_cluster_insight_data.csv\", index=False)"
      ]
    },
    {
      "cell_type": "code",
      "execution_count": 57,
      "metadata": {},
      "outputs": [],
      "source": [
        "# spark_df = spark.createDataFrame(cluster_avg)\n",
        "# spark_df.write.mode(\"overwrite\").saveAsTable(\"sd_bdc_demo.k_cluster_age_years_since_last_promotion.2_2_am_workday_cluster_insight_data\")"
      ]
    },
    {
      "cell_type": "code",
      "execution_count": null,
      "metadata": {},
      "outputs": [],
      "source": []
    }
  ],
  "metadata": {
    "colab": {
      "collapsed_sections": [],
      "name": "data_preprocessing_tools.ipynb",
      "provenance": [],
      "toc_visible": true
    },
    "kernelspec": {
      "display_name": ".venv",
      "language": "python",
      "name": "python3"
    },
    "language_info": {
      "codemirror_mode": {
        "name": "ipython",
        "version": 3
      },
      "file_extension": ".py",
      "mimetype": "text/x-python",
      "name": "python",
      "nbconvert_exporter": "python",
      "pygments_lexer": "ipython3",
      "version": "3.13.3"
    }
  },
  "nbformat": 4,
  "nbformat_minor": 0
}
