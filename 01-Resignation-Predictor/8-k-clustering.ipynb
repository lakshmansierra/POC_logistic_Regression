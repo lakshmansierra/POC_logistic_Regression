{
 "cells": [
  {
   "cell_type": "markdown",
   "metadata": {
    "application/vnd.databricks.v1+cell": {
     "cellMetadata": {
      "byteLimit": 2048000,
      "rowLimit": 10000
     },
     "inputWidgets": {},
     "nuid": "fd79661f-7794-43ac-ab32-147eabeab0c2",
     "showTitle": false,
     "tableResultSettingsMap": {},
     "title": ""
    },
    "colab_type": "text",
    "id": "37puETfgRzzg"
   },
   "source": [
    "# Logistic Regression"
   ]
  },
  {
   "cell_type": "markdown",
   "metadata": {
    "application/vnd.databricks.v1+cell": {
     "cellMetadata": {
      "byteLimit": 2048000,
      "rowLimit": 10000
     },
     "inputWidgets": {},
     "nuid": "c98b6294-6a85-4afc-b7f5-cf32090065c9",
     "showTitle": false,
     "tableResultSettingsMap": {},
     "title": ""
    },
    "colab_type": "text",
    "id": "EoRP98MpR-qj"
   },
   "source": [
    "## Importing the libraries"
   ]
  },
  {
   "cell_type": "code",
   "execution_count": 0,
   "metadata": {
    "application/vnd.databricks.v1+cell": {
     "cellMetadata": {
      "byteLimit": 2048000,
      "rowLimit": 10000
     },
     "inputWidgets": {},
     "nuid": "0e6c0296-dd46-4256-9cc5-be63950cd0a0",
     "showTitle": false,
     "tableResultSettingsMap": {},
     "title": ""
    },
    "colab": {},
    "colab_type": "code",
    "id": "N-qiINBQSK2g"
   },
   "outputs": [],
   "source": [
    "import os\n",
    "import numpy as np\n",
    "import matplotlib.pyplot as plt\n",
    "import pandas as pd"
   ]
  },
  {
   "cell_type": "markdown",
   "metadata": {
    "application/vnd.databricks.v1+cell": {
     "cellMetadata": {
      "byteLimit": 2048000,
      "rowLimit": 10000
     },
     "inputWidgets": {},
     "nuid": "4babadb7-b599-40b4-a776-b5c47fc3b824",
     "showTitle": false,
     "tableResultSettingsMap": {},
     "title": ""
    },
    "colab_type": "text",
    "id": "RopL7tUZSQkT"
   },
   "source": [
    "## Importing the dataset"
   ]
  },
  {
   "cell_type": "code",
   "execution_count": 0,
   "metadata": {
    "application/vnd.databricks.v1+cell": {
     "cellMetadata": {
      "byteLimit": 2048000,
      "rowLimit": 10000
     },
     "inputWidgets": {},
     "nuid": "083456a0-f8b9-42aa-b9a3-de49240f8e4b",
     "showTitle": false,
     "tableResultSettingsMap": {},
     "title": ""
    }
   },
   "outputs": [
    {
     "output_type": "display_data",
     "data": {
      "text/html": [
       "<style scoped>\n",
       "  .table-result-container {\n",
       "    max-height: 300px;\n",
       "    overflow: auto;\n",
       "  }\n",
       "  table, th, td {\n",
       "    border: 1px solid black;\n",
       "    border-collapse: collapse;\n",
       "  }\n",
       "  th, td {\n",
       "    padding: 5px;\n",
       "  }\n",
       "  th {\n",
       "    text-align: left;\n",
       "  }\n",
       "</style><div class='table-result-container'><table class='table-result'><thead style='background-color: white'><tr><th>Current_Role</th><th>Zip_Code</th><th>Employee_ID</th><th>Employee_Annual_Salary</th><th>Monthly_Medical_contribution</th><th>Monthly_Dental_Contribution</th><th>Monthly_Vision_Contribution</th><th>Bonus</th><th>Years_Of_Service</th><th>Department</th><th>Gender</th><th>Employee_HR_rate</th><th>Hours_per_week</th><th>Years_Since_Last_Promotion</th><th>age</th><th>left</th></tr></thead><tbody><tr><td>Senior Software Engineer</td><td>94103</td><td>57</td><td>130800</td><td>130</td><td>35</td><td>19</td><td>13865</td><td>5.2</td><td>Engineering</td><td>Male</td><td>60</td><td>40</td><td>2.806297057</td><td>34</td><td>0</td></tr><tr><td>Associate Data Scientist</td><td>94111</td><td>58</td><td>74250</td><td>105</td><td>30</td><td>17</td><td>4344</td><td>1.7</td><td>Data Science</td><td>Non-Binary</td><td>117</td><td>40</td><td>1.568788501</td><td>29</td><td>0</td></tr><tr><td>Associate Product Manager</td><td>10009</td><td>59</td><td>125850</td><td>130</td><td>35</td><td>19</td><td>15920</td><td>1.3</td><td>Product</td><td>Non-Binary</td><td>147</td><td>40</td><td>1.25119781</td><td>31</td><td>0</td></tr><tr><td>Business Analyst</td><td>60605</td><td>60</td><td>84750</td><td>105</td><td>30</td><td>17</td><td>5890</td><td>3.9</td><td>Finance</td><td>Female</td><td>153</td><td>40</td><td>2.302532512</td><td>31</td><td>0</td></tr><tr><td>Chief Operating Officer</td><td>2101</td><td>61</td><td>300000</td><td>230</td><td>55</td><td>27</td><td>90000</td><td>15.2</td><td>Executive</td><td>Female</td><td>79</td><td>40</td><td>5.787816564</td><td>41</td><td>1</td></tr><tr><td>Chief Technology Officer</td><td>98102</td><td>62</td><td>300000</td><td>230</td><td>55</td><td>27</td><td>90000</td><td>14.7</td><td>Executive</td><td>Male</td><td>70</td><td>40</td><td>4.509240246</td><td>40</td><td>0</td></tr><tr><td>Content Strategist</td><td>60605</td><td>63</td><td>97700</td><td>105</td><td>30</td><td>17</td><td>7767</td><td>5.9</td><td>Marketing</td><td>Female</td><td>73</td><td>40</td><td>1.87816564</td><td>33</td><td>0</td></tr><tr><td>Content Strategist</td><td>10005</td><td>64</td><td>89300</td><td>105</td><td>30</td><td>17</td><td>5849</td><td>3.1</td><td>Marketing</td><td>Female</td><td>113</td><td>40</td><td>2.168377823</td><td>26</td><td>0</td></tr><tr><td>Content Writer</td><td>10005</td><td>65</td><td>89600</td><td>105</td><td>30</td><td>17</td><td>5914</td><td>3.2</td><td>Marketing</td><td>Female</td><td>93</td><td>40</td><td>2.266940452</td><td>34</td><td>0</td></tr><tr><td>Customer Success Manager</td><td>10002</td><td>66</td><td>129450</td><td>130</td><td>35</td><td>19</td><td>16893</td><td>2.1</td><td>Customer Support</td><td>Male</td><td>80</td><td>40</td><td>1.514031485</td><td>29</td><td>0</td></tr><tr><td>Customer Support Specialist</td><td>10003</td><td>67</td><td>93400</td><td>105</td><td>30</td><td>17</td><td>5978</td><td>2.8</td><td>Customer Support</td><td>Male</td><td>141</td><td>40</td><td>1.80698152</td><td>27</td><td>0</td></tr><tr><td>Data Analyst</td><td>94104</td><td>68</td><td>84500</td><td>105</td><td>30</td><td>17</td><td>5831</td><td>3.8</td><td>Data Science</td><td>Female</td><td>81</td><td>40</td><td>2.973305955</td><td>31</td><td>0</td></tr><tr><td>Data Analyst</td><td>94104</td><td>69</td><td>80750</td><td>105</td><td>30</td><td>17</td><td>4966</td><td>2.3</td><td>Data Science</td><td>Male</td><td>101</td><td>40</td><td>1.834360027</td><td>31</td><td>0</td></tr><tr><td>Data Analyst</td><td>94102</td><td>70</td><td>83000</td><td>105</td><td>30</td><td>17</td><td>5478</td><td>3.2</td><td>Data Science</td><td>Male</td><td>129</td><td>40</td><td>1.98220397</td><td>34</td><td>0</td></tr><tr><td>Data Scientist</td><td>94102</td><td>71</td><td>91400</td><td>105</td><td>30</td><td>17</td><td>6307</td><td>3.8</td><td>Data Science</td><td>Male</td><td>139</td><td>40</td><td>2.414784394</td><td>26</td><td>0</td></tr><tr><td>Design Director</td><td>78701</td><td>72</td><td>215200</td><td>180</td><td>45</td><td>23</td><td>48635</td><td>9.2</td><td>Design</td><td>Female</td><td>69</td><td>40</td><td>3.058179329</td><td>34</td><td>0</td></tr><tr><td>Design Director</td><td>78702</td><td>73</td><td>217600</td><td>180</td><td>45</td><td>23</td><td>49613</td><td>9.6</td><td>Design</td><td>Female</td><td>150</td><td>40</td><td>5.379876797</td><td>33</td><td>1</td></tr><tr><td>DevOps Engineer</td><td>94112</td><td>74</td><td>92600</td><td>105</td><td>30</td><td>17</td><td>6575</td><td>4.2</td><td>Engineering</td><td>Male</td><td>78</td><td>40</td><td>1.741273101</td><td>28</td><td>0</td></tr><tr><td>Design Director</td><td>78702</td><td>75</td><td>218200</td><td>180</td><td>45</td><td>23</td><td>49859</td><td>9.7</td><td>Design</td><td>Female</td><td>110</td><td>40</td><td>4.813141684</td><td>38</td><td>0</td></tr><tr><td>Director of HR</td><td>2108</td><td>76</td><td>220000</td><td>180</td><td>45</td><td>23</td><td>50600</td><td>11.5</td><td>Human Resources</td><td>Male</td><td>76</td><td>40</td><td>5.472963723</td><td>33</td><td>1</td></tr><tr><td>Director of Operations</td><td>98106</td><td>77</td><td>211000</td><td>180</td><td>45</td><td>23</td><td>46948</td><td>8.5</td><td>Operations</td><td>Male</td><td>64</td><td>40</td><td>5.232032854</td><td>36</td><td>1</td></tr><tr><td>Director of Product</td><td>10010</td><td>78</td><td>213400</td><td>180</td><td>45</td><td>23</td><td>47908</td><td>8.9</td><td>Product</td><td>Female</td><td>138</td><td>40</td><td>4.980150582</td><td>38</td><td>0</td></tr><tr><td>Engineering Manager</td><td>94104</td><td>79</td><td>155100</td><td>155</td><td>40</td><td>21</td><td>24661</td><td>7.8</td><td>Engineering</td><td>Female</td><td>71</td><td>40</td><td>3.813826146</td><td>34</td><td>0</td></tr><tr><td>Financial Analyst</td><td>60605</td><td>80</td><td>80750</td><td>105</td><td>30</td><td>17</td><td>4966</td><td>2.3</td><td>Finance</td><td>Female</td><td>63</td><td>40</td><td>2.387405886</td><td>29</td><td>0</td></tr><tr><td>Financial Analyst</td><td>60601</td><td>81</td><td>84750</td><td>105</td><td>30</td><td>17</td><td>5890</td><td>3.9</td><td>Finance</td><td>Male</td><td>109</td><td>40</td><td>2.631074606</td><td>31</td><td>0</td></tr><tr><td>Financial Analyst</td><td>60605</td><td>82</td><td>84750</td><td>105</td><td>30</td><td>17</td><td>5890</td><td>3.9</td><td>Finance</td><td>Female</td><td>123</td><td>40</td><td>2.360027379</td><td>27</td><td>0</td></tr><tr><td>Financial Analyst</td><td>60601</td><td>83</td><td>83000</td><td>105</td><td>30</td><td>17</td><td>5478</td><td>3.2</td><td>Finance</td><td>Male</td><td>149</td><td>40</td><td>2.140999316</td><td>26</td><td>0</td></tr><tr><td>Financial Planning Analyst</td><td>60605</td><td>84</td><td>84000</td><td>105</td><td>30</td><td>17</td><td>5712</td><td>3.6</td><td>Finance</td><td>Female</td><td>133</td><td>40</td><td>2.072553046</td><td>28</td><td>0</td></tr><tr><td>HR Business Partner</td><td>2107</td><td>85</td><td>92300</td><td>105</td><td>30</td><td>17</td><td>6507</td><td>4.1</td><td>Human Resources</td><td>Female</td><td>65</td><td>40</td><td>2.680355921</td><td>33</td><td>0</td></tr><tr><td>HR Business Partner</td><td>2107</td><td>86</td><td>93500</td><td>105</td><td>30</td><td>17</td><td>6779</td><td>4.5</td><td>Human Resources</td><td>Female</td><td>105</td><td>40</td><td>2.850102669</td><td>29</td><td>0</td></tr><tr><td>HR Business Partner</td><td>2107</td><td>87</td><td>93800</td><td>105</td><td>30</td><td>17</td><td>6847</td><td>4.6</td><td>Human Resources</td><td>Female</td><td>125</td><td>40</td><td>3.039014374</td><td>30</td><td>0</td></tr><tr><td>HR Coordinator</td><td>2107</td><td>88</td><td>65800</td><td>105</td><td>30</td><td>17</td><td>4244</td><td>2.9</td><td>Human Resources</td><td>Female</td><td>95</td><td>40</td><td>1.976728268</td><td>26</td><td>0</td></tr><tr><td>HR Coordinator</td><td>2107</td><td>89</td><td>69000</td><td>105</td><td>30</td><td>17</td><td>5003</td><td>4.5</td><td>Human Resources</td><td>Female</td><td>145</td><td>40</td><td>2.71321013</td><td>32</td><td>0</td></tr><tr><td>HR Manager</td><td>2107</td><td>90</td><td>141600</td><td>130</td><td>35</td><td>19</td><td>20390</td><td>4.8</td><td>Human Resources</td><td>Female</td><td>115</td><td>40</td><td>3.227926078</td><td>30</td><td>0</td></tr><tr><td>HR Manager</td><td>2107</td><td>91</td><td>141600</td><td>130</td><td>35</td><td>19</td><td>20390</td><td>4.8</td><td>Human Resources</td><td>Female</td><td>155</td><td>40</td><td>2.666666667</td><td>34</td><td>0</td></tr><tr><td>HR Specialist</td><td>2107</td><td>92</td><td>99700</td><td>105</td><td>30</td><td>17</td><td>7428</td><td>4.9</td><td>Human Resources</td><td>Female</td><td>135</td><td>40</td><td>3.288158795</td><td>31</td><td>0</td></tr><tr><td>Junior Data Analyst</td><td>94111</td><td>93</td><td>78000</td><td>105</td><td>30</td><td>17</td><td>4368</td><td>1.2</td><td>Data Science</td><td>Non-Binary</td><td>157</td><td>40</td><td>1.152635181</td><td>23</td><td>0</td></tr><tr><td>Junior Data Scientist</td><td>94110</td><td>94</td><td>64500</td><td>105</td><td>30</td><td>17</td><td>3806</td><td>1.8</td><td>Data Science</td><td>Male</td><td>66</td><td>40</td><td>1.316906229</td><td>31</td><td>0</td></tr><tr><td>Junior Data Scientist</td><td>94111</td><td>95</td><td>64500</td><td>105</td><td>30</td><td>17</td><td>3806</td><td>1.8</td><td>Data Science</td><td>Non-Binary</td><td>87</td><td>40</td><td>1.374401095</td><td>25</td><td>0</td></tr><tr><td>Junior Product Designer</td><td>78731</td><td>96</td><td>64750</td><td>105</td><td>30</td><td>17</td><td>3853</td><td>1.9</td><td>Design</td><td>Non-Binary</td><td>127</td><td>40</td><td>1.415468857</td><td>30</td><td>0</td></tr><tr><td>Junior Software Engineer</td><td>94111</td><td>97</td><td>63750</td><td>105</td><td>30</td><td>17</td><td>3666</td><td>1.5</td><td>Engineering</td><td>Non-Binary</td><td>97</td><td>40</td><td>1.25119781</td><td>26</td><td>0</td></tr><tr><td>Junior Software Engineer</td><td>94111</td><td>98</td><td>63750</td><td>105</td><td>30</td><td>17</td><td>3666</td><td>1.5</td><td>Engineering</td><td>Non-Binary</td><td>137</td><td>40</td><td>1.267624914</td><td>30</td><td>0</td></tr><tr><td>Junior UX Designer</td><td>78731</td><td>99</td><td>63000</td><td>105</td><td>30</td><td>17</td><td>3528</td><td>1.2</td><td>Design</td><td>Non-Binary</td><td>107</td><td>40</td><td>1.388090349</td><td>28</td><td>0</td></tr><tr><td>Lead Data Engineer</td><td>94108</td><td>100</td><td>146600</td><td>130</td><td>35</td><td>19</td><td>17519</td><td>7.9</td><td>Data Science</td><td>Male</td><td>144</td><td>40</td><td>4.227241615</td><td>34</td><td>0</td></tr><tr><td>Lead Data Scientist</td><td>94112</td><td>101</td><td>146200</td><td>130</td><td>35</td><td>19</td><td>17398</td><td>7.8</td><td>Data Science</td><td>Female</td><td>98</td><td>40</td><td>3.698836413</td><td>33</td><td>0</td></tr><tr><td>Lead DevOps Engineer</td><td>98106</td><td>102</td><td>146600</td><td>130</td><td>35</td><td>19</td><td>17519</td><td>7.9</td><td>Engineering</td><td>Male</td><td>114</td><td>40</td><td>3.953456537</td><td>31</td><td>0</td></tr><tr><td>Lead Product Manager</td><td>10010</td><td>103</td><td>153750</td><td>155</td><td>40</td><td>21</td><td>18066</td><td>7.5</td><td>Product</td><td>Female</td><td>108</td><td>40</td><td>4.265571526</td><td>34</td><td>0</td></tr><tr><td>Lead Software Developer</td><td>94108</td><td>104</td><td>145400</td><td>130</td><td>35</td><td>19</td><td>17157</td><td>7.6</td><td>Engineering</td><td>Male</td><td>154</td><td>40</td><td>3.871321013</td><td>36</td><td>0</td></tr><tr><td>Lead Software Engineer</td><td>98106</td><td>105</td><td>144200</td><td>130</td><td>35</td><td>19</td><td>16799</td><td>7.3</td><td>Engineering</td><td>Male</td><td>124</td><td>40</td><td>3.808350445</td><td>32</td><td>0</td></tr><tr><td>Lead UX Designer</td><td>78704</td><td>106</td><td>141000</td><td>130</td><td>35</td><td>19</td><td>15863</td><td>6.5</td><td>Design</td><td>Non-Binary</td><td>92</td><td>40</td><td>4.219028063</td><td>36</td><td>0</td></tr><tr><td>Lead UX Designer</td><td>78712</td><td>107</td><td>145800</td><td>130</td><td>35</td><td>19</td><td>17277</td><td>7.7</td><td>Design</td><td>Male</td><td>134</td><td>40</td><td>4.167008898</td><td>33</td><td>0</td></tr><tr><td>Marketing Coordinator</td><td>10005</td><td>108</td><td>66800</td><td>105</td><td>30</td><td>17</td><td>4476</td><td>3.4</td><td>Marketing</td><td>Female</td><td>143</td><td>40</td><td>1.872689938</td><td>30</td><td>0</td></tr><tr><td>Marketing Manager</td><td>10003</td><td>109</td><td>136650</td><td>130</td><td>35</td><td>19</td><td>18926</td><td>3.7</td><td>Marketing</td><td>Female</td><td>61</td><td>40</td><td>2.12183436</td><td>28</td><td>0</td></tr><tr><td>Marketing Specialist</td><td>60601</td><td>110</td><td>92500</td><td>105</td><td>30</td><td>17</td><td>5781</td><td>2.5</td><td>Marketing</td><td>Male</td><td>89</td><td>40</td><td>1.582477755</td><td>28</td><td>0</td></tr><tr><td>Marketing Specialist</td><td>10005</td><td>111</td><td>96100</td><td>105</td><td>30</td><td>17</td><td>6583</td><td>3.7</td><td>Marketing</td><td>Female</td><td>103</td><td>40</td><td>2.236824093</td><td>26</td><td>0</td></tr><tr><td>Operations Analyst</td><td>98101</td><td>112</td><td>85750</td><td>105</td><td>30</td><td>17</td><td>6131</td><td>4.3</td><td>Operations</td><td>Male</td><td>99</td><td>40</td><td>2.513347023</td><td>31</td><td>0</td></tr><tr><td>Operations Analyst</td><td>98101</td><td>113</td><td>84000</td><td>105</td><td>30</td><td>17</td><td>5712</td><td>3.6</td><td>Operations</td><td>Male</td><td>159</td><td>40</td><td>2.206707734</td><td>27</td><td>0</td></tr><tr><td>Operations Coordinator</td><td>98101</td><td>114</td><td>66800</td><td>105</td><td>30</td><td>17</td><td>4476</td><td>3.4</td><td>Operations</td><td>Male</td><td>119</td><td>40</td><td>1.713894593</td><td>33</td><td>0</td></tr><tr><td>Principal Engineer</td><td>98106</td><td>115</td><td>189000</td><td>155</td><td>40</td><td>21</td><td>37611</td><td>9.8</td><td>Engineering</td><td>Male</td><td>84</td><td>40</td><td>1.845311431</td><td>39</td><td>0</td></tr><tr><td>Principal Engineer</td><td>98102</td><td>116</td><td>190000</td><td>155</td><td>40</td><td>21</td><td>38000</td><td>10.1</td><td>Engineering</td><td>Female</td><td>140</td><td>40</td><td>5.686516085</td><td>34</td><td>1</td></tr><tr><td>Principal Product Designer</td><td>78704</td><td>117</td><td>179500</td><td>155</td><td>40</td><td>21</td><td>34015</td><td>7.9</td><td>Design</td><td>Male</td><td>62</td><td>40</td><td>3.567419576</td><td>33</td><td>0</td></tr><tr><td>Principal Product Manager</td><td>10010</td><td>118</td><td>183000</td><td>155</td><td>40</td><td>21</td><td>29829</td><td>8.6</td><td>Product</td><td>Female</td><td>118</td><td>40</td><td>4.498288843</td><td>37</td><td>0</td></tr><tr><td>Principal Software Engineer</td><td>98102</td><td>119</td><td>190000</td><td>155</td><td>40</td><td>21</td><td>38000</td><td>10.2</td><td>Engineering</td><td>Female</td><td>100</td><td>40</td><td>5.059548255</td><td>38</td><td>1</td></tr><tr><td>Product Designer</td><td>78704</td><td>120</td><td>97700</td><td>105</td><td>30</td><td>17</td><td>7767</td><td>5.9</td><td>Design</td><td>Non-Binary</td><td>102</td><td>40</td><td>3.364818617</td><td>35</td><td>0</td></tr><tr><td>Product Director</td><td>10010</td><td>121</td><td>209200</td><td>180</td><td>45</td><td>23</td><td>46233</td><td>8.2</td><td>Product</td><td>Female</td><td>128</td><td>40</td><td>4.854209446</td><td>38</td><td>0</td></tr><tr><td>Product Lead</td><td>10010</td><td>122</td><td>147400</td><td>130</td><td>35</td><td>19</td><td>17762</td><td>8.1</td><td>Product</td><td>Female</td><td>158</td><td>40</td><td>5.075975359</td><td>31</td><td>1</td></tr><tr><td>Product Manager</td><td>10004</td><td>123</td><td>135750</td><td>130</td><td>35</td><td>19</td><td>18666</td><td>3.5</td><td>Product</td><td>Male</td><td>72</td><td>40</td><td>2.581793292</td><td>30</td><td>0</td></tr><tr><td>Product Marketing Manager</td><td>10005</td><td>124</td><td>145200</td><td>130</td><td>35</td><td>19</td><td>21490</td><td>5.6</td><td>Marketing</td><td>Female</td><td>83</td><td>40</td><td>2.647501711</td><td>35</td><td>0</td></tr><tr><td>Project Manager</td><td>98103</td><td>125</td><td>141150</td><td>130</td><td>35</td><td>19</td><td>20255</td><td>4.7</td><td>Product</td><td>Male</td><td>91</td><td>40</td><td>2.787132101</td><td>33</td><td>0</td></tr><tr><td>Sales Director</td><td>90010</td><td>126</td><td>209800</td><td>180</td><td>45</td><td>23</td><td>46471</td><td>8.3</td><td>Sales</td><td>Female</td><td>77</td><td>40</td><td>3.227926078</td><td>31</td><td>0</td></tr><tr><td>Sales Representative</td><td>90008</td><td>127</td><td>97100</td><td>105</td><td>30</td><td>17</td><td>7622</td><td>5.7</td><td>Sales</td><td>Male</td><td>96</td><td>40</td><td>3.375770021</td><td>30</td><td>0</td></tr><tr><td>Senior Account Executive</td><td>90008</td><td>128</td><td>135200</td><td>130</td><td>35</td><td>19</td><td>15075</td><td>6.3</td><td>Sales</td><td>Male</td><td>116</td><td>40</td><td>3.603011636</td><td>33</td><td>0</td></tr><tr><td>Senior Account Executive</td><td>90008</td><td>129</td><td>136000</td><td>130</td><td>35</td><td>19</td><td>15300</td><td>6.5</td><td>Sales</td><td>Male</td><td>156</td><td>40</td><td>3.797399042</td><td>36</td><td>0</td></tr><tr><td>Senior Account Manager</td><td>90011</td><td>130</td><td>136000</td><td>130</td><td>35</td><td>19</td><td>15300</td><td>6.5</td><td>Sales</td><td>Male</td><td>68</td><td>40</td><td>5.604380561</td><td>30</td><td>1</td></tr><tr><td>Senior Account Manager</td><td>90008</td><td>131</td><td>135200</td><td>130</td><td>35</td><td>19</td><td>15075</td><td>6.3</td><td>Sales</td><td>Male</td><td>136</td><td>40</td><td>3.882272416</td><td>34</td><td>0</td></tr><tr><td>Senior Business Analyst</td><td>60604</td><td>132</td><td>131600</td><td>130</td><td>35</td><td>19</td><td>14081</td><td>5.4</td><td>Finance</td><td>Non-Binary</td><td>112</td><td>40</td><td>2.54072553</td><td>27</td><td>0</td></tr><tr><td>Senior Content Writer</td><td>10004</td><td>133</td><td>130400</td><td>130</td><td>35</td><td>19</td><td>13757</td><td>5.1</td><td>Marketing</td><td>Non-Binary</td><td>132</td><td>40</td><td>2.787132101</td><td>29</td><td>0</td></tr><tr><td>Senior DevOps Engineer</td><td>94108</td><td>134</td><td>143600</td><td>130</td><td>35</td><td>19</td><td>17519</td><td>8.4</td><td>Engineering</td><td>Male</td><td>94</td><td>40</td><td>4.561259411</td><td>31</td><td>0</td></tr><tr><td>Senior Financial Analyst</td><td>60607</td><td>135</td><td>134800</td><td>130</td><td>35</td><td>19</td><td>14963</td><td>6.2</td><td>Finance</td><td>Female</td><td>75</td><td>40</td><td>4.049281314</td><td>36</td><td>0</td></tr><tr><td>Senior Financial Analyst</td><td>60602</td><td>136</td><td>146400</td><td>130</td><td>35</td><td>19</td><td>18373</td><td>9.1</td><td>Finance</td><td>Female</td><td>90</td><td>40</td><td>5.152635181</td><td>36</td><td>1</td></tr><tr><td>Senior HR Manager</td><td>2104</td><td>137</td><td>139600</td><td>130</td><td>35</td><td>19</td><td>16333</td><td>7.4</td><td>Human Resources</td><td>Male</td><td>82</td><td>40</td><td>4.265571526</td><td>36</td><td>0</td></tr><tr><td>Senior Marketing Manager</td><td>10004</td><td>138</td><td>133200</td><td>130</td><td>35</td><td>19</td><td>14519</td><td>5.8</td><td>Marketing</td><td>Non-Binary</td><td>122</td><td>40</td><td>2.99247091</td><td>28</td><td>0</td></tr><tr><td>Senior Marketing Specialist</td><td>10004</td><td>139</td><td>131600</td><td>130</td><td>35</td><td>19</td><td>14081</td><td>5.4</td><td>Marketing</td><td>Non-Binary</td><td>152</td><td>40</td><td>2.491444216</td><td>32</td><td>0</td></tr><tr><td>Senior Product Manager</td><td>10010</td><td>140</td><td>138800</td><td>130</td><td>35</td><td>19</td><td>16101</td><td>7.2</td><td>Product</td><td>Female</td><td>88</td><td>40</td><td>3.882272416</td><td>32</td><td>0</td></tr><tr><td>Senior Project Manager</td><td>98102</td><td>141</td><td>147200</td><td>130</td><td>35</td><td>19</td><td>18621</td><td>9.3</td><td>Product</td><td>Female</td><td>130</td><td>40</td><td>5.303216975</td><td>32</td><td>1</td></tr><tr><td>Senior Sales Executive</td><td>90008</td><td>142</td><td>134800</td><td>130</td><td>35</td><td>19</td><td>14963</td><td>6.2</td><td>Sales</td><td>Male</td><td>146</td><td>40</td><td>4.07118412</td><td>35</td><td>0</td></tr><tr><td>Senior Sales Manager</td><td>90008</td><td>143</td><td>137200</td><td>130</td><td>35</td><td>19</td><td>15641</td><td>6.8</td><td>Sales</td><td>Male</td><td>106</td><td>40</td><td>4.112251882</td><td>32</td><td>0</td></tr><tr><td>Senior Sales Representative</td><td>90008</td><td>144</td><td>136800</td><td>130</td><td>35</td><td>19</td><td>15527</td><td>6.7</td><td>Sales</td><td>Male</td><td>126</td><td>40</td><td>4.216290212</td><td>33</td><td>0</td></tr><tr><td>Senior UX Designer</td><td>78704</td><td>145</td><td>132800</td><td>130</td><td>35</td><td>19</td><td>14409</td><td>5.7</td><td>Design</td><td>Non-Binary</td><td>142</td><td>40</td><td>3.154004107</td><td>31</td><td>0</td></tr><tr><td>Software Engineer</td><td>94109</td><td>146</td><td>90500</td><td>105</td><td>30</td><td>17</td><td>6109</td><td>3.5</td><td>Engineering</td><td>Male</td><td>85</td><td>40</td><td>2.067077344</td><td>25</td><td>0</td></tr><tr><td>Staff Engineer</td><td>94108</td><td>147</td><td>115250</td><td>130</td><td>35</td><td>19</td><td>10430</td><td>8.1</td><td>Engineering</td><td>Male</td><td>104</td><td>40</td><td>4.711841205</td><td>32</td><td>0</td></tr><tr><td>Systems Administrator</td><td>94104</td><td>148</td><td>87200</td><td>105</td><td>30</td><td>17</td><td>5406</td><td>2.4</td><td>IT</td><td>Male</td><td>131</td><td>40</td><td>1.574264203</td><td>26</td><td>0</td></tr><tr><td>Technical Director</td><td>94103</td><td>149</td><td>220000</td><td>180</td><td>45</td><td>23</td><td>50600</td><td>10.5</td><td>Engineering</td><td>Female</td><td>120</td><td>40</td><td>5.519507187</td><td>40</td><td>1</td></tr><tr><td>Technical Lead</td><td>94112</td><td>150</td><td>149000</td><td>130</td><td>35</td><td>19</td><td>18253</td><td>8.5</td><td>Engineering</td><td>Female</td><td>148</td><td>40</td><td>4.646132786</td><td>30</td><td>0</td></tr><tr><td>Technical Writer</td><td>94104</td><td>151</td><td>88400</td><td>105</td><td>30</td><td>17</td><td>5658</td><td>2.8</td><td>Engineering</td><td>Male</td><td>111</td><td>40</td><td>1.894592745</td><td>32</td><td>0</td></tr><tr><td>Technical Writer</td><td>98103</td><td>152</td><td>88100</td><td>105</td><td>30</td><td>17</td><td>5594</td><td>2.7</td><td>Engineering</td><td>Male</td><td>151</td><td>40</td><td>1.708418891</td><td>28</td><td>0</td></tr><tr><td>UX Designer</td><td>78723</td><td>153</td><td>95900</td><td>105</td><td>30</td><td>17</td><td>7336</td><td>5.3</td><td>Design</td><td>Female</td><td>86</td><td>40</td><td>2.721423682</td><td>28</td><td>0</td></tr><tr><td>UX Researcher</td><td>78712</td><td>154</td><td>88100</td><td>105</td><td>30</td><td>17</td><td>5594</td><td>2.7</td><td>Design</td><td>Male</td><td>74</td><td>40</td><td>2.154688569</td><td>31</td><td>0</td></tr><tr><td>UX Researcher</td><td>78703</td><td>155</td><td>87800</td><td>105</td><td>30</td><td>17</td><td>5531</td><td>2.6</td><td>Design</td><td>Male</td><td>121</td><td>40</td><td>1.639972621</td><td>24</td><td>0</td></tr><tr><td>VP of Technology</td><td>98109</td><td>156</td><td>300000</td><td>230</td><td>55</td><td>27</td><td>90000</td><td>12.3</td><td>Executive</td><td>Female</td><td>67</td><td>40</td><td>3.96440794</td><td>35</td><td>0</td></tr></tbody></table></div>"
      ]
     },
     "metadata": {
      "application/vnd.databricks.v1+output": {
       "addedWidgets": {},
       "aggData": [],
       "aggError": "",
       "aggOverflow": false,
       "aggSchema": [],
       "aggSeriesLimitReached": false,
       "aggType": "",
       "arguments": {},
       "columnCustomDisplayInfos": {},
       "data": [
        [
         "Senior Software Engineer",
         94103,
         57,
         130800,
         130,
         35,
         19,
         13865,
         5.2,
         "Engineering",
         "Male",
         60,
         40,
         2.806297057,
         34,
         0
        ],
        [
         "Associate Data Scientist",
         94111,
         58,
         74250,
         105,
         30,
         17,
         4344,
         1.7,
         "Data Science",
         "Non-Binary",
         117,
         40,
         1.568788501,
         29,
         0
        ],
        [
         "Associate Product Manager",
         10009,
         59,
         125850,
         130,
         35,
         19,
         15920,
         1.3,
         "Product",
         "Non-Binary",
         147,
         40,
         1.25119781,
         31,
         0
        ],
        [
         "Business Analyst",
         60605,
         60,
         84750,
         105,
         30,
         17,
         5890,
         3.9,
         "Finance",
         "Female",
         153,
         40,
         2.302532512,
         31,
         0
        ],
        [
         "Chief Operating Officer",
         2101,
         61,
         300000,
         230,
         55,
         27,
         90000,
         15.2,
         "Executive",
         "Female",
         79,
         40,
         5.787816564,
         41,
         1
        ],
        [
         "Chief Technology Officer",
         98102,
         62,
         300000,
         230,
         55,
         27,
         90000,
         14.7,
         "Executive",
         "Male",
         70,
         40,
         4.509240246,
         40,
         0
        ],
        [
         "Content Strategist",
         60605,
         63,
         97700,
         105,
         30,
         17,
         7767,
         5.9,
         "Marketing",
         "Female",
         73,
         40,
         1.87816564,
         33,
         0
        ],
        [
         "Content Strategist",
         10005,
         64,
         89300,
         105,
         30,
         17,
         5849,
         3.1,
         "Marketing",
         "Female",
         113,
         40,
         2.168377823,
         26,
         0
        ],
        [
         "Content Writer",
         10005,
         65,
         89600,
         105,
         30,
         17,
         5914,
         3.2,
         "Marketing",
         "Female",
         93,
         40,
         2.266940452,
         34,
         0
        ],
        [
         "Customer Success Manager",
         10002,
         66,
         129450,
         130,
         35,
         19,
         16893,
         2.1,
         "Customer Support",
         "Male",
         80,
         40,
         1.514031485,
         29,
         0
        ],
        [
         "Customer Support Specialist",
         10003,
         67,
         93400,
         105,
         30,
         17,
         5978,
         2.8,
         "Customer Support",
         "Male",
         141,
         40,
         1.80698152,
         27,
         0
        ],
        [
         "Data Analyst",
         94104,
         68,
         84500,
         105,
         30,
         17,
         5831,
         3.8,
         "Data Science",
         "Female",
         81,
         40,
         2.973305955,
         31,
         0
        ],
        [
         "Data Analyst",
         94104,
         69,
         80750,
         105,
         30,
         17,
         4966,
         2.3,
         "Data Science",
         "Male",
         101,
         40,
         1.834360027,
         31,
         0
        ],
        [
         "Data Analyst",
         94102,
         70,
         83000,
         105,
         30,
         17,
         5478,
         3.2,
         "Data Science",
         "Male",
         129,
         40,
         1.98220397,
         34,
         0
        ],
        [
         "Data Scientist",
         94102,
         71,
         91400,
         105,
         30,
         17,
         6307,
         3.8,
         "Data Science",
         "Male",
         139,
         40,
         2.414784394,
         26,
         0
        ],
        [
         "Design Director",
         78701,
         72,
         215200,
         180,
         45,
         23,
         48635,
         9.2,
         "Design",
         "Female",
         69,
         40,
         3.058179329,
         34,
         0
        ],
        [
         "Design Director",
         78702,
         73,
         217600,
         180,
         45,
         23,
         49613,
         9.6,
         "Design",
         "Female",
         150,
         40,
         5.379876797,
         33,
         1
        ],
        [
         "DevOps Engineer",
         94112,
         74,
         92600,
         105,
         30,
         17,
         6575,
         4.2,
         "Engineering",
         "Male",
         78,
         40,
         1.741273101,
         28,
         0
        ],
        [
         "Design Director",
         78702,
         75,
         218200,
         180,
         45,
         23,
         49859,
         9.7,
         "Design",
         "Female",
         110,
         40,
         4.813141684,
         38,
         0
        ],
        [
         "Director of HR",
         2108,
         76,
         220000,
         180,
         45,
         23,
         50600,
         11.5,
         "Human Resources",
         "Male",
         76,
         40,
         5.472963723,
         33,
         1
        ],
        [
         "Director of Operations",
         98106,
         77,
         211000,
         180,
         45,
         23,
         46948,
         8.5,
         "Operations",
         "Male",
         64,
         40,
         5.232032854,
         36,
         1
        ],
        [
         "Director of Product",
         10010,
         78,
         213400,
         180,
         45,
         23,
         47908,
         8.9,
         "Product",
         "Female",
         138,
         40,
         4.980150582,
         38,
         0
        ],
        [
         "Engineering Manager",
         94104,
         79,
         155100,
         155,
         40,
         21,
         24661,
         7.8,
         "Engineering",
         "Female",
         71,
         40,
         3.813826146,
         34,
         0
        ],
        [
         "Financial Analyst",
         60605,
         80,
         80750,
         105,
         30,
         17,
         4966,
         2.3,
         "Finance",
         "Female",
         63,
         40,
         2.387405886,
         29,
         0
        ],
        [
         "Financial Analyst",
         60601,
         81,
         84750,
         105,
         30,
         17,
         5890,
         3.9,
         "Finance",
         "Male",
         109,
         40,
         2.631074606,
         31,
         0
        ],
        [
         "Financial Analyst",
         60605,
         82,
         84750,
         105,
         30,
         17,
         5890,
         3.9,
         "Finance",
         "Female",
         123,
         40,
         2.360027379,
         27,
         0
        ],
        [
         "Financial Analyst",
         60601,
         83,
         83000,
         105,
         30,
         17,
         5478,
         3.2,
         "Finance",
         "Male",
         149,
         40,
         2.140999316,
         26,
         0
        ],
        [
         "Financial Planning Analyst",
         60605,
         84,
         84000,
         105,
         30,
         17,
         5712,
         3.6,
         "Finance",
         "Female",
         133,
         40,
         2.072553046,
         28,
         0
        ],
        [
         "HR Business Partner",
         2107,
         85,
         92300,
         105,
         30,
         17,
         6507,
         4.1,
         "Human Resources",
         "Female",
         65,
         40,
         2.680355921,
         33,
         0
        ],
        [
         "HR Business Partner",
         2107,
         86,
         93500,
         105,
         30,
         17,
         6779,
         4.5,
         "Human Resources",
         "Female",
         105,
         40,
         2.850102669,
         29,
         0
        ],
        [
         "HR Business Partner",
         2107,
         87,
         93800,
         105,
         30,
         17,
         6847,
         4.6,
         "Human Resources",
         "Female",
         125,
         40,
         3.039014374,
         30,
         0
        ],
        [
         "HR Coordinator",
         2107,
         88,
         65800,
         105,
         30,
         17,
         4244,
         2.9,
         "Human Resources",
         "Female",
         95,
         40,
         1.976728268,
         26,
         0
        ],
        [
         "HR Coordinator",
         2107,
         89,
         69000,
         105,
         30,
         17,
         5003,
         4.5,
         "Human Resources",
         "Female",
         145,
         40,
         2.71321013,
         32,
         0
        ],
        [
         "HR Manager",
         2107,
         90,
         141600,
         130,
         35,
         19,
         20390,
         4.8,
         "Human Resources",
         "Female",
         115,
         40,
         3.227926078,
         30,
         0
        ],
        [
         "HR Manager",
         2107,
         91,
         141600,
         130,
         35,
         19,
         20390,
         4.8,
         "Human Resources",
         "Female",
         155,
         40,
         2.666666667,
         34,
         0
        ],
        [
         "HR Specialist",
         2107,
         92,
         99700,
         105,
         30,
         17,
         7428,
         4.9,
         "Human Resources",
         "Female",
         135,
         40,
         3.288158795,
         31,
         0
        ],
        [
         "Junior Data Analyst",
         94111,
         93,
         78000,
         105,
         30,
         17,
         4368,
         1.2,
         "Data Science",
         "Non-Binary",
         157,
         40,
         1.152635181,
         23,
         0
        ],
        [
         "Junior Data Scientist",
         94110,
         94,
         64500,
         105,
         30,
         17,
         3806,
         1.8,
         "Data Science",
         "Male",
         66,
         40,
         1.316906229,
         31,
         0
        ],
        [
         "Junior Data Scientist",
         94111,
         95,
         64500,
         105,
         30,
         17,
         3806,
         1.8,
         "Data Science",
         "Non-Binary",
         87,
         40,
         1.374401095,
         25,
         0
        ],
        [
         "Junior Product Designer",
         78731,
         96,
         64750,
         105,
         30,
         17,
         3853,
         1.9,
         "Design",
         "Non-Binary",
         127,
         40,
         1.415468857,
         30,
         0
        ],
        [
         "Junior Software Engineer",
         94111,
         97,
         63750,
         105,
         30,
         17,
         3666,
         1.5,
         "Engineering",
         "Non-Binary",
         97,
         40,
         1.25119781,
         26,
         0
        ],
        [
         "Junior Software Engineer",
         94111,
         98,
         63750,
         105,
         30,
         17,
         3666,
         1.5,
         "Engineering",
         "Non-Binary",
         137,
         40,
         1.267624914,
         30,
         0
        ],
        [
         "Junior UX Designer",
         78731,
         99,
         63000,
         105,
         30,
         17,
         3528,
         1.2,
         "Design",
         "Non-Binary",
         107,
         40,
         1.388090349,
         28,
         0
        ],
        [
         "Lead Data Engineer",
         94108,
         100,
         146600,
         130,
         35,
         19,
         17519,
         7.9,
         "Data Science",
         "Male",
         144,
         40,
         4.227241615,
         34,
         0
        ],
        [
         "Lead Data Scientist",
         94112,
         101,
         146200,
         130,
         35,
         19,
         17398,
         7.8,
         "Data Science",
         "Female",
         98,
         40,
         3.698836413,
         33,
         0
        ],
        [
         "Lead DevOps Engineer",
         98106,
         102,
         146600,
         130,
         35,
         19,
         17519,
         7.9,
         "Engineering",
         "Male",
         114,
         40,
         3.953456537,
         31,
         0
        ],
        [
         "Lead Product Manager",
         10010,
         103,
         153750,
         155,
         40,
         21,
         18066,
         7.5,
         "Product",
         "Female",
         108,
         40,
         4.265571526,
         34,
         0
        ],
        [
         "Lead Software Developer",
         94108,
         104,
         145400,
         130,
         35,
         19,
         17157,
         7.6,
         "Engineering",
         "Male",
         154,
         40,
         3.871321013,
         36,
         0
        ],
        [
         "Lead Software Engineer",
         98106,
         105,
         144200,
         130,
         35,
         19,
         16799,
         7.3,
         "Engineering",
         "Male",
         124,
         40,
         3.808350445,
         32,
         0
        ],
        [
         "Lead UX Designer",
         78704,
         106,
         141000,
         130,
         35,
         19,
         15863,
         6.5,
         "Design",
         "Non-Binary",
         92,
         40,
         4.219028063,
         36,
         0
        ],
        [
         "Lead UX Designer",
         78712,
         107,
         145800,
         130,
         35,
         19,
         17277,
         7.7,
         "Design",
         "Male",
         134,
         40,
         4.167008898,
         33,
         0
        ],
        [
         "Marketing Coordinator",
         10005,
         108,
         66800,
         105,
         30,
         17,
         4476,
         3.4,
         "Marketing",
         "Female",
         143,
         40,
         1.872689938,
         30,
         0
        ],
        [
         "Marketing Manager",
         10003,
         109,
         136650,
         130,
         35,
         19,
         18926,
         3.7,
         "Marketing",
         "Female",
         61,
         40,
         2.12183436,
         28,
         0
        ],
        [
         "Marketing Specialist",
         60601,
         110,
         92500,
         105,
         30,
         17,
         5781,
         2.5,
         "Marketing",
         "Male",
         89,
         40,
         1.582477755,
         28,
         0
        ],
        [
         "Marketing Specialist",
         10005,
         111,
         96100,
         105,
         30,
         17,
         6583,
         3.7,
         "Marketing",
         "Female",
         103,
         40,
         2.236824093,
         26,
         0
        ],
        [
         "Operations Analyst",
         98101,
         112,
         85750,
         105,
         30,
         17,
         6131,
         4.3,
         "Operations",
         "Male",
         99,
         40,
         2.513347023,
         31,
         0
        ],
        [
         "Operations Analyst",
         98101,
         113,
         84000,
         105,
         30,
         17,
         5712,
         3.6,
         "Operations",
         "Male",
         159,
         40,
         2.206707734,
         27,
         0
        ],
        [
         "Operations Coordinator",
         98101,
         114,
         66800,
         105,
         30,
         17,
         4476,
         3.4,
         "Operations",
         "Male",
         119,
         40,
         1.713894593,
         33,
         0
        ],
        [
         "Principal Engineer",
         98106,
         115,
         189000,
         155,
         40,
         21,
         37611,
         9.8,
         "Engineering",
         "Male",
         84,
         40,
         1.845311431,
         39,
         0
        ],
        [
         "Principal Engineer",
         98102,
         116,
         190000,
         155,
         40,
         21,
         38000,
         10.1,
         "Engineering",
         "Female",
         140,
         40,
         5.686516085,
         34,
         1
        ],
        [
         "Principal Product Designer",
         78704,
         117,
         179500,
         155,
         40,
         21,
         34015,
         7.9,
         "Design",
         "Male",
         62,
         40,
         3.567419576,
         33,
         0
        ],
        [
         "Principal Product Manager",
         10010,
         118,
         183000,
         155,
         40,
         21,
         29829,
         8.6,
         "Product",
         "Female",
         118,
         40,
         4.498288843,
         37,
         0
        ],
        [
         "Principal Software Engineer",
         98102,
         119,
         190000,
         155,
         40,
         21,
         38000,
         10.2,
         "Engineering",
         "Female",
         100,
         40,
         5.059548255,
         38,
         1
        ],
        [
         "Product Designer",
         78704,
         120,
         97700,
         105,
         30,
         17,
         7767,
         5.9,
         "Design",
         "Non-Binary",
         102,
         40,
         3.364818617,
         35,
         0
        ],
        [
         "Product Director",
         10010,
         121,
         209200,
         180,
         45,
         23,
         46233,
         8.2,
         "Product",
         "Female",
         128,
         40,
         4.854209446,
         38,
         0
        ],
        [
         "Product Lead",
         10010,
         122,
         147400,
         130,
         35,
         19,
         17762,
         8.1,
         "Product",
         "Female",
         158,
         40,
         5.075975359,
         31,
         1
        ],
        [
         "Product Manager",
         10004,
         123,
         135750,
         130,
         35,
         19,
         18666,
         3.5,
         "Product",
         "Male",
         72,
         40,
         2.581793292,
         30,
         0
        ],
        [
         "Product Marketing Manager",
         10005,
         124,
         145200,
         130,
         35,
         19,
         21490,
         5.6,
         "Marketing",
         "Female",
         83,
         40,
         2.647501711,
         35,
         0
        ],
        [
         "Project Manager",
         98103,
         125,
         141150,
         130,
         35,
         19,
         20255,
         4.7,
         "Product",
         "Male",
         91,
         40,
         2.787132101,
         33,
         0
        ],
        [
         "Sales Director",
         90010,
         126,
         209800,
         180,
         45,
         23,
         46471,
         8.3,
         "Sales",
         "Female",
         77,
         40,
         3.227926078,
         31,
         0
        ],
        [
         "Sales Representative",
         90008,
         127,
         97100,
         105,
         30,
         17,
         7622,
         5.7,
         "Sales",
         "Male",
         96,
         40,
         3.375770021,
         30,
         0
        ],
        [
         "Senior Account Executive",
         90008,
         128,
         135200,
         130,
         35,
         19,
         15075,
         6.3,
         "Sales",
         "Male",
         116,
         40,
         3.603011636,
         33,
         0
        ],
        [
         "Senior Account Executive",
         90008,
         129,
         136000,
         130,
         35,
         19,
         15300,
         6.5,
         "Sales",
         "Male",
         156,
         40,
         3.797399042,
         36,
         0
        ],
        [
         "Senior Account Manager",
         90011,
         130,
         136000,
         130,
         35,
         19,
         15300,
         6.5,
         "Sales",
         "Male",
         68,
         40,
         5.604380561,
         30,
         1
        ],
        [
         "Senior Account Manager",
         90008,
         131,
         135200,
         130,
         35,
         19,
         15075,
         6.3,
         "Sales",
         "Male",
         136,
         40,
         3.882272416,
         34,
         0
        ],
        [
         "Senior Business Analyst",
         60604,
         132,
         131600,
         130,
         35,
         19,
         14081,
         5.4,
         "Finance",
         "Non-Binary",
         112,
         40,
         2.54072553,
         27,
         0
        ],
        [
         "Senior Content Writer",
         10004,
         133,
         130400,
         130,
         35,
         19,
         13757,
         5.1,
         "Marketing",
         "Non-Binary",
         132,
         40,
         2.787132101,
         29,
         0
        ],
        [
         "Senior DevOps Engineer",
         94108,
         134,
         143600,
         130,
         35,
         19,
         17519,
         8.4,
         "Engineering",
         "Male",
         94,
         40,
         4.561259411,
         31,
         0
        ],
        [
         "Senior Financial Analyst",
         60607,
         135,
         134800,
         130,
         35,
         19,
         14963,
         6.2,
         "Finance",
         "Female",
         75,
         40,
         4.049281314,
         36,
         0
        ],
        [
         "Senior Financial Analyst",
         60602,
         136,
         146400,
         130,
         35,
         19,
         18373,
         9.1,
         "Finance",
         "Female",
         90,
         40,
         5.152635181,
         36,
         1
        ],
        [
         "Senior HR Manager",
         2104,
         137,
         139600,
         130,
         35,
         19,
         16333,
         7.4,
         "Human Resources",
         "Male",
         82,
         40,
         4.265571526,
         36,
         0
        ],
        [
         "Senior Marketing Manager",
         10004,
         138,
         133200,
         130,
         35,
         19,
         14519,
         5.8,
         "Marketing",
         "Non-Binary",
         122,
         40,
         2.99247091,
         28,
         0
        ],
        [
         "Senior Marketing Specialist",
         10004,
         139,
         131600,
         130,
         35,
         19,
         14081,
         5.4,
         "Marketing",
         "Non-Binary",
         152,
         40,
         2.491444216,
         32,
         0
        ],
        [
         "Senior Product Manager",
         10010,
         140,
         138800,
         130,
         35,
         19,
         16101,
         7.2,
         "Product",
         "Female",
         88,
         40,
         3.882272416,
         32,
         0
        ],
        [
         "Senior Project Manager",
         98102,
         141,
         147200,
         130,
         35,
         19,
         18621,
         9.3,
         "Product",
         "Female",
         130,
         40,
         5.303216975,
         32,
         1
        ],
        [
         "Senior Sales Executive",
         90008,
         142,
         134800,
         130,
         35,
         19,
         14963,
         6.2,
         "Sales",
         "Male",
         146,
         40,
         4.07118412,
         35,
         0
        ],
        [
         "Senior Sales Manager",
         90008,
         143,
         137200,
         130,
         35,
         19,
         15641,
         6.8,
         "Sales",
         "Male",
         106,
         40,
         4.112251882,
         32,
         0
        ],
        [
         "Senior Sales Representative",
         90008,
         144,
         136800,
         130,
         35,
         19,
         15527,
         6.7,
         "Sales",
         "Male",
         126,
         40,
         4.216290212,
         33,
         0
        ],
        [
         "Senior UX Designer",
         78704,
         145,
         132800,
         130,
         35,
         19,
         14409,
         5.7,
         "Design",
         "Non-Binary",
         142,
         40,
         3.154004107,
         31,
         0
        ],
        [
         "Software Engineer",
         94109,
         146,
         90500,
         105,
         30,
         17,
         6109,
         3.5,
         "Engineering",
         "Male",
         85,
         40,
         2.067077344,
         25,
         0
        ],
        [
         "Staff Engineer",
         94108,
         147,
         115250,
         130,
         35,
         19,
         10430,
         8.1,
         "Engineering",
         "Male",
         104,
         40,
         4.711841205,
         32,
         0
        ],
        [
         "Systems Administrator",
         94104,
         148,
         87200,
         105,
         30,
         17,
         5406,
         2.4,
         "IT",
         "Male",
         131,
         40,
         1.574264203,
         26,
         0
        ],
        [
         "Technical Director",
         94103,
         149,
         220000,
         180,
         45,
         23,
         50600,
         10.5,
         "Engineering",
         "Female",
         120,
         40,
         5.519507187,
         40,
         1
        ],
        [
         "Technical Lead",
         94112,
         150,
         149000,
         130,
         35,
         19,
         18253,
         8.5,
         "Engineering",
         "Female",
         148,
         40,
         4.646132786,
         30,
         0
        ],
        [
         "Technical Writer",
         94104,
         151,
         88400,
         105,
         30,
         17,
         5658,
         2.8,
         "Engineering",
         "Male",
         111,
         40,
         1.894592745,
         32,
         0
        ],
        [
         "Technical Writer",
         98103,
         152,
         88100,
         105,
         30,
         17,
         5594,
         2.7,
         "Engineering",
         "Male",
         151,
         40,
         1.708418891,
         28,
         0
        ],
        [
         "UX Designer",
         78723,
         153,
         95900,
         105,
         30,
         17,
         7336,
         5.3,
         "Design",
         "Female",
         86,
         40,
         2.721423682,
         28,
         0
        ],
        [
         "UX Researcher",
         78712,
         154,
         88100,
         105,
         30,
         17,
         5594,
         2.7,
         "Design",
         "Male",
         74,
         40,
         2.154688569,
         31,
         0
        ],
        [
         "UX Researcher",
         78703,
         155,
         87800,
         105,
         30,
         17,
         5531,
         2.6,
         "Design",
         "Male",
         121,
         40,
         1.639972621,
         24,
         0
        ],
        [
         "VP of Technology",
         98109,
         156,
         300000,
         230,
         55,
         27,
         90000,
         12.3,
         "Executive",
         "Female",
         67,
         40,
         3.96440794,
         35,
         0
        ]
       ],
       "datasetInfos": [],
       "dbfsResultPath": null,
       "isJsonSchema": true,
       "metadata": {},
       "overflow": false,
       "plotOptions": {
        "customPlotOptions": {},
        "displayType": "table",
        "pivotAggregation": null,
        "pivotColumns": null,
        "xColumns": null,
        "yColumns": null
       },
       "removedWidgets": [],
       "schema": [
        {
         "metadata": "{}",
         "name": "Current_Role",
         "type": "\"string\""
        },
        {
         "metadata": "{}",
         "name": "Zip_Code",
         "type": "\"long\""
        },
        {
         "metadata": "{}",
         "name": "Employee_ID",
         "type": "\"long\""
        },
        {
         "metadata": "{}",
         "name": "Employee_Annual_Salary",
         "type": "\"long\""
        },
        {
         "metadata": "{}",
         "name": "Monthly_Medical_contribution",
         "type": "\"long\""
        },
        {
         "metadata": "{}",
         "name": "Monthly_Dental_Contribution",
         "type": "\"long\""
        },
        {
         "metadata": "{}",
         "name": "Monthly_Vision_Contribution",
         "type": "\"long\""
        },
        {
         "metadata": "{}",
         "name": "Bonus",
         "type": "\"long\""
        },
        {
         "metadata": "{}",
         "name": "Years_Of_Service",
         "type": "\"double\""
        },
        {
         "metadata": "{}",
         "name": "Department",
         "type": "\"string\""
        },
        {
         "metadata": "{}",
         "name": "Gender",
         "type": "\"string\""
        },
        {
         "metadata": "{}",
         "name": "Employee_HR_rate",
         "type": "\"long\""
        },
        {
         "metadata": "{}",
         "name": "Hours_per_week",
         "type": "\"long\""
        },
        {
         "metadata": "{}",
         "name": "Years_Since_Last_Promotion",
         "type": "\"double\""
        },
        {
         "metadata": "{}",
         "name": "age",
         "type": "\"long\""
        },
        {
         "metadata": "{}",
         "name": "left",
         "type": "\"long\""
        }
       ],
       "type": "table"
      }
     },
     "output_type": "display_data"
    }
   ],
   "source": [
    "pyspark_df = spark.table(\"sd_bdc_demo.default.1_am_workday_raw_data\")\n",
    "pyspark_df.display()"
   ]
  },
  {
   "cell_type": "code",
   "execution_count": 0,
   "metadata": {
    "application/vnd.databricks.v1+cell": {
     "cellMetadata": {
      "byteLimit": 2048000,
      "rowLimit": 10000
     },
     "inputWidgets": {},
     "nuid": "5be51a40-1c7b-4fe9-ab37-4bc05f91d798",
     "showTitle": false,
     "tableResultSettingsMap": {},
     "title": ""
    }
   },
   "outputs": [
    {
     "output_type": "stream",
     "name": "stdout",
     "output_type": "stream",
     "text": [
      "<class 'pyspark.sql.connect.dataframe.DataFrame'>\n"
     ]
    }
   ],
   "source": [
    "print(type(pyspark_df))"
   ]
  },
  {
   "cell_type": "code",
   "execution_count": 0,
   "metadata": {
    "application/vnd.databricks.v1+cell": {
     "cellMetadata": {
      "byteLimit": 2048000,
      "rowLimit": 10000
     },
     "inputWidgets": {},
     "nuid": "15767ed9-0d6f-4103-99f4-e4e3f85b39ae",
     "showTitle": false,
     "tableResultSettingsMap": {},
     "title": ""
    }
   },
   "outputs": [],
   "source": [
    "df = pyspark_df.toPandas()"
   ]
  },
  {
   "cell_type": "code",
   "execution_count": 0,
   "metadata": {
    "application/vnd.databricks.v1+cell": {
     "cellMetadata": {
      "byteLimit": 2048000,
      "rowLimit": 10000
     },
     "inputWidgets": {},
     "nuid": "aa875950-9846-4b47-8cb4-155ad1e1b6c4",
     "showTitle": false,
     "tableResultSettingsMap": {},
     "title": ""
    }
   },
   "outputs": [
    {
     "output_type": "stream",
     "name": "stdout",
     "output_type": "stream",
     "text": [
      "<class 'pandas.core.frame.DataFrame'>\n"
     ]
    }
   ],
   "source": [
    "print(type(df))"
   ]
  },
  {
   "cell_type": "code",
   "execution_count": 0,
   "metadata": {
    "application/vnd.databricks.v1+cell": {
     "cellMetadata": {
      "byteLimit": 2048000,
      "rowLimit": 10000
     },
     "inputWidgets": {},
     "nuid": "fe2ef929-9fca-4983-9fdf-3afddd5eae5b",
     "showTitle": false,
     "tableResultSettingsMap": {},
     "title": ""
    }
   },
   "outputs": [
    {
     "output_type": "stream",
     "name": "stdout",
     "output_type": "stream",
     "text": [
      "Index(['Current_Role', 'Zip_Code', 'Employee_ID', 'Employee_Annual_Salary',\n       'Monthly_Medical_contribution', 'Monthly_Dental_Contribution',\n       'Monthly_Vision_Contribution', 'Bonus', 'Years_Of_Service',\n       'Department', 'Gender', 'Employee_HR_rate', 'Hours_per_week',\n       'Years_Since_Last_Promotion', 'age', 'left'],\n      dtype='object')\n"
     ]
    }
   ],
   "source": [
    "print(df.columns)"
   ]
  },
  {
   "cell_type": "code",
   "execution_count": 0,
   "metadata": {
    "application/vnd.databricks.v1+cell": {
     "cellMetadata": {
      "byteLimit": 2048000,
      "rowLimit": 10000
     },
     "inputWidgets": {},
     "nuid": "5109b29a-f9f4-401c-95a0-7d117cc9000a",
     "showTitle": false,
     "tableResultSettingsMap": {},
     "title": ""
    }
   },
   "outputs": [
    {
     "output_type": "stream",
     "name": "stdout",
     "output_type": "stream",
     "text": [
      "                Current_Role  Zip_Code  ...  age  left\n0   Senior Software Engineer     94103  ...   34     0\n1   Associate Data Scientist     94111  ...   29     0\n2  Associate Product Manager     10009  ...   31     0\n3           Business Analyst     60605  ...   31     0\n4    Chief Operating Officer      2101  ...   41     1\n\n[5 rows x 16 columns]\n"
     ]
    }
   ],
   "source": [
    "print(df.head())"
   ]
  },
  {
   "cell_type": "code",
   "execution_count": 0,
   "metadata": {
    "application/vnd.databricks.v1+cell": {
     "cellMetadata": {
      "byteLimit": 2048000,
      "rowLimit": 10000
     },
     "inputWidgets": {},
     "nuid": "dff5e5b4-86c2-4669-a07a-6a5066855d04",
     "showTitle": false,
     "tableResultSettingsMap": {},
     "title": ""
    }
   },
   "outputs": [
    {
     "output_type": "stream",
     "name": "stdout",
     "output_type": "stream",
     "text": [
      "(100, 16)\n"
     ]
    }
   ],
   "source": [
    "print(df.shape)"
   ]
  },
  {
   "cell_type": "markdown",
   "metadata": {
    "application/vnd.databricks.v1+cell": {
     "cellMetadata": {
      "byteLimit": 2048000,
      "rowLimit": 10000
     },
     "inputWidgets": {},
     "nuid": "e591a379-c704-4a73-a6bf-47abd670b136",
     "showTitle": false,
     "tableResultSettingsMap": {},
     "title": ""
    },
    "colab_type": "text",
    "id": "CriG6VzVSjcK"
   },
   "source": [
    "## Encoding categorical data"
   ]
  },
  {
   "cell_type": "code",
   "execution_count": 0,
   "metadata": {
    "application/vnd.databricks.v1+cell": {
     "cellMetadata": {
      "byteLimit": 2048000,
      "rowLimit": 10000
     },
     "inputWidgets": {},
     "nuid": "0a3154c2-5382-4713-96ba-5a4565fc144f",
     "showTitle": false,
     "tableResultSettingsMap": {},
     "title": ""
    }
   },
   "outputs": [],
   "source": [
    "df_encoded = pd.get_dummies(df, columns=['Current_Role', 'Department', 'Gender'], drop_first=False).astype(int)\n"
   ]
  },
  {
   "cell_type": "code",
   "execution_count": 0,
   "metadata": {
    "application/vnd.databricks.v1+cell": {
     "cellMetadata": {
      "byteLimit": 2048000,
      "rowLimit": 10000
     },
     "inputWidgets": {},
     "nuid": "3ac6cff5-c8e8-4299-bea8-a0b11c1b1478",
     "showTitle": false,
     "tableResultSettingsMap": {},
     "title": ""
    }
   },
   "outputs": [
    {
     "output_type": "stream",
     "name": "stdout",
     "output_type": "stream",
     "text": [
      "   Zip_Code  Employee_ID  ...  Gender_Male  Gender_Non-Binary\n0     94103           57  ...            1                  0\n1     94111           58  ...            0                  1\n2     10009           59  ...            0                  1\n3     60605           60  ...            0                  0\n4      2101           61  ...            0                  0\n\n[5 rows x 105 columns]\n"
     ]
    }
   ],
   "source": [
    "print(df_encoded.head())"
   ]
  },
  {
   "cell_type": "code",
   "execution_count": 0,
   "metadata": {
    "application/vnd.databricks.v1+cell": {
     "cellMetadata": {
      "byteLimit": 2048000,
      "rowLimit": 10000
     },
     "inputWidgets": {},
     "nuid": "9cb3e665-7860-433a-afab-a8461a85e466",
     "showTitle": false,
     "tableResultSettingsMap": {},
     "title": ""
    }
   },
   "outputs": [
    {
     "output_type": "stream",
     "name": "stdout",
     "output_type": "stream",
     "text": [
      "(100, 105)\n"
     ]
    }
   ],
   "source": [
    "print(df_encoded.shape)"
   ]
  },
  {
   "cell_type": "markdown",
   "metadata": {
    "application/vnd.databricks.v1+cell": {
     "cellMetadata": {
      "byteLimit": 2048000,
      "rowLimit": 10000
     },
     "inputWidgets": {},
     "nuid": "1cb332e1-29c2-425c-b705-c130bec0bf6e",
     "showTitle": false,
     "tableResultSettingsMap": {},
     "title": ""
    }
   },
   "source": [
    "## Removing `left` column"
   ]
  },
  {
   "cell_type": "code",
   "execution_count": 0,
   "metadata": {
    "application/vnd.databricks.v1+cell": {
     "cellMetadata": {
      "byteLimit": 2048000,
      "rowLimit": 10000
     },
     "inputWidgets": {},
     "nuid": "263d87b2-f27c-411d-b551-6eea8dbc9f5d",
     "showTitle": false,
     "tableResultSettingsMap": {},
     "title": ""
    }
   },
   "outputs": [],
   "source": [
    "df_no_left = df_encoded.drop(columns=['left'])\n",
    "X = df_no_left"
   ]
  },
  {
   "cell_type": "code",
   "execution_count": 0,
   "metadata": {
    "application/vnd.databricks.v1+cell": {
     "cellMetadata": {
      "byteLimit": 2048000,
      "rowLimit": 10000
     },
     "inputWidgets": {},
     "nuid": "b69c410d-e58c-4436-b0eb-d744d06c47a6",
     "showTitle": false,
     "tableResultSettingsMap": {},
     "title": ""
    }
   },
   "outputs": [
    {
     "output_type": "stream",
     "name": "stdout",
     "output_type": "stream",
     "text": [
      "   Zip_Code  Employee_ID  ...  Gender_Male  Gender_Non-Binary\n0     94103           57  ...            1                  0\n1     94111           58  ...            0                  1\n2     10009           59  ...            0                  1\n3     60605           60  ...            0                  0\n4      2101           61  ...            0                  0\n\n[5 rows x 104 columns]\n"
     ]
    }
   ],
   "source": [
    "print(X.head())\n"
   ]
  },
  {
   "cell_type": "code",
   "execution_count": 0,
   "metadata": {
    "application/vnd.databricks.v1+cell": {
     "cellMetadata": {
      "byteLimit": 2048000,
      "rowLimit": 10000
     },
     "inputWidgets": {},
     "nuid": "2d5c570a-90c2-49f1-bde3-b962967aac49",
     "showTitle": false,
     "tableResultSettingsMap": {},
     "title": ""
    }
   },
   "outputs": [
    {
     "output_type": "stream",
     "name": "stdout",
     "output_type": "stream",
     "text": [
      "(100, 104)\n"
     ]
    }
   ],
   "source": [
    "print(X.shape)"
   ]
  },
  {
   "cell_type": "markdown",
   "metadata": {
    "application/vnd.databricks.v1+cell": {
     "cellMetadata": {
      "byteLimit": 2048000,
      "rowLimit": 10000
     },
     "inputWidgets": {},
     "nuid": "f75d92f4-96f4-4304-8564-c75784cdc29f",
     "showTitle": false,
     "tableResultSettingsMap": {},
     "title": ""
    }
   },
   "source": [
    "## Feature Scaling"
   ]
  },
  {
   "cell_type": "code",
   "execution_count": 0,
   "metadata": {
    "application/vnd.databricks.v1+cell": {
     "cellMetadata": {
      "byteLimit": 2048000,
      "rowLimit": 10000
     },
     "inputWidgets": {},
     "nuid": "7b53483d-e50f-4ddc-ba0c-358d33a1336c",
     "showTitle": false,
     "tableResultSettingsMap": {},
     "title": ""
    }
   },
   "outputs": [],
   "source": [
    "from sklearn.preprocessing import StandardScaler\n",
    "sc = StandardScaler()\n",
    "\n",
    "# List of columns to scale\n",
    "columns_to_scale = [\n",
    "    'Employee_Annual_Salary', 'Monthly_Medical_contribution',\n",
    "    'Monthly_Dental_Contribution', 'Monthly_Vision_Contribution', 'Bonus',\n",
    "    'Years_Of_Service', 'Employee_HR_rate', 'Hours_per_week',\n",
    "    'Years_Since_Last_Promotion', 'age'\n",
    "]\n",
    "\n",
    "# Fit sc on training data and transform both training and test sets\n",
    "X_scaled = X.copy()\n",
    "\n",
    "X_scaled[columns_to_scale] = sc.fit_transform(X_scaled[columns_to_scale])\n"
   ]
  },
  {
   "cell_type": "code",
   "execution_count": 0,
   "metadata": {
    "application/vnd.databricks.v1+cell": {
     "cellMetadata": {
      "byteLimit": 2048000,
      "rowLimit": 10000
     },
     "inputWidgets": {},
     "nuid": "6f4c5dcd-dfa1-4af9-a599-346e4eac2f47",
     "showTitle": false,
     "tableResultSettingsMap": {},
     "title": ""
    },
    "colab": {
     "base_uri": "https://localhost:8080/",
     "height": 154
    },
    "colab_type": "code",
    "id": "DWPET8ZdlMnu",
    "outputId": "dea86927-5124-4e2a-e974-2804df9a913c"
   },
   "outputs": [
    {
     "output_type": "stream",
     "name": "stdout",
     "output_type": "stream",
     "text": [
      "    Zip_Code  Employee_ID  ...  Gender_Male  Gender_Non-Binary\n0      94103           57  ...            1                  0\n1      94111           58  ...            0                  1\n2      10009           59  ...            0                  1\n3      60605           60  ...            0                  0\n4       2101           61  ...            0                  0\n..       ...          ...  ...          ...                ...\n95     98103          152  ...            1                  0\n96     78723          153  ...            0                  0\n97     78712          154  ...            1                  0\n98     78703          155  ...            1                  0\n99     98109          156  ...            0                  0\n\n[100 rows x 104 columns]\n"
     ]
    }
   ],
   "source": [
    "print(X_scaled)"
   ]
  },
  {
   "cell_type": "code",
   "execution_count": 0,
   "metadata": {
    "application/vnd.databricks.v1+cell": {
     "cellMetadata": {
      "byteLimit": 2048000,
      "rowLimit": 10000
     },
     "inputWidgets": {},
     "nuid": "eb9990c6-d142-49b1-9646-bdb1134c3a40",
     "showTitle": false,
     "tableResultSettingsMap": {},
     "title": ""
    }
   },
   "outputs": [
    {
     "output_type": "stream",
     "name": "stdout",
     "output_type": "stream",
     "text": [
      "(100, 104)\n"
     ]
    }
   ],
   "source": [
    "print(X_scaled.shape)"
   ]
  },
  {
   "cell_type": "markdown",
   "metadata": {
    "application/vnd.databricks.v1+cell": {
     "cellMetadata": {
      "byteLimit": 2048000,
      "rowLimit": 10000
     },
     "inputWidgets": {},
     "nuid": "0e100d98-ec88-4727-9a3d-9a85d4be5479",
     "showTitle": false,
     "tableResultSettingsMap": {},
     "title": ""
    }
   },
   "source": [
    "### Removing `Employee ID` & `Zip Code` in `X_scaled`"
   ]
  },
  {
   "cell_type": "code",
   "execution_count": 0,
   "metadata": {
    "application/vnd.databricks.v1+cell": {
     "cellMetadata": {
      "byteLimit": 2048000,
      "rowLimit": 10000
     },
     "inputWidgets": {},
     "nuid": "af949974-3db9-43ac-8eae-bb8f9de27e49",
     "showTitle": false,
     "tableResultSettingsMap": {},
     "title": ""
    }
   },
   "outputs": [
    {
     "output_type": "stream",
     "name": "stdout",
     "output_type": "stream",
     "text": [
      "<class 'pandas.core.frame.DataFrame'>\n"
     ]
    }
   ],
   "source": [
    "print(type(X_scaled))"
   ]
  },
  {
   "cell_type": "code",
   "execution_count": 0,
   "metadata": {
    "application/vnd.databricks.v1+cell": {
     "cellMetadata": {
      "byteLimit": 2048000,
      "rowLimit": 10000
     },
     "inputWidgets": {},
     "nuid": "d2cbea6b-7e9f-408b-a939-ad84c7ad6ab1",
     "showTitle": false,
     "tableResultSettingsMap": {},
     "title": ""
    }
   },
   "outputs": [
    {
     "output_type": "stream",
     "name": "stdout",
     "output_type": "stream",
     "text": [
      "    Employee_Annual_Salary  ...  Gender_Non-Binary\n0                 0.042182  ...                  0\n1                -1.037434  ...                  1\n2                -0.052320  ...                  1\n3                -0.836975  ...                  0\n4                 3.272440  ...                  0\n..                     ...  ...                ...\n95               -0.773018  ...                  0\n96               -0.624106  ...                  0\n97               -0.773018  ...                  0\n98               -0.778746  ...                  0\n99                3.272440  ...                  0\n\n[100 rows x 102 columns]\n"
     ]
    }
   ],
   "source": [
    "X_scaled_new = X_scaled.drop(columns=['Employee_ID', 'Zip_Code'])\n",
    "print(X_scaled_new)"
   ]
  },
  {
   "cell_type": "markdown",
   "metadata": {
    "application/vnd.databricks.v1+cell": {
     "cellMetadata": {
      "byteLimit": 2048000,
      "rowLimit": 10000
     },
     "inputWidgets": {},
     "nuid": "3d4339de-71d4-42c4-b099-eecb1e43a76a",
     "showTitle": false,
     "tableResultSettingsMap": {},
     "title": ""
    }
   },
   "source": [
    "## Using the elbow method to find the optimal number of clusters"
   ]
  },
  {
   "cell_type": "code",
   "execution_count": 0,
   "metadata": {
    "application/vnd.databricks.v1+cell": {
     "cellMetadata": {
      "byteLimit": 2048000,
      "rowLimit": 10000
     },
     "inputWidgets": {},
     "nuid": "ab9f3a36-a154-4084-ad65-887a986fcb3f",
     "showTitle": false,
     "tableResultSettingsMap": {},
     "title": ""
    }
   },
   "outputs": [
    {
     "output_type": "stream",
     "name": "stderr",
     "output_type": "stream",
     "text": [
      "Exception ignored on calling ctypes callback function: <function _ThreadpoolInfo._find_modules_with_dl_iterate_phdr.<locals>.match_module_callback at 0x7fc4b1bd3910>\nTraceback (most recent call last):\n  File \"/databricks/python/lib/python3.10/site-packages/threadpoolctl.py\", line 400, in match_module_callback\n    self._make_module_from_path(filepath)\n  File \"/databricks/python/lib/python3.10/site-packages/threadpoolctl.py\", line 515, in _make_module_from_path\n    module = module_class(filepath, prefix, user_api, internal_api)\n  File \"/databricks/python/lib/python3.10/site-packages/threadpoolctl.py\", line 606, in __init__\n    self.version = self.get_version()\n  File \"/databricks/python/lib/python3.10/site-packages/threadpoolctl.py\", line 646, in get_version\n    config = get_config().split()\nAttributeError: 'NoneType' object has no attribute 'split'\nException ignored on calling ctypes callback function: <function _ThreadpoolInfo._find_modules_with_dl_iterate_phdr.<locals>.match_module_callback at 0x7fc4b7a839a0>\nTraceback (most recent call last):\n  File \"/databricks/python/lib/python3.10/site-packages/threadpoolctl.py\", line 400, in match_module_callback\n    self._make_module_from_path(filepath)\n  File \"/databricks/python/lib/python3.10/site-packages/threadpoolctl.py\", line 515, in _make_module_from_path\n    module = module_class(filepath, prefix, user_api, internal_api)\n  File \"/databricks/python/lib/python3.10/site-packages/threadpoolctl.py\", line 606, in __init__\n    self.version = self.get_version()\n  File \"/databricks/python/lib/python3.10/site-packages/threadpoolctl.py\", line 646, in get_version\n    config = get_config().split()\nAttributeError: 'NoneType' object has no attribute 'split'\nException ignored on calling ctypes callback function: <function _ThreadpoolInfo._find_modules_with_dl_iterate_phdr.<locals>.match_module_callback at 0x7fc4b7a839a0>\nTraceback (most recent call last):\n  File \"/databricks/python/lib/python3.10/site-packages/threadpoolctl.py\", line 400, in match_module_callback\n    self._make_module_from_path(filepath)\n  File \"/databricks/python/lib/python3.10/site-packages/threadpoolctl.py\", line 515, in _make_module_from_path\n    module = module_class(filepath, prefix, user_api, internal_api)\n  File \"/databricks/python/lib/python3.10/site-packages/threadpoolctl.py\", line 606, in __init__\n    self.version = self.get_version()\n  File \"/databricks/python/lib/python3.10/site-packages/threadpoolctl.py\", line 646, in get_version\n    config = get_config().split()\nAttributeError: 'NoneType' object has no attribute 'split'\nException ignored on calling ctypes callback function: <function _ThreadpoolInfo._find_modules_with_dl_iterate_phdr.<locals>.match_module_callback at 0x7fc4b7a839a0>\nTraceback (most recent call last):\n  File \"/databricks/python/lib/python3.10/site-packages/threadpoolctl.py\", line 400, in match_module_callback\n    self._make_module_from_path(filepath)\n  File \"/databricks/python/lib/python3.10/site-packages/threadpoolctl.py\", line 515, in _make_module_from_path\n    module = module_class(filepath, prefix, user_api, internal_api)\n  File \"/databricks/python/lib/python3.10/site-packages/threadpoolctl.py\", line 606, in __init__\n    self.version = self.get_version()\n  File \"/databricks/python/lib/python3.10/site-packages/threadpoolctl.py\", line 646, in get_version\n    config = get_config().split()\nAttributeError: 'NoneType' object has no attribute 'split'\nException ignored on calling ctypes callback function: <function _ThreadpoolInfo._find_modules_with_dl_iterate_phdr.<locals>.match_module_callback at 0x7fc4b7a839a0>\nTraceback (most recent call last):\n  File \"/databricks/python/lib/python3.10/site-packages/threadpoolctl.py\", line 400, in match_module_callback\n    self._make_module_from_path(filepath)\n  File \"/databricks/python/lib/python3.10/site-packages/threadpoolctl.py\", line 515, in _make_module_from_path\n    module = module_class(filepath, prefix, user_api, internal_api)\n  File \"/databricks/python/lib/python3.10/site-packages/threadpoolctl.py\", line 606, in __init__\n    self.version = self.get_version()\n  File \"/databricks/python/lib/python3.10/site-packages/threadpoolctl.py\", line 646, in get_version\n    config = get_config().split()\nAttributeError: 'NoneType' object has no attribute 'split'\nException ignored on calling ctypes callback function: <function _ThreadpoolInfo._find_modules_with_dl_iterate_phdr.<locals>.match_module_callback at 0x7fc4b7a839a0>\nTraceback (most recent call last):\n  File \"/databricks/python/lib/python3.10/site-packages/threadpoolctl.py\", line 400, in match_module_callback\n    self._make_module_from_path(filepath)\n  File \"/databricks/python/lib/python3.10/site-packages/threadpoolctl.py\", line 515, in _make_module_from_path\n    module = module_class(filepath, prefix, user_api, internal_api)\n  File \"/databricks/python/lib/python3.10/site-packages/threadpoolctl.py\", line 606, in __init__\n    self.version = self.get_version()\n  File \"/databricks/python/lib/python3.10/site-packages/threadpoolctl.py\", line 646, in get_version\n    config = get_config().split()\nAttributeError: 'NoneType' object has no attribute 'split'\nException ignored on calling ctypes callback function: <function _ThreadpoolInfo._find_modules_with_dl_iterate_phdr.<locals>.match_module_callback at 0x7fc4b7a839a0>\nTraceback (most recent call last):\n  File \"/databricks/python/lib/python3.10/site-packages/threadpoolctl.py\", line 400, in match_module_callback\n    self._make_module_from_path(filepath)\n  File \"/databricks/python/lib/python3.10/site-packages/threadpoolctl.py\", line 515, in _make_module_from_path\n    module = module_class(filepath, prefix, user_api, internal_api)\n  File \"/databricks/python/lib/python3.10/site-packages/threadpoolctl.py\", line 606, in __init__\n    self.version = self.get_version()\n  File \"/databricks/python/lib/python3.10/site-packages/threadpoolctl.py\", line 646, in get_version\n    config = get_config().split()\nAttributeError: 'NoneType' object has no attribute 'split'\nException ignored on calling ctypes callback function: <function _ThreadpoolInfo._find_modules_with_dl_iterate_phdr.<locals>.match_module_callback at 0x7fc4b7a839a0>\nTraceback (most recent call last):\n  File \"/databricks/python/lib/python3.10/site-packages/threadpoolctl.py\", line 400, in match_module_callback\n    self._make_module_from_path(filepath)\n  File \"/databricks/python/lib/python3.10/site-packages/threadpoolctl.py\", line 515, in _make_module_from_path\n    module = module_class(filepath, prefix, user_api, internal_api)\n  File \"/databricks/python/lib/python3.10/site-packages/threadpoolctl.py\", line 606, in __init__\n    self.version = self.get_version()\n  File \"/databricks/python/lib/python3.10/site-packages/threadpoolctl.py\", line 646, in get_version\n    config = get_config().split()\nAttributeError: 'NoneType' object has no attribute 'split'\nException ignored on calling ctypes callback function: <function _ThreadpoolInfo._find_modules_with_dl_iterate_phdr.<locals>.match_module_callback at 0x7fc4b7a839a0>\nTraceback (most recent call last):\n  File \"/databricks/python/lib/python3.10/site-packages/threadpoolctl.py\", line 400, in match_module_callback\n    self._make_module_from_path(filepath)\n  File \"/databricks/python/lib/python3.10/site-packages/threadpoolctl.py\", line 515, in _make_module_from_path\n    module = module_class(filepath, prefix, user_api, internal_api)\n  File \"/databricks/python/lib/python3.10/site-packages/threadpoolctl.py\", line 606, in __init__\n    self.version = self.get_version()\n  File \"/databricks/python/lib/python3.10/site-packages/threadpoolctl.py\", line 646, in get_version\n    config = get_config().split()\nAttributeError: 'NoneType' object has no attribute 'split'\nException ignored on calling ctypes callback function: <function _ThreadpoolInfo._find_modules_with_dl_iterate_phdr.<locals>.match_module_callback at 0x7fc4b1bd2ef0>\nTraceback (most recent call last):\n  File \"/databricks/python/lib/python3.10/site-packages/threadpoolctl.py\", line 400, in match_module_callback\n    self._make_module_from_path(filepath)\n  File \"/databricks/python/lib/python3.10/site-packages/threadpoolctl.py\", line 515, in _make_module_from_path\n    module = module_class(filepath, prefix, user_api, internal_api)\n  File \"/databricks/python/lib/python3.10/site-packages/threadpoolctl.py\", line 606, in __init__\n    self.version = self.get_version()\n  File \"/databricks/python/lib/python3.10/site-packages/threadpoolctl.py\", line 646, in get_version\n    config = get_config().split()\nAttributeError: 'NoneType' object has no attribute 'split'\nException ignored on calling ctypes callback function: <function _ThreadpoolInfo._find_modules_with_dl_iterate_phdr.<locals>.match_module_callback at 0x7fc4b1bd3400>\nTraceback (most recent call last):\n  File \"/databricks/python/lib/python3.10/site-packages/threadpoolctl.py\", line 400, in match_module_callback\n    self._make_module_from_path(filepath)\n  File \"/databricks/python/lib/python3.10/site-packages/threadpoolctl.py\", line 515, in _make_module_from_path\n    module = module_class(filepath, prefix, user_api, internal_api)\n  File \"/databricks/python/lib/python3.10/site-packages/threadpoolctl.py\", line 606, in __init__\n    self.version = self.get_version()\n  File \"/databricks/python/lib/python3.10/site-packages/threadpoolctl.py\", line 646, in get_version\n    config = get_config().split()\nAttributeError: 'NoneType' object has no attribute 'split'\nException ignored on calling ctypes callback function: <function _ThreadpoolInfo._find_modules_with_dl_iterate_phdr.<locals>.match_module_callback at 0x7fc4b1bd32e0>\nTraceback (most recent call last):\n  File \"/databricks/python/lib/python3.10/site-packages/threadpoolctl.py\", line 400, in match_module_callback\n    self._make_module_from_path(filepath)\n  File \"/databricks/python/lib/python3.10/site-packages/threadpoolctl.py\", line 515, in _make_module_from_path\n    module = module_class(filepath, prefix, user_api, internal_api)\n  File \"/databricks/python/lib/python3.10/site-packages/threadpoolctl.py\", line 606, in __init__\n    self.version = self.get_version()\n  File \"/databricks/python/lib/python3.10/site-packages/threadpoolctl.py\", line 646, in get_version\n    config = get_config().split()\nAttributeError: 'NoneType' object has no attribute 'split'\nException ignored on calling ctypes callback function: <function _ThreadpoolInfo._find_modules_with_dl_iterate_phdr.<locals>.match_module_callback at 0x7fc4b7a839a0>\nTraceback (most recent call last):\n  File \"/databricks/python/lib/python3.10/site-packages/threadpoolctl.py\", line 400, in match_module_callback\n    self._make_module_from_path(filepath)\n  File \"/databricks/python/lib/python3.10/site-packages/threadpoolctl.py\", line 515, in _make_module_from_path\n    module = module_class(filepath, prefix, user_api, internal_api)\n  File \"/databricks/python/lib/python3.10/site-packages/threadpoolctl.py\", line 606, in __init__\n    self.version = self.get_version()\n  File \"/databricks/python/lib/python3.10/site-packages/threadpoolctl.py\", line 646, in get_version\n    config = get_config().split()\nAttributeError: 'NoneType' object has no attribute 'split'\nException ignored on calling ctypes callback function: <function _ThreadpoolInfo._find_modules_with_dl_iterate_phdr.<locals>.match_module_callback at 0x7fc4b7a839a0>\nTraceback (most recent call last):\n  File \"/databricks/python/lib/python3.10/site-packages/threadpoolctl.py\", line 400, in match_module_callback\n    self._make_module_from_path(filepath)\n  File \"/databricks/python/lib/python3.10/site-packages/threadpoolctl.py\", line 515, in _make_module_from_path\n    module = module_class(filepath, prefix, user_api, internal_api)\n  File \"/databricks/python/lib/python3.10/site-packages/threadpoolctl.py\", line 606, in __init__\n    self.version = self.get_version()\n  File \"/databricks/python/lib/python3.10/site-packages/threadpoolctl.py\", line 646, in get_version\n    config = get_config().split()\nAttributeError: 'NoneType' object has no attribute 'split'\nException ignored on calling ctypes callback function: <function _ThreadpoolInfo._find_modules_with_dl_iterate_phdr.<locals>.match_module_callback at 0x7fc4b7a839a0>\nTraceback (most recent call last):\n  File \"/databricks/python/lib/python3.10/site-packages/threadpoolctl.py\", line 400, in match_module_callback\n    self._make_module_from_path(filepath)\n  File \"/databricks/python/lib/python3.10/site-packages/threadpoolctl.py\", line 515, in _make_module_from_path\n    module = module_class(filepath, prefix, user_api, internal_api)\n  File \"/databricks/python/lib/python3.10/site-packages/threadpoolctl.py\", line 606, in __init__\n    self.version = self.get_version()\n  File \"/databricks/python/lib/python3.10/site-packages/threadpoolctl.py\", line 646, in get_version\n    config = get_config().split()\nAttributeError: 'NoneType' object has no attribute 'split'\nException ignored on calling ctypes callback function: <function _ThreadpoolInfo._find_modules_with_dl_iterate_phdr.<locals>.match_module_callback at 0x7fc4c58565f0>\nTraceback (most recent call last):\n  File \"/databricks/python/lib/python3.10/site-packages/threadpoolctl.py\", line 400, in match_module_callback\n    self._make_module_from_path(filepath)\n  File \"/databricks/python/lib/python3.10/site-packages/threadpoolctl.py\", line 515, in _make_module_from_path\n    module = module_class(filepath, prefix, user_api, internal_api)\n  File \"/databricks/python/lib/python3.10/site-packages/threadpoolctl.py\", line 606, in __init__\n    self.version = self.get_version()\n  File \"/databricks/python/lib/python3.10/site-packages/threadpoolctl.py\", line 646, in get_version\n    config = get_config().split()\nAttributeError: 'NoneType' object has no attribute 'split'\nException ignored on calling ctypes callback function: <function _ThreadpoolInfo._find_modules_with_dl_iterate_phdr.<locals>.match_module_callback at 0x7fc4b49b5fc0>\nTraceback (most recent call last):\n  File \"/databricks/python/lib/python3.10/site-packages/threadpoolctl.py\", line 400, in match_module_callback\n    self._make_module_from_path(filepath)\n  File \"/databricks/python/lib/python3.10/site-packages/threadpoolctl.py\", line 515, in _make_module_from_path\n    module = module_class(filepath, prefix, user_api, internal_api)\n  File \"/databricks/python/lib/python3.10/site-packages/threadpoolctl.py\", line 606, in __init__\n    self.version = self.get_version()\n  File \"/databricks/python/lib/python3.10/site-packages/threadpoolctl.py\", line 646, in get_version\n    config = get_config().split()\nAttributeError: 'NoneType' object has no attribute 'split'\nException ignored on calling ctypes callback function: <function _ThreadpoolInfo._find_modules_with_dl_iterate_phdr.<locals>.match_module_callback at 0x7fc4b49b5fc0>\nTraceback (most recent call last):\n  File \"/databricks/python/lib/python3.10/site-packages/threadpoolctl.py\", line 400, in match_module_callback\n    self._make_module_from_path(filepath)\n  File \"/databricks/python/lib/python3.10/site-packages/threadpoolctl.py\", line 515, in _make_module_from_path\n    module = module_class(filepath, prefix, user_api, internal_api)\n  File \"/databricks/python/lib/python3.10/site-packages/threadpoolctl.py\", line 606, in __init__\n    self.version = self.get_version()\n  File \"/databricks/python/lib/python3.10/site-packages/threadpoolctl.py\", line 646, in get_version\n    config = get_config().split()\nAttributeError: 'NoneType' object has no attribute 'split'\nException ignored on calling ctypes callback function: <function _ThreadpoolInfo._find_modules_with_dl_iterate_phdr.<locals>.match_module_callback at 0x7fc4b49b5fc0>\nTraceback (most recent call last):\n  File \"/databricks/python/lib/python3.10/site-packages/threadpoolctl.py\", line 400, in match_module_callback\n    self._make_module_from_path(filepath)\n  File \"/databricks/python/lib/python3.10/site-packages/threadpoolctl.py\", line 515, in _make_module_from_path\n    module = module_class(filepath, prefix, user_api, internal_api)\n  File \"/databricks/python/lib/python3.10/site-packages/threadpoolctl.py\", line 606, in __init__\n    self.version = self.get_version()\n  File \"/databricks/python/lib/python3.10/site-packages/threadpoolctl.py\", line 646, in get_version\n    config = get_config().split()\nAttributeError: 'NoneType' object has no attribute 'split'\nException ignored on calling ctypes callback function: <function _ThreadpoolInfo._find_modules_with_dl_iterate_phdr.<locals>.match_module_callback at 0x7fc4b7a839a0>\nTraceback (most recent call last):\n  File \"/databricks/python/lib/python3.10/site-packages/threadpoolctl.py\", line 400, in match_module_callback\n    self._make_module_from_path(filepath)\n  File \"/databricks/python/lib/python3.10/site-packages/threadpoolctl.py\", line 515, in _make_module_from_path\n    module = module_class(filepath, prefix, user_api, internal_api)\n  File \"/databricks/python/lib/python3.10/site-packages/threadpoolctl.py\", line 606, in __init__\n    self.version = self.get_version()\n  File \"/databricks/python/lib/python3.10/site-packages/threadpoolctl.py\", line 646, in get_version\n    config = get_config().split()\nAttributeError: 'NoneType' object has no attribute 'split'\nException ignored on calling ctypes callback function: <function _ThreadpoolInfo._find_modules_with_dl_iterate_phdr.<locals>.match_module_callback at 0x7fc4b49b5fc0>\nTraceback (most recent call last):\n  File \"/databricks/python/lib/python3.10/site-packages/threadpoolctl.py\", line 400, in match_module_callback\n    self._make_module_from_path(filepath)\n  File \"/databricks/python/lib/python3.10/site-packages/threadpoolctl.py\", line 515, in _make_module_from_path\n    module = module_class(filepath, prefix, user_api, internal_api)\n  File \"/databricks/python/lib/python3.10/site-packages/threadpoolctl.py\", line 606, in __init__\n    self.version = self.get_version()\n  File \"/databricks/python/lib/python3.10/site-packages/threadpoolctl.py\", line 646, in get_version\n    config = get_config().split()\nAttributeError: 'NoneType' object has no attribute 'split'\nException ignored on calling ctypes callback function: <function _ThreadpoolInfo._find_modules_with_dl_iterate_phdr.<locals>.match_module_callback at 0x7fc4b49b5fc0>\nTraceback (most recent call last):\n  File \"/databricks/python/lib/python3.10/site-packages/threadpoolctl.py\", line 400, in match_module_callback\n    self._make_module_from_path(filepath)\n  File \"/databricks/python/lib/python3.10/site-packages/threadpoolctl.py\", line 515, in _make_module_from_path\n    module = module_class(filepath, prefix, user_api, internal_api)\n  File \"/databricks/python/lib/python3.10/site-packages/threadpoolctl.py\", line 606, in __init__\n    self.version = self.get_version()\n  File \"/databricks/python/lib/python3.10/site-packages/threadpoolctl.py\", line 646, in get_version\n    config = get_config().split()\nAttributeError: 'NoneType' object has no attribute 'split'\nException ignored on calling ctypes callback function: <function _ThreadpoolInfo._find_modules_with_dl_iterate_phdr.<locals>.match_module_callback at 0x7fc4c58565f0>\nTraceback (most recent call last):\n  File \"/databricks/python/lib/python3.10/site-packages/threadpoolctl.py\", line 400, in match_module_callback\n    self._make_module_from_path(filepath)\n  File \"/databricks/python/lib/python3.10/site-packages/threadpoolctl.py\", line 515, in _make_module_from_path\n    module = module_class(filepath, prefix, user_api, internal_api)\n  File \"/databricks/python/lib/python3.10/site-packages/threadpoolctl.py\", line 606, in __init__\n    self.version = self.get_version()\n  File \"/databricks/python/lib/python3.10/site-packages/threadpoolctl.py\", line 646, in get_version\n    config = get_config().split()\nAttributeError: 'NoneType' object has no attribute 'split'\nException ignored on calling ctypes callback function: <function _ThreadpoolInfo._find_modules_with_dl_iterate_phdr.<locals>.match_module_callback at 0x7fc4c58565f0>\nTraceback (most recent call last):\n  File \"/databricks/python/lib/python3.10/site-packages/threadpoolctl.py\", line 400, in match_module_callback\n    self._make_module_from_path(filepath)\n  File \"/databricks/python/lib/python3.10/site-packages/threadpoolctl.py\", line 515, in _make_module_from_path\n    module = module_class(filepath, prefix, user_api, internal_api)\n  File \"/databricks/python/lib/python3.10/site-packages/threadpoolctl.py\", line 606, in __init__\n    self.version = self.get_version()\n  File \"/databricks/python/lib/python3.10/site-packages/threadpoolctl.py\", line 646, in get_version\n    config = get_config().split()\nAttributeError: 'NoneType' object has no attribute 'split'\nException ignored on calling ctypes callback function: <function _ThreadpoolInfo._find_modules_with_dl_iterate_phdr.<locals>.match_module_callback at 0x7fc4b7a839a0>\nTraceback (most recent call last):\n  File \"/databricks/python/lib/python3.10/site-packages/threadpoolctl.py\", line 400, in match_module_callback\n    self._make_module_from_path(filepath)\n  File \"/databricks/python/lib/python3.10/site-packages/threadpoolctl.py\", line 515, in _make_module_from_path\n    module = module_class(filepath, prefix, user_api, internal_api)\n  File \"/databricks/python/lib/python3.10/site-packages/threadpoolctl.py\", line 606, in __init__\n    self.version = self.get_version()\n  File \"/databricks/python/lib/python3.10/site-packages/threadpoolctl.py\", line 646, in get_version\n    config = get_config().split()\nAttributeError: 'NoneType' object has no attribute 'split'\nException ignored on calling ctypes callback function: <function _ThreadpoolInfo._find_modules_with_dl_iterate_phdr.<locals>.match_module_callback at 0x7fc4b49b5fc0>\nTraceback (most recent call last):\n  File \"/databricks/python/lib/python3.10/site-packages/threadpoolctl.py\", line 400, in match_module_callback\n    self._make_module_from_path(filepath)\n  File \"/databricks/python/lib/python3.10/site-packages/threadpoolctl.py\", line 515, in _make_module_from_path\n    module = module_class(filepath, prefix, user_api, internal_api)\n  File \"/databricks/python/lib/python3.10/site-packages/threadpoolctl.py\", line 606, in __init__\n    self.version = self.get_version()\n  File \"/databricks/python/lib/python3.10/site-packages/threadpoolctl.py\", line 646, in get_version\n    config = get_config().split()\nAttributeError: 'NoneType' object has no attribute 'split'\nException ignored on calling ctypes callback function: <function _ThreadpoolInfo._find_modules_with_dl_iterate_phdr.<locals>.match_module_callback at 0x7fc4b49b5fc0>\nTraceback (most recent call last):\n  File \"/databricks/python/lib/python3.10/site-packages/threadpoolctl.py\", line 400, in match_module_callback\n    self._make_module_from_path(filepath)\n  File \"/databricks/python/lib/python3.10/site-packages/threadpoolctl.py\", line 515, in _make_module_from_path\n    module = module_class(filepath, prefix, user_api, internal_api)\n  File \"/databricks/python/lib/python3.10/site-packages/threadpoolctl.py\", line 606, in __init__\n    self.version = self.get_version()\n  File \"/databricks/python/lib/python3.10/site-packages/threadpoolctl.py\", line 646, in get_version\n    config = get_config().split()\nAttributeError: 'NoneType' object has no attribute 'split'\nException ignored on calling ctypes callback function: <function _ThreadpoolInfo._find_modules_with_dl_iterate_phdr.<locals>.match_module_callback at 0x7fc4b1bd3400>\nTraceback (most recent call last):\n  File \"/databricks/python/lib/python3.10/site-packages/threadpoolctl.py\", line 400, in match_module_callback\n    self._make_module_from_path(filepath)\n  File \"/databricks/python/lib/python3.10/site-packages/threadpoolctl.py\", line 515, in _make_module_from_path\n    module = module_class(filepath, prefix, user_api, internal_api)\n  File \"/databricks/python/lib/python3.10/site-packages/threadpoolctl.py\", line 606, in __init__\n    self.version = self.get_version()\n  File \"/databricks/python/lib/python3.10/site-packages/threadpoolctl.py\", line 646, in get_version\n    config = get_config().split()\nAttributeError: 'NoneType' object has no attribute 'split'\nException ignored on calling ctypes callback function: <function _ThreadpoolInfo._find_modules_with_dl_iterate_phdr.<locals>.match_module_callback at 0x7fc4b1bd3400>\nTraceback (most recent call last):\n  File \"/databricks/python/lib/python3.10/site-packages/threadpoolctl.py\", line 400, in match_module_callback\n    self._make_module_from_path(filepath)\n  File \"/databricks/python/lib/python3.10/site-packages/threadpoolctl.py\", line 515, in _make_module_from_path\n    module = module_class(filepath, prefix, user_api, internal_api)\n  File \"/databricks/python/lib/python3.10/site-packages/threadpoolctl.py\", line 606, in __init__\n    self.version = self.get_version()\n  File \"/databricks/python/lib/python3.10/site-packages/threadpoolctl.py\", line 646, in get_version\n    config = get_config().split()\nAttributeError: 'NoneType' object has no attribute 'split'\nException ignored on calling ctypes callback function: <func\n\n*** WARNING: max output size exceeded, skipping output. ***\n\n\nAttributeError: 'NoneType' object has no attribute 'split'\nException ignored on calling ctypes callback function: <function _ThreadpoolInfo._find_modules_with_dl_iterate_phdr.<locals>.match_module_callback at 0x7fc4b49b5fc0>\nTraceback (most recent call last):\n  File \"/databricks/python/lib/python3.10/site-packages/threadpoolctl.py\", line 400, in match_module_callback\n    self._make_module_from_path(filepath)\n  File \"/databricks/python/lib/python3.10/site-packages/threadpoolctl.py\", line 515, in _make_module_from_path\n    module = module_class(filepath, prefix, user_api, internal_api)\n  File \"/databricks/python/lib/python3.10/site-packages/threadpoolctl.py\", line 606, in __init__\n    self.version = self.get_version()\n  File \"/databricks/python/lib/python3.10/site-packages/threadpoolctl.py\", line 646, in get_version\n    config = get_config().split()\nAttributeError: 'NoneType' object has no attribute 'split'\nException ignored on calling ctypes callback function: <function _ThreadpoolInfo._find_modules_with_dl_iterate_phdr.<locals>.match_module_callback at 0x7fc4c58565f0>\nTraceback (most recent call last):\n  File \"/databricks/python/lib/python3.10/site-packages/threadpoolctl.py\", line 400, in match_module_callback\n    self._make_module_from_path(filepath)\n  File \"/databricks/python/lib/python3.10/site-packages/threadpoolctl.py\", line 515, in _make_module_from_path\n    module = module_class(filepath, prefix, user_api, internal_api)\n  File \"/databricks/python/lib/python3.10/site-packages/threadpoolctl.py\", line 606, in __init__\n    self.version = self.get_version()\n  File \"/databricks/python/lib/python3.10/site-packages/threadpoolctl.py\", line 646, in get_version\n    config = get_config().split()\nAttributeError: 'NoneType' object has no attribute 'split'\nException ignored on calling ctypes callback function: <function _ThreadpoolInfo._find_modules_with_dl_iterate_phdr.<locals>.match_module_callback at 0x7fc4b49b5fc0>\nTraceback (most recent call last):\n  File \"/databricks/python/lib/python3.10/site-packages/threadpoolctl.py\", line 400, in match_module_callback\n    self._make_module_from_path(filepath)\n  File \"/databricks/python/lib/python3.10/site-packages/threadpoolctl.py\", line 515, in _make_module_from_path\n    module = module_class(filepath, prefix, user_api, internal_api)\n  File \"/databricks/python/lib/python3.10/site-packages/threadpoolctl.py\", line 606, in __init__\n    self.version = self.get_version()\n  File \"/databricks/python/lib/python3.10/site-packages/threadpoolctl.py\", line 646, in get_version\n    config = get_config().split()\nAttributeError: 'NoneType' object has no attribute 'split'\nException ignored on calling ctypes callback function: <function _ThreadpoolInfo._find_modules_with_dl_iterate_phdr.<locals>.match_module_callback at 0x7fc4b7a839a0>\nTraceback (most recent call last):\n  File \"/databricks/python/lib/python3.10/site-packages/threadpoolctl.py\", line 400, in match_module_callback\n    self._make_module_from_path(filepath)\n  File \"/databricks/python/lib/python3.10/site-packages/threadpoolctl.py\", line 515, in _make_module_from_path\n    module = module_class(filepath, prefix, user_api, internal_api)\n  File \"/databricks/python/lib/python3.10/site-packages/threadpoolctl.py\", line 606, in __init__\n    self.version = self.get_version()\n  File \"/databricks/python/lib/python3.10/site-packages/threadpoolctl.py\", line 646, in get_version\n    config = get_config().split()\nAttributeError: 'NoneType' object has no attribute 'split'\nException ignored on calling ctypes callback function: <function _ThreadpoolInfo._find_modules_with_dl_iterate_phdr.<locals>.match_module_callback at 0x7fc4b7a839a0>\nTraceback (most recent call last):\n  File \"/databricks/python/lib/python3.10/site-packages/threadpoolctl.py\", line 400, in match_module_callback\n    self._make_module_from_path(filepath)\n  File \"/databricks/python/lib/python3.10/site-packages/threadpoolctl.py\", line 515, in _make_module_from_path\n    module = module_class(filepath, prefix, user_api, internal_api)\n  File \"/databricks/python/lib/python3.10/site-packages/threadpoolctl.py\", line 606, in __init__\n    self.version = self.get_version()\n  File \"/databricks/python/lib/python3.10/site-packages/threadpoolctl.py\", line 646, in get_version\n    config = get_config().split()\nAttributeError: 'NoneType' object has no attribute 'split'\nException ignored on calling ctypes callback function: <function _ThreadpoolInfo._find_modules_with_dl_iterate_phdr.<locals>.match_module_callback at 0x7fc4b7a839a0>\nTraceback (most recent call last):\n  File \"/databricks/python/lib/python3.10/site-packages/threadpoolctl.py\", line 400, in match_module_callback\n    self._make_module_from_path(filepath)\n  File \"/databricks/python/lib/python3.10/site-packages/threadpoolctl.py\", line 515, in _make_module_from_path\n    module = module_class(filepath, prefix, user_api, internal_api)\n  File \"/databricks/python/lib/python3.10/site-packages/threadpoolctl.py\", line 606, in __init__\n    self.version = self.get_version()\n  File \"/databricks/python/lib/python3.10/site-packages/threadpoolctl.py\", line 646, in get_version\n    config = get_config().split()\nAttributeError: 'NoneType' object has no attribute 'split'\nException ignored on calling ctypes callback function: <function _ThreadpoolInfo._find_modules_with_dl_iterate_phdr.<locals>.match_module_callback at 0x7fc4b7a839a0>\nTraceback (most recent call last):\n  File \"/databricks/python/lib/python3.10/site-packages/threadpoolctl.py\", line 400, in match_module_callback\n    self._make_module_from_path(filepath)\n  File \"/databricks/python/lib/python3.10/site-packages/threadpoolctl.py\", line 515, in _make_module_from_path\n    module = module_class(filepath, prefix, user_api, internal_api)\n  File \"/databricks/python/lib/python3.10/site-packages/threadpoolctl.py\", line 606, in __init__\n    self.version = self.get_version()\n  File \"/databricks/python/lib/python3.10/site-packages/threadpoolctl.py\", line 646, in get_version\n    config = get_config().split()\nAttributeError: 'NoneType' object has no attribute 'split'\nException ignored on calling ctypes callback function: <function _ThreadpoolInfo._find_modules_with_dl_iterate_phdr.<locals>.match_module_callback at 0x7fc4b49b5fc0>\nTraceback (most recent call last):\n  File \"/databricks/python/lib/python3.10/site-packages/threadpoolctl.py\", line 400, in match_module_callback\n    self._make_module_from_path(filepath)\n  File \"/databricks/python/lib/python3.10/site-packages/threadpoolctl.py\", line 515, in _make_module_from_path\n    module = module_class(filepath, prefix, user_api, internal_api)\n  File \"/databricks/python/lib/python3.10/site-packages/threadpoolctl.py\", line 606, in __init__\n    self.version = self.get_version()\n  File \"/databricks/python/lib/python3.10/site-packages/threadpoolctl.py\", line 646, in get_version\n    config = get_config().split()\nAttributeError: 'NoneType' object has no attribute 'split'\nException ignored on calling ctypes callback function: <function _ThreadpoolInfo._find_modules_with_dl_iterate_phdr.<locals>.match_module_callback at 0x7fc4b49b5fc0>\nTraceback (most recent call last):\n  File \"/databricks/python/lib/python3.10/site-packages/threadpoolctl.py\", line 400, in match_module_callback\n    self._make_module_from_path(filepath)\n  File \"/databricks/python/lib/python3.10/site-packages/threadpoolctl.py\", line 515, in _make_module_from_path\n    module = module_class(filepath, prefix, user_api, internal_api)\n  File \"/databricks/python/lib/python3.10/site-packages/threadpoolctl.py\", line 606, in __init__\n    self.version = self.get_version()\n  File \"/databricks/python/lib/python3.10/site-packages/threadpoolctl.py\", line 646, in get_version\n    config = get_config().split()\nAttributeError: 'NoneType' object has no attribute 'split'\nException ignored on calling ctypes callback function: <function _ThreadpoolInfo._find_modules_with_dl_iterate_phdr.<locals>.match_module_callback at 0x7fc4b7a839a0>\nTraceback (most recent call last):\n  File \"/databricks/python/lib/python3.10/site-packages/threadpoolctl.py\", line 400, in match_module_callback\n    self._make_module_from_path(filepath)\n  File \"/databricks/python/lib/python3.10/site-packages/threadpoolctl.py\", line 515, in _make_module_from_path\n    module = module_class(filepath, prefix, user_api, internal_api)\n  File \"/databricks/python/lib/python3.10/site-packages/threadpoolctl.py\", line 606, in __init__\n    self.version = self.get_version()\n  File \"/databricks/python/lib/python3.10/site-packages/threadpoolctl.py\", line 646, in get_version\n    config = get_config().split()\nAttributeError: 'NoneType' object has no attribute 'split'\nException ignored on calling ctypes callback function: <function _ThreadpoolInfo._find_modules_with_dl_iterate_phdr.<locals>.match_module_callback at 0x7fc4b7a839a0>\nTraceback (most recent call last):\n  File \"/databricks/python/lib/python3.10/site-packages/threadpoolctl.py\", line 400, in match_module_callback\n    self._make_module_from_path(filepath)\n  File \"/databricks/python/lib/python3.10/site-packages/threadpoolctl.py\", line 515, in _make_module_from_path\n    module = module_class(filepath, prefix, user_api, internal_api)\n  File \"/databricks/python/lib/python3.10/site-packages/threadpoolctl.py\", line 606, in __init__\n    self.version = self.get_version()\n  File \"/databricks/python/lib/python3.10/site-packages/threadpoolctl.py\", line 646, in get_version\n    config = get_config().split()\nAttributeError: 'NoneType' object has no attribute 'split'\nException ignored on calling ctypes callback function: <function _ThreadpoolInfo._find_modules_with_dl_iterate_phdr.<locals>.match_module_callback at 0x7fc4b7a839a0>\nTraceback (most recent call last):\n  File \"/databricks/python/lib/python3.10/site-packages/threadpoolctl.py\", line 400, in match_module_callback\n    self._make_module_from_path(filepath)\n  File \"/databricks/python/lib/python3.10/site-packages/threadpoolctl.py\", line 515, in _make_module_from_path\n    module = module_class(filepath, prefix, user_api, internal_api)\n  File \"/databricks/python/lib/python3.10/site-packages/threadpoolctl.py\", line 606, in __init__\n    self.version = self.get_version()\n  File \"/databricks/python/lib/python3.10/site-packages/threadpoolctl.py\", line 646, in get_version\n    config = get_config().split()\nAttributeError: 'NoneType' object has no attribute 'split'\nException ignored on calling ctypes callback function: <function _ThreadpoolInfo._find_modules_with_dl_iterate_phdr.<locals>.match_module_callback at 0x7fc4b7a839a0>\nTraceback (most recent call last):\n  File \"/databricks/python/lib/python3.10/site-packages/threadpoolctl.py\", line 400, in match_module_callback\n    self._make_module_from_path(filepath)\n  File \"/databricks/python/lib/python3.10/site-packages/threadpoolctl.py\", line 515, in _make_module_from_path\n    module = module_class(filepath, prefix, user_api, internal_api)\n  File \"/databricks/python/lib/python3.10/site-packages/threadpoolctl.py\", line 606, in __init__\n    self.version = self.get_version()\n  File \"/databricks/python/lib/python3.10/site-packages/threadpoolctl.py\", line 646, in get_version\n    config = get_config().split()\nAttributeError: 'NoneType' object has no attribute 'split'\nException ignored on calling ctypes callback function: <function _ThreadpoolInfo._find_modules_with_dl_iterate_phdr.<locals>.match_module_callback at 0x7fc4b49b5fc0>\nTraceback (most recent call last):\n  File \"/databricks/python/lib/python3.10/site-packages/threadpoolctl.py\", line 400, in match_module_callback\n    self._make_module_from_path(filepath)\n  File \"/databricks/python/lib/python3.10/site-packages/threadpoolctl.py\", line 515, in _make_module_from_path\n    module = module_class(filepath, prefix, user_api, internal_api)\n  File \"/databricks/python/lib/python3.10/site-packages/threadpoolctl.py\", line 606, in __init__\n    self.version = self.get_version()\n  File \"/databricks/python/lib/python3.10/site-packages/threadpoolctl.py\", line 646, in get_version\n    config = get_config().split()\nAttributeError: 'NoneType' object has no attribute 'split'\nException ignored on calling ctypes callback function: <function _ThreadpoolInfo._find_modules_with_dl_iterate_phdr.<locals>.match_module_callback at 0x7fc4c58565f0>\nTraceback (most recent call last):\n  File \"/databricks/python/lib/python3.10/site-packages/threadpoolctl.py\", line 400, in match_module_callback\n    self._make_module_from_path(filepath)\n  File \"/databricks/python/lib/python3.10/site-packages/threadpoolctl.py\", line 515, in _make_module_from_path\n    module = module_class(filepath, prefix, user_api, internal_api)\n  File \"/databricks/python/lib/python3.10/site-packages/threadpoolctl.py\", line 606, in __init__\n    self.version = self.get_version()\n  File \"/databricks/python/lib/python3.10/site-packages/threadpoolctl.py\", line 646, in get_version\n    config = get_config().split()\nAttributeError: 'NoneType' object has no attribute 'split'\nException ignored on calling ctypes callback function: <function _ThreadpoolInfo._find_modules_with_dl_iterate_phdr.<locals>.match_module_callback at 0x7fc4c58565f0>\nTraceback (most recent call last):\n  File \"/databricks/python/lib/python3.10/site-packages/threadpoolctl.py\", line 400, in match_module_callback\n    self._make_module_from_path(filepath)\n  File \"/databricks/python/lib/python3.10/site-packages/threadpoolctl.py\", line 515, in _make_module_from_path\n    module = module_class(filepath, prefix, user_api, internal_api)\n  File \"/databricks/python/lib/python3.10/site-packages/threadpoolctl.py\", line 606, in __init__\n    self.version = self.get_version()\n  File \"/databricks/python/lib/python3.10/site-packages/threadpoolctl.py\", line 646, in get_version\n    config = get_config().split()\nAttributeError: 'NoneType' object has no attribute 'split'\nException ignored on calling ctypes callback function: <function _ThreadpoolInfo._find_modules_with_dl_iterate_phdr.<locals>.match_module_callback at 0x7fc4c58565f0>\nTraceback (most recent call last):\n  File \"/databricks/python/lib/python3.10/site-packages/threadpoolctl.py\", line 400, in match_module_callback\n    self._make_module_from_path(filepath)\n  File \"/databricks/python/lib/python3.10/site-packages/threadpoolctl.py\", line 515, in _make_module_from_path\n    module = module_class(filepath, prefix, user_api, internal_api)\n  File \"/databricks/python/lib/python3.10/site-packages/threadpoolctl.py\", line 606, in __init__\n    self.version = self.get_version()\n  File \"/databricks/python/lib/python3.10/site-packages/threadpoolctl.py\", line 646, in get_version\n    config = get_config().split()\nAttributeError: 'NoneType' object has no attribute 'split'\nException ignored on calling ctypes callback function: <function _ThreadpoolInfo._find_modules_with_dl_iterate_phdr.<locals>.match_module_callback at 0x7fc4b7a839a0>\nTraceback (most recent call last):\n  File \"/databricks/python/lib/python3.10/site-packages/threadpoolctl.py\", line 400, in match_module_callback\n    self._make_module_from_path(filepath)\n  File \"/databricks/python/lib/python3.10/site-packages/threadpoolctl.py\", line 515, in _make_module_from_path\n    module = module_class(filepath, prefix, user_api, internal_api)\n  File \"/databricks/python/lib/python3.10/site-packages/threadpoolctl.py\", line 606, in __init__\n    self.version = self.get_version()\n  File \"/databricks/python/lib/python3.10/site-packages/threadpoolctl.py\", line 646, in get_version\n    config = get_config().split()\nAttributeError: 'NoneType' object has no attribute 'split'\nException ignored on calling ctypes callback function: <function _ThreadpoolInfo._find_modules_with_dl_iterate_phdr.<locals>.match_module_callback at 0x7fc4b7a839a0>\nTraceback (most recent call last):\n  File \"/databricks/python/lib/python3.10/site-packages/threadpoolctl.py\", line 400, in match_module_callback\n    self._make_module_from_path(filepath)\n  File \"/databricks/python/lib/python3.10/site-packages/threadpoolctl.py\", line 515, in _make_module_from_path\n    module = module_class(filepath, prefix, user_api, internal_api)\n  File \"/databricks/python/lib/python3.10/site-packages/threadpoolctl.py\", line 606, in __init__\n    self.version = self.get_version()\n  File \"/databricks/python/lib/python3.10/site-packages/threadpoolctl.py\", line 646, in get_version\n    config = get_config().split()\nAttributeError: 'NoneType' object has no attribute 'split'\nException ignored on calling ctypes callback function: <function _ThreadpoolInfo._find_modules_with_dl_iterate_phdr.<locals>.match_module_callback at 0x7fc4b49b5fc0>\nTraceback (most recent call last):\n  File \"/databricks/python/lib/python3.10/site-packages/threadpoolctl.py\", line 400, in match_module_callback\n    self._make_module_from_path(filepath)\n  File \"/databricks/python/lib/python3.10/site-packages/threadpoolctl.py\", line 515, in _make_module_from_path\n    module = module_class(filepath, prefix, user_api, internal_api)\n  File \"/databricks/python/lib/python3.10/site-packages/threadpoolctl.py\", line 606, in __init__\n    self.version = self.get_version()\n  File \"/databricks/python/lib/python3.10/site-packages/threadpoolctl.py\", line 646, in get_version\n    config = get_config().split()\nAttributeError: 'NoneType' object has no attribute 'split'\nException ignored on calling ctypes callback function: <function _ThreadpoolInfo._find_modules_with_dl_iterate_phdr.<locals>.match_module_callback at 0x7fc4c58565f0>\nTraceback (most recent call last):\n  File \"/databricks/python/lib/python3.10/site-packages/threadpoolctl.py\", line 400, in match_module_callback\n    self._make_module_from_path(filepath)\n  File \"/databricks/python/lib/python3.10/site-packages/threadpoolctl.py\", line 515, in _make_module_from_path\n    module = module_class(filepath, prefix, user_api, internal_api)\n  File \"/databricks/python/lib/python3.10/site-packages/threadpoolctl.py\", line 606, in __init__\n    self.version = self.get_version()\n  File \"/databricks/python/lib/python3.10/site-packages/threadpoolctl.py\", line 646, in get_version\n    config = get_config().split()\nAttributeError: 'NoneType' object has no attribute 'split'\nException ignored on calling ctypes callback function: <function _ThreadpoolInfo._find_modules_with_dl_iterate_phdr.<locals>.match_module_callback at 0x7fc4c58565f0>\nTraceback (most recent call last):\n  File \"/databricks/python/lib/python3.10/site-packages/threadpoolctl.py\", line 400, in match_module_callback\n    self._make_module_from_path(filepath)\n  File \"/databricks/python/lib/python3.10/site-packages/threadpoolctl.py\", line 515, in _make_module_from_path\n    module = module_class(filepath, prefix, user_api, internal_api)\n  File \"/databricks/python/lib/python3.10/site-packages/threadpoolctl.py\", line 606, in __init__\n    self.version = self.get_version()\n  File \"/databricks/python/lib/python3.10/site-packages/threadpoolctl.py\", line 646, in get_version\n    config = get_config().split()\nAttributeError: 'NoneType' object has no attribute 'split'\nException ignored on calling ctypes callback function: <function _ThreadpoolInfo._find_modules_with_dl_iterate_phdr.<locals>.match_module_callback at 0x7fc4c58565f0>\nTraceback (most recent call last):\n  File \"/databricks/python/lib/python3.10/site-packages/threadpoolctl.py\", line 400, in match_module_callback\n    self._make_module_from_path(filepath)\n  File \"/databricks/python/lib/python3.10/site-packages/threadpoolctl.py\", line 515, in _make_module_from_path\n    module = module_class(filepath, prefix, user_api, internal_api)\n  File \"/databricks/python/lib/python3.10/site-packages/threadpoolctl.py\", line 606, in __init__\n    self.version = self.get_version()\n  File \"/databricks/python/lib/python3.10/site-packages/threadpoolctl.py\", line 646, in get_version\n    config = get_config().split()\nAttributeError: 'NoneType' object has no attribute 'split'\nException ignored on calling ctypes callback function: <function _ThreadpoolInfo._find_modules_with_dl_iterate_phdr.<locals>.match_module_callback at 0x7fc4c58565f0>\nTraceback (most recent call last):\n  File \"/databricks/python/lib/python3.10/site-packages/threadpoolctl.py\", line 400, in match_module_callback\n    self._make_module_from_path(filepath)\n  File \"/databricks/python/lib/python3.10/site-packages/threadpoolctl.py\", line 515, in _make_module_from_path\n    module = module_class(filepath, prefix, user_api, internal_api)\n  File \"/databricks/python/lib/python3.10/site-packages/threadpoolctl.py\", line 606, in __init__\n    self.version = self.get_version()\n  File \"/databricks/python/lib/python3.10/site-packages/threadpoolctl.py\", line 646, in get_version\n    config = get_config().split()\nAttributeError: 'NoneType' object has no attribute 'split'\nException ignored on calling ctypes callback function: <function _ThreadpoolInfo._find_modules_with_dl_iterate_phdr.<locals>.match_module_callback at 0x7fc4b7a839a0>\nTraceback (most recent call last):\n  File \"/databricks/python/lib/python3.10/site-packages/threadpoolctl.py\", line 400, in match_module_callback\n    self._make_module_from_path(filepath)\n  File \"/databricks/python/lib/python3.10/site-packages/threadpoolctl.py\", line 515, in _make_module_from_path\n    module = module_class(filepath, prefix, user_api, internal_api)\n  File \"/databricks/python/lib/python3.10/site-packages/threadpoolctl.py\", line 606, in __init__\n    self.version = self.get_version()\n  File \"/databricks/python/lib/python3.10/site-packages/threadpoolctl.py\", line 646, in get_version\n    config = get_config().split()\nAttributeError: 'NoneType' object has no attribute 'split'\nException ignored on calling ctypes callback function: <function _ThreadpoolInfo._find_modules_with_dl_iterate_phdr.<locals>.match_module_callback at 0x7fc4b7a839a0>\nTraceback (most recent call last):\n  File \"/databricks/python/lib/python3.10/site-packages/threadpoolctl.py\", line 400, in match_module_callback\n    self._make_module_from_path(filepath)\n  File \"/databricks/python/lib/python3.10/site-packages/threadpoolctl.py\", line 515, in _make_module_from_path\n    module = module_class(filepath, prefix, user_api, internal_api)\n  File \"/databricks/python/lib/python3.10/site-packages/threadpoolctl.py\", line 606, in __init__\n    self.version = self.get_version()\n  File \"/databricks/python/lib/python3.10/site-packages/threadpoolctl.py\", line 646, in get_version\n    config = get_config().split()\nAttributeError: 'NoneType' object has no attribute 'split'\nException ignored on calling ctypes callback function: <function _ThreadpoolInfo._find_modules_with_dl_iterate_phdr.<locals>.match_module_callback at 0x7fc4b7a839a0>\nTraceback (most recent call last):\n  File \"/databricks/python/lib/python3.10/site-packages/threadpoolctl.py\", line 400, in match_module_callback\n    self._make_module_from_path(filepath)\n  File \"/databricks/python/lib/python3.10/site-packages/threadpoolctl.py\", line 515, in _make_module_from_path\n    module = module_class(filepath, prefix, user_api, internal_api)\n  File \"/databricks/python/lib/python3.10/site-packages/threadpoolctl.py\", line 606, in __init__\n    self.version = self.get_version()\n  File \"/databricks/python/lib/python3.10/site-packages/threadpoolctl.py\", line 646, in get_version\n    config = get_config().split()\nAttributeError: 'NoneType' object has no attribute 'split'\nException ignored on calling ctypes callback function: <function _ThreadpoolInfo._find_modules_with_dl_iterate_phdr.<locals>.match_module_callback at 0x7fc4b7a839a0>\nTraceback (most recent call last):\n  File \"/databricks/python/lib/python3.10/site-packages/threadpoolctl.py\", line 400, in match_module_callback\n    self._make_module_from_path(filepath)\n  File \"/databricks/python/lib/python3.10/site-packages/threadpoolctl.py\", line 515, in _make_module_from_path\n    module = module_class(filepath, prefix, user_api, internal_api)\n  File \"/databricks/python/lib/python3.10/site-packages/threadpoolctl.py\", line 606, in __init__\n    self.version = self.get_version()\n  File \"/databricks/python/lib/python3.10/site-packages/threadpoolctl.py\", line 646, in get_version\n    config = get_config().split()\nAttributeError: 'NoneType' object has no attribute 'split'\nException ignored on calling ctypes callback function: <function _ThreadpoolInfo._find_modules_with_dl_iterate_phdr.<locals>.match_module_callback at 0x7fc4b49b5fc0>\nTraceback (most recent call last):\n  File \"/databricks/python/lib/python3.10/site-packages/threadpoolctl.py\", line 400, in match_module_callback\n    self._make_module_from_path(filepath)\n  File \"/databricks/python/lib/python3.10/site-packages/threadpoolctl.py\", line 515, in _make_module_from_path\n    module = module_class(filepath, prefix, user_api, internal_api)\n  File \"/databricks/python/lib/python3.10/site-packages/threadpoolctl.py\", line 606, in __init__\n    self.version = self.get_version()\n  File \"/databricks/python/lib/python3.10/site-packages/threadpoolctl.py\", line 646, in get_version\n    config = get_config().split()\nAttributeError: 'NoneType' object has no attribute 'split'\n"
     ]
    },
    {
     "output_type": "display_data",
     "data": {
      "image/png": "[encoded data removed]",
      "text/plain": [
       "<Figure size 640x480 with 1 Axes>"
      ]
     },
     "metadata": {},
     "output_type": "display_data"
    }
   ],
   "source": [
    "from sklearn.cluster import KMeans\n",
    "wcss = []\n",
    "for i in range(1, 11):\n",
    "    kmeans = KMeans(n_clusters = i, init = 'k-means++', random_state = 42)\n",
    "    kmeans.fit(X_scaled_new)\n",
    "    wcss.append(kmeans.inertia_)\n",
    "plt.plot(range(1, 11), wcss)\n",
    "plt.title('The Elbow Method')\n",
    "plt.xlabel('Number of clusters')\n",
    "plt.ylabel('WCSS')\n",
    "plt.show()"
   ]
  },
  {
   "cell_type": "markdown",
   "metadata": {
    "application/vnd.databricks.v1+cell": {
     "cellMetadata": {
      "byteLimit": 2048000,
      "rowLimit": 10000
     },
     "inputWidgets": {},
     "nuid": "7dffbfff-3bea-462a-92ce-f97b24028587",
     "showTitle": false,
     "tableResultSettingsMap": {},
     "title": ""
    }
   },
   "source": [
    "## Training the K-Means model on the dataset"
   ]
  },
  {
   "cell_type": "code",
   "execution_count": 0,
   "metadata": {
    "application/vnd.databricks.v1+cell": {
     "cellMetadata": {
      "byteLimit": 2048000,
      "rowLimit": 10000
     },
     "inputWidgets": {},
     "nuid": "ab57a3d2-8a60-49a5-b089-4700b60164bd",
     "showTitle": false,
     "tableResultSettingsMap": {},
     "title": ""
    }
   },
   "outputs": [
    {
     "output_type": "stream",
     "name": "stderr",
     "output_type": "stream",
     "text": [
      "Exception ignored on calling ctypes callback function: <function _ThreadpoolInfo._find_modules_with_dl_iterate_phdr.<locals>.match_module_callback at 0x7fc4b1c68dc0>\nTraceback (most recent call last):\n  File \"/databricks/python/lib/python3.10/site-packages/threadpoolctl.py\", line 400, in match_module_callback\n    self._make_module_from_path(filepath)\n  File \"/databricks/python/lib/python3.10/site-packages/threadpoolctl.py\", line 515, in _make_module_from_path\n    module = module_class(filepath, prefix, user_api, internal_api)\n  File \"/databricks/python/lib/python3.10/site-packages/threadpoolctl.py\", line 606, in __init__\n    self.version = self.get_version()\n  File \"/databricks/python/lib/python3.10/site-packages/threadpoolctl.py\", line 646, in get_version\n    config = get_config().split()\nAttributeError: 'NoneType' object has no attribute 'split'\nException ignored on calling ctypes callback function: <function _ThreadpoolInfo._find_modules_with_dl_iterate_phdr.<locals>.match_module_callback at 0x7fc4cb1d43a0>\nTraceback (most recent call last):\n  File \"/databricks/python/lib/python3.10/site-packages/threadpoolctl.py\", line 400, in match_module_callback\n    self._make_module_from_path(filepath)\n  File \"/databricks/python/lib/python3.10/site-packages/threadpoolctl.py\", line 515, in _make_module_from_path\n    module = module_class(filepath, prefix, user_api, internal_api)\n  File \"/databricks/python/lib/python3.10/site-packages/threadpoolctl.py\", line 606, in __init__\n    self.version = self.get_version()\n  File \"/databricks/python/lib/python3.10/site-packages/threadpoolctl.py\", line 646, in get_version\n    config = get_config().split()\nAttributeError: 'NoneType' object has no attribute 'split'\nException ignored on calling ctypes callback function: <function _ThreadpoolInfo._find_modules_with_dl_iterate_phdr.<locals>.match_module_callback at 0x7fc4cb1d43a0>\nTraceback (most recent call last):\n  File \"/databricks/python/lib/python3.10/site-packages/threadpoolctl.py\", line 400, in match_module_callback\n    self._make_module_from_path(filepath)\n  File \"/databricks/python/lib/python3.10/site-packages/threadpoolctl.py\", line 515, in _make_module_from_path\n    module = module_class(filepath, prefix, user_api, internal_api)\n  File \"/databricks/python/lib/python3.10/site-packages/threadpoolctl.py\", line 606, in __init__\n    self.version = self.get_version()\n  File \"/databricks/python/lib/python3.10/site-packages/threadpoolctl.py\", line 646, in get_version\n    config = get_config().split()\nAttributeError: 'NoneType' object has no attribute 'split'\nException ignored on calling ctypes callback function: <function _ThreadpoolInfo._find_modules_with_dl_iterate_phdr.<locals>.match_module_callback at 0x7fc4cb1d43a0>\nTraceback (most recent call last):\n  File \"/databricks/python/lib/python3.10/site-packages/threadpoolctl.py\", line 400, in match_module_callback\n    self._make_module_from_path(filepath)\n  File \"/databricks/python/lib/python3.10/site-packages/threadpoolctl.py\", line 515, in _make_module_from_path\n    module = module_class(filepath, prefix, user_api, internal_api)\n  File \"/databricks/python/lib/python3.10/site-packages/threadpoolctl.py\", line 606, in __init__\n    self.version = self.get_version()\n  File \"/databricks/python/lib/python3.10/site-packages/threadpoolctl.py\", line 646, in get_version\n    config = get_config().split()\nAttributeError: 'NoneType' object has no attribute 'split'\nException ignored on calling ctypes callback function: <function _ThreadpoolInfo._find_modules_with_dl_iterate_phdr.<locals>.match_module_callback at 0x7fc4cb1d43a0>\nTraceback (most recent call last):\n  File \"/databricks/python/lib/python3.10/site-packages/threadpoolctl.py\", line 400, in match_module_callback\n    self._make_module_from_path(filepath)\n  File \"/databricks/python/lib/python3.10/site-packages/threadpoolctl.py\", line 515, in _make_module_from_path\n    module = module_class(filepath, prefix, user_api, internal_api)\n  File \"/databricks/python/lib/python3.10/site-packages/threadpoolctl.py\", line 606, in __init__\n    self.version = self.get_version()\n  File \"/databricks/python/lib/python3.10/site-packages/threadpoolctl.py\", line 646, in get_version\n    config = get_config().split()\nAttributeError: 'NoneType' object has no attribute 'split'\nException ignored on calling ctypes callback function: <function _ThreadpoolInfo._find_modules_with_dl_iterate_phdr.<locals>.match_module_callback at 0x7fc4cb1d43a0>\nTraceback (most recent call last):\n  File \"/databricks/python/lib/python3.10/site-packages/threadpoolctl.py\", line 400, in match_module_callback\n    self._make_module_from_path(filepath)\n  File \"/databricks/python/lib/python3.10/site-packages/threadpoolctl.py\", line 515, in _make_module_from_path\n    module = module_class(filepath, prefix, user_api, internal_api)\n  File \"/databricks/python/lib/python3.10/site-packages/threadpoolctl.py\", line 606, in __init__\n    self.version = self.get_version()\n  File \"/databricks/python/lib/python3.10/site-packages/threadpoolctl.py\", line 646, in get_version\n    config = get_config().split()\nAttributeError: 'NoneType' object has no attribute 'split'\nException ignored on calling ctypes callback function: <function _ThreadpoolInfo._find_modules_with_dl_iterate_phdr.<locals>.match_module_callback at 0x7fc4cb1d43a0>\nTraceback (most recent call last):\n  File \"/databricks/python/lib/python3.10/site-packages/threadpoolctl.py\", line 400, in match_module_callback\n    self._make_module_from_path(filepath)\n  File \"/databricks/python/lib/python3.10/site-packages/threadpoolctl.py\", line 515, in _make_module_from_path\n    module = module_class(filepath, prefix, user_api, internal_api)\n  File \"/databricks/python/lib/python3.10/site-packages/threadpoolctl.py\", line 606, in __init__\n    self.version = self.get_version()\n  File \"/databricks/python/lib/python3.10/site-packages/threadpoolctl.py\", line 646, in get_version\n    config = get_config().split()\nAttributeError: 'NoneType' object has no attribute 'split'\nException ignored on calling ctypes callback function: <function _ThreadpoolInfo._find_modules_with_dl_iterate_phdr.<locals>.match_module_callback at 0x7fc4cb1d43a0>\nTraceback (most recent call last):\n  File \"/databricks/python/lib/python3.10/site-packages/threadpoolctl.py\", line 400, in match_module_callback\n    self._make_module_from_path(filepath)\n  File \"/databricks/python/lib/python3.10/site-packages/threadpoolctl.py\", line 515, in _make_module_from_path\n    module = module_class(filepath, prefix, user_api, internal_api)\n  File \"/databricks/python/lib/python3.10/site-packages/threadpoolctl.py\", line 606, in __init__\n    self.version = self.get_version()\n  File \"/databricks/python/lib/python3.10/site-packages/threadpoolctl.py\", line 646, in get_version\n    config = get_config().split()\nAttributeError: 'NoneType' object has no attribute 'split'\nException ignored on calling ctypes callback function: <function _ThreadpoolInfo._find_modules_with_dl_iterate_phdr.<locals>.match_module_callback at 0x7fc4cb1d43a0>\nTraceback (most recent call last):\n  File \"/databricks/python/lib/python3.10/site-packages/threadpoolctl.py\", line 400, in match_module_callback\n    self._make_module_from_path(filepath)\n  File \"/databricks/python/lib/python3.10/site-packages/threadpoolctl.py\", line 515, in _make_module_from_path\n    module = module_class(filepath, prefix, user_api, internal_api)\n  File \"/databricks/python/lib/python3.10/site-packages/threadpoolctl.py\", line 606, in __init__\n    self.version = self.get_version()\n  File \"/databricks/python/lib/python3.10/site-packages/threadpoolctl.py\", line 646, in get_version\n    config = get_config().split()\nAttributeError: 'NoneType' object has no attribute 'split'\nException ignored on calling ctypes callback function: <function _ThreadpoolInfo._find_modules_with_dl_iterate_phdr.<locals>.match_module_callback at 0x7fc4cb1d43a0>\nTraceback (most recent call last):\n  File \"/databricks/python/lib/python3.10/site-packages/threadpoolctl.py\", line 400, in match_module_callback\n    self._make_module_from_path(filepath)\n  File \"/databricks/python/lib/python3.10/site-packages/threadpoolctl.py\", line 515, in _make_module_from_path\n    module = module_class(filepath, prefix, user_api, internal_api)\n  File \"/databricks/python/lib/python3.10/site-packages/threadpoolctl.py\", line 606, in __init__\n    self.version = self.get_version()\n  File \"/databricks/python/lib/python3.10/site-packages/threadpoolctl.py\", line 646, in get_version\n    config = get_config().split()\nAttributeError: 'NoneType' object has no attribute 'split'\nException ignored on calling ctypes callback function: <function _ThreadpoolInfo._find_modules_with_dl_iterate_phdr.<locals>.match_module_callback at 0x7fc4b1c68b80>\nTraceback (most recent call last):\n  File \"/databricks/python/lib/python3.10/site-packages/threadpoolctl.py\", line 400, in match_module_callback\n    self._make_module_from_path(filepath)\n  File \"/databricks/python/lib/python3.10/site-packages/threadpoolctl.py\", line 515, in _make_module_from_path\n    module = module_class(filepath, prefix, user_api, internal_api)\n  File \"/databricks/python/lib/python3.10/site-packages/threadpoolctl.py\", line 606, in __init__\n    self.version = self.get_version()\n  File \"/databricks/python/lib/python3.10/site-packages/threadpoolctl.py\", line 646, in get_version\n    config = get_config().split()\nAttributeError: 'NoneType' object has no attribute 'split'\n"
     ]
    },
    {
     "output_type": "execute_result",
     "data": {
      "text/html": [
       "<style>#sk-container-id-1 {color: black;background-color: white;}#sk-container-id-1 pre{padding: 0;}#sk-container-id-1 div.sk-toggleable {background-color: white;}#sk-container-id-1 label.sk-toggleable__label {cursor: pointer;display: block;width: 100%;margin-bottom: 0;padding: 0.3em;box-sizing: border-box;text-align: center;}#sk-container-id-1 label.sk-toggleable__label-arrow:before {content: \"▸\";float: left;margin-right: 0.25em;color: #696969;}#sk-container-id-1 label.sk-toggleable__label-arrow:hover:before {color: black;}#sk-container-id-1 div.sk-estimator:hover label.sk-toggleable__label-arrow:before {color: black;}#sk-container-id-1 div.sk-toggleable__content {max-height: 0;max-width: 0;overflow: hidden;text-align: left;background-color: #f0f8ff;}#sk-container-id-1 div.sk-toggleable__content pre {margin: 0.2em;color: black;border-radius: 0.25em;background-color: #f0f8ff;}#sk-container-id-1 input.sk-toggleable__control:checked~div.sk-toggleable__content {max-height: 200px;max-width: 100%;overflow: auto;}#sk-container-id-1 input.sk-toggleable__control:checked~label.sk-toggleable__label-arrow:before {content: \"▾\";}#sk-container-id-1 div.sk-estimator input.sk-toggleable__control:checked~label.sk-toggleable__label {background-color: #d4ebff;}#sk-container-id-1 div.sk-label input.sk-toggleable__control:checked~label.sk-toggleable__label {background-color: #d4ebff;}#sk-container-id-1 input.sk-hidden--visually {border: 0;clip: rect(1px 1px 1px 1px);clip: rect(1px, 1px, 1px, 1px);height: 1px;margin: -1px;overflow: hidden;padding: 0;position: absolute;width: 1px;}#sk-container-id-1 div.sk-estimator {font-family: monospace;background-color: #f0f8ff;border: 1px dotted black;border-radius: 0.25em;box-sizing: border-box;margin-bottom: 0.5em;}#sk-container-id-1 div.sk-estimator:hover {background-color: #d4ebff;}#sk-container-id-1 div.sk-parallel-item::after {content: \"\";width: 100%;border-bottom: 1px solid gray;flex-grow: 1;}#sk-container-id-1 div.sk-label:hover label.sk-toggleable__label {background-color: #d4ebff;}#sk-container-id-1 div.sk-serial::before {content: \"\";position: absolute;border-left: 1px solid gray;box-sizing: border-box;top: 0;bottom: 0;left: 50%;z-index: 0;}#sk-container-id-1 div.sk-serial {display: flex;flex-direction: column;align-items: center;background-color: white;padding-right: 0.2em;padding-left: 0.2em;position: relative;}#sk-container-id-1 div.sk-item {position: relative;z-index: 1;}#sk-container-id-1 div.sk-parallel {display: flex;align-items: stretch;justify-content: center;background-color: white;position: relative;}#sk-container-id-1 div.sk-item::before, #sk-container-id-1 div.sk-parallel-item::before {content: \"\";position: absolute;border-left: 1px solid gray;box-sizing: border-box;top: 0;bottom: 0;left: 50%;z-index: -1;}#sk-container-id-1 div.sk-parallel-item {display: flex;flex-direction: column;z-index: 1;position: relative;background-color: white;}#sk-container-id-1 div.sk-parallel-item:first-child::after {align-self: flex-end;width: 50%;}#sk-container-id-1 div.sk-parallel-item:last-child::after {align-self: flex-start;width: 50%;}#sk-container-id-1 div.sk-parallel-item:only-child::after {width: 0;}#sk-container-id-1 div.sk-dashed-wrapped {border: 1px dashed gray;margin: 0 0.4em 0.5em 0.4em;box-sizing: border-box;padding-bottom: 0.4em;background-color: white;}#sk-container-id-1 div.sk-label label {font-family: monospace;font-weight: bold;display: inline-block;line-height: 1.2em;}#sk-container-id-1 div.sk-label-container {text-align: center;}#sk-container-id-1 div.sk-container {/* jupyter's `normalize.less` sets `[hidden] { display: none; }` but bootstrap.min.css set `[hidden] { display: none !important; }` so we also need the `!important` here to be able to override the default hidden behavior on the sphinx rendered scikit-learn.org. See: https://github.com/scikit-learn/scikit-learn/issues/21755 */display: inline-block !important;position: relative;}#sk-container-id-1 div.sk-text-repr-fallback {display: none;}</style><div id=\"sk-container-id-1\" class=\"sk-top-container\"><div class=\"sk-text-repr-fallback\"><pre>KMeans(n_clusters=5, random_state=42)</pre><b>In a Jupyter environment, please rerun this cell to show the HTML representation or trust the notebook. <br />On GitHub, the HTML representation is unable to render, please try loading this page with nbviewer.org.</b></div><div class=\"sk-container\" hidden><div class=\"sk-item\"><div class=\"sk-estimator sk-toggleable\"><input class=\"sk-toggleable__control sk-hidden--visually\" id=\"sk-estimator-id-1\" type=\"checkbox\" checked><label for=\"sk-estimator-id-1\" class=\"sk-toggleable__label sk-toggleable__label-arrow\">KMeans</label><div class=\"sk-toggleable__content\"><pre>KMeans(n_clusters=5, random_state=42)</pre></div></div></div></div></div>"
      ],
      "text/plain": [
       "KMeans(n_clusters=5, random_state=42)"
      ]
     },
     "execution_count": 49,
     "metadata": {},
     "output_type": "execute_result"
    }
   ],
   "source": [
    "kmeans = KMeans(n_clusters = 5, init = 'k-means++', random_state = 42)\n",
    "kmeans.fit(X_scaled_new)"
   ]
  },
  {
   "cell_type": "markdown",
   "metadata": {
    "application/vnd.databricks.v1+cell": {
     "cellMetadata": {
      "byteLimit": 2048000,
      "rowLimit": 10000
     },
     "inputWidgets": {},
     "nuid": "abb059e5-f185-46e2-8a51-85f4bb0c27a0",
     "showTitle": false,
     "tableResultSettingsMap": {},
     "title": ""
    }
   },
   "source": [
    "## Prediction"
   ]
  },
  {
   "cell_type": "code",
   "execution_count": 0,
   "metadata": {
    "application/vnd.databricks.v1+cell": {
     "cellMetadata": {
      "byteLimit": 2048000,
      "rowLimit": 10000
     },
     "inputWidgets": {},
     "nuid": "6af1d638-4c7f-4e7d-9b9d-f56f205935da",
     "showTitle": false,
     "tableResultSettingsMap": {},
     "title": ""
    }
   },
   "outputs": [
    {
     "output_type": "stream",
     "name": "stderr",
     "output_type": "stream",
     "text": [
      "Exception ignored on calling ctypes callback function: <function _ThreadpoolInfo._find_modules_with_dl_iterate_phdr.<locals>.match_module_callback at 0x7fc4cb1d43a0>\nTraceback (most recent call last):\n  File \"/databricks/python/lib/python3.10/site-packages/threadpoolctl.py\", line 400, in match_module_callback\n    self._make_module_from_path(filepath)\n  File \"/databricks/python/lib/python3.10/site-packages/threadpoolctl.py\", line 515, in _make_module_from_path\n    module = module_class(filepath, prefix, user_api, internal_api)\n  File \"/databricks/python/lib/python3.10/site-packages/threadpoolctl.py\", line 606, in __init__\n    self.version = self.get_version()\n  File \"/databricks/python/lib/python3.10/site-packages/threadpoolctl.py\", line 646, in get_version\n    config = get_config().split()\nAttributeError: 'NoneType' object has no attribute 'split'\n"
     ]
    }
   ],
   "source": [
    "y_kmeans = kmeans.predict(X_scaled_new)"
   ]
  },
  {
   "cell_type": "code",
   "execution_count": 0,
   "metadata": {
    "application/vnd.databricks.v1+cell": {
     "cellMetadata": {
      "byteLimit": 2048000,
      "rowLimit": 10000
     },
     "inputWidgets": {},
     "nuid": "f5b13749-3278-4a4c-8794-98a656e56f56",
     "showTitle": false,
     "tableResultSettingsMap": {},
     "title": ""
    }
   },
   "outputs": [
    {
     "output_type": "stream",
     "name": "stdout",
     "output_type": "stream",
     "text": [
      "[4 0 0 0 2 2 4 0 4 4 0 4 4 0 0 1 1 4 1 1 1 1 1 4 4 0 0 0 4 0 0 0 0 3 3 0 0\n 4 0 0 0 0 0 3 3 3 3 3 3 3 3 0 4 4 0 4 0 0 1 1 1 1 1 4 1 3 4 3 3 1 4 3 3 3\n 3 0 3 3 3 3 3 0 3 3 3 3 3 3 3 4 3 0 1 3 4 0 4 4 0 2]\n"
     ]
    }
   ],
   "source": [
    "print(y_kmeans)"
   ]
  },
  {
   "cell_type": "code",
   "execution_count": 0,
   "metadata": {
    "application/vnd.databricks.v1+cell": {
     "cellMetadata": {
      "byteLimit": 2048000,
      "rowLimit": 10000
     },
     "inputWidgets": {},
     "nuid": "a70d9959-6062-4ce4-ab1c-daa2fb6672e1",
     "showTitle": false,
     "tableResultSettingsMap": {},
     "title": ""
    }
   },
   "outputs": [
    {
     "output_type": "stream",
     "name": "stdout",
     "output_type": "stream",
     "text": [
      "100\n"
     ]
    }
   ],
   "source": [
    "print(len(y_kmeans))"
   ]
  },
  {
   "cell_type": "markdown",
   "metadata": {
    "application/vnd.databricks.v1+cell": {
     "cellMetadata": {
      "byteLimit": 2048000,
      "rowLimit": 10000
     },
     "inputWidgets": {},
     "nuid": "38094bd4-851a-4afb-a112-9be1b7b65d8d",
     "showTitle": false,
     "tableResultSettingsMap": {},
     "title": ""
    }
   },
   "source": [
    "### Saving the output as new table"
   ]
  },
  {
   "cell_type": "code",
   "execution_count": 0,
   "metadata": {
    "application/vnd.databricks.v1+cell": {
     "cellMetadata": {
      "byteLimit": 2048000,
      "rowLimit": 10000
     },
     "inputWidgets": {},
     "nuid": "47db5c2a-fec2-42ba-8576-1af297f4aeff",
     "showTitle": false,
     "tableResultSettingsMap": {},
     "title": ""
    }
   },
   "outputs": [],
   "source": [
    "df_new = df.copy()"
   ]
  },
  {
   "cell_type": "code",
   "execution_count": 0,
   "metadata": {
    "application/vnd.databricks.v1+cell": {
     "cellMetadata": {
      "byteLimit": 2048000,
      "rowLimit": 10000
     },
     "inputWidgets": {},
     "nuid": "b0d9534e-7f8b-4c3d-8850-0733ad68f4cd",
     "showTitle": false,
     "tableResultSettingsMap": {},
     "title": ""
    }
   },
   "outputs": [],
   "source": [
    "df_new['Cluster_label'] = y_kmeans\n"
   ]
  },
  {
   "cell_type": "code",
   "execution_count": 0,
   "metadata": {
    "application/vnd.databricks.v1+cell": {
     "cellMetadata": {
      "byteLimit": 2048000,
      "rowLimit": 10000
     },
     "inputWidgets": {},
     "nuid": "69614acb-e11c-45c6-8900-943178aa9d98",
     "showTitle": false,
     "tableResultSettingsMap": {},
     "title": ""
    }
   },
   "outputs": [
    {
     "output_type": "stream",
     "name": "stdout",
     "output_type": "stream",
     "text": [
      "                 Current_Role  Zip_Code  Employee_ID  ...  age  left  Cluster_label\n0    Senior Software Engineer     94103           57  ...   34     0              4\n1    Associate Data Scientist     94111           58  ...   29     0              0\n2   Associate Product Manager     10009           59  ...   31     0              0\n3            Business Analyst     60605           60  ...   31     0              0\n4     Chief Operating Officer      2101           61  ...   41     1              2\n..                        ...       ...          ...  ...  ...   ...            ...\n95           Technical Writer     98103          152  ...   28     0              0\n96                UX Designer     78723          153  ...   28     0              4\n97              UX Researcher     78712          154  ...   31     0              4\n98              UX Researcher     78703          155  ...   24     0              0\n99           VP of Technology     98109          156  ...   35     0              2\n\n[100 rows x 17 columns]\n"
     ]
    }
   ],
   "source": [
    "print(df_new)"
   ]
  },
  {
   "cell_type": "code",
   "execution_count": 0,
   "metadata": {
    "application/vnd.databricks.v1+cell": {
     "cellMetadata": {
      "byteLimit": 2048000,
      "rowLimit": 10000
     },
     "inputWidgets": {},
     "nuid": "ac942e4c-98e5-4a59-a879-339a92c760a8",
     "showTitle": false,
     "tableResultSettingsMap": {},
     "title": ""
    }
   },
   "outputs": [
    {
     "output_type": "stream",
     "name": "stdout",
     "output_type": "stream",
     "text": [
      "(100, 17)\n"
     ]
    }
   ],
   "source": [
    "print(df_new.shape)"
   ]
  },
  {
   "cell_type": "code",
   "execution_count": 0,
   "metadata": {
    "application/vnd.databricks.v1+cell": {
     "cellMetadata": {
      "byteLimit": 2048000,
      "rowLimit": 10000
     },
     "inputWidgets": {},
     "nuid": "f2b6d6f3-ad53-4564-a69a-c0e7e91e6d4f",
     "showTitle": false,
     "tableResultSettingsMap": {},
     "title": ""
    }
   },
   "outputs": [],
   "source": [
    "spark_df = spark.createDataFrame(df_new)"
   ]
  },
  {
   "cell_type": "code",
   "execution_count": 0,
   "metadata": {
    "application/vnd.databricks.v1+cell": {
     "cellMetadata": {
      "byteLimit": 2048000,
      "rowLimit": 10000
     },
     "inputWidgets": {},
     "nuid": "65c6da26-876f-44ed-b1f2-e334feb7262a",
     "showTitle": false,
     "tableResultSettingsMap": {},
     "title": ""
    }
   },
   "outputs": [],
   "source": [
    "spark_df.write.mode(\"overwrite\").saveAsTable(\"sd_bdc_demo.default.3_am_workday_pre_trained_cluster_data\")"
   ]
  },
  {
   "cell_type": "markdown",
   "metadata": {
    "application/vnd.databricks.v1+cell": {
     "cellMetadata": {
      "byteLimit": 2048000,
      "rowLimit": 10000
     },
     "inputWidgets": {},
     "nuid": "3476eadb-b1f9-4a18-88c9-4ea013f3e773",
     "showTitle": false,
     "tableResultSettingsMap": {},
     "title": ""
    }
   },
   "source": [
    "## Insights"
   ]
  },
  {
   "cell_type": "code",
   "execution_count": 0,
   "metadata": {
    "application/vnd.databricks.v1+cell": {
     "cellMetadata": {
      "byteLimit": 2048000,
      "rowLimit": 10000
     },
     "inputWidgets": {},
     "nuid": "3103c412-85f6-43cd-b3ff-3ac70de44e68",
     "showTitle": false,
     "tableResultSettingsMap": {},
     "title": ""
    }
   },
   "outputs": [
    {
     "output_type": "execute_result",
     "data": {
      "text/plain": [
       "<Axes: xlabel='Cluster_label', ylabel='age'>"
      ]
     },
     "execution_count": 59,
     "metadata": {},
     "output_type": "execute_result"
    },
    {
     "output_type": "display_data",
     "data": {
      "image/png": "[encoded data removed]",
      "text/plain": [
       "<Figure size 640x480 with 1 Axes>"
      ]
     },
     "metadata": {},
     "output_type": "display_data"
    }
   ],
   "source": [
    "# Compare age distributions visually\n",
    "import seaborn as sns\n",
    "sns.boxplot(x='Cluster_label', y='age', data=df_new)"
   ]
  },
  {
   "cell_type": "code",
   "execution_count": 0,
   "metadata": {
    "application/vnd.databricks.v1+cell": {
     "cellMetadata": {
      "byteLimit": 2048000,
      "rowLimit": 10000
     },
     "inputWidgets": {},
     "nuid": "2e78f604-c5ff-4f68-b702-659f1a0a4d24",
     "showTitle": false,
     "tableResultSettingsMap": {},
     "title": ""
    }
   },
   "outputs": [
    {
     "output_type": "stream",
     "name": "stdout",
     "output_type": "stream",
     "text": [
      "   Cluster_label  Employee_Annual_Salary  ...        age      left\n0              0            85161.666667  ...  28.133333  0.000000\n1              1           201400.000000  ...  35.733333  0.400000\n2              2           300000.000000  ...  38.666667  0.333333\n3              3           140230.645161  ...  32.967742  0.129032\n4              4            96954.761905  ...  30.571429  0.000000\n\n[5 rows x 12 columns]\n"
     ]
    }
   ],
   "source": [
    "selected_cols = [\n",
    "                    'Employee_Annual_Salary', 'Monthly_Medical_contribution',\n",
    "                    'Monthly_Dental_Contribution', 'Monthly_Vision_Contribution', 'Bonus',\n",
    "                    'Years_Of_Service', 'Employee_HR_rate', 'Hours_per_week',\n",
    "                    'Years_Since_Last_Promotion', 'age', 'left'\n",
    "                ]\n",
    "cluster_avg = df_new.groupby('Cluster_label')[selected_cols].mean().reset_index()\n",
    "print(cluster_avg)\n"
   ]
  },
  {
   "cell_type": "code",
   "execution_count": 0,
   "metadata": {
    "application/vnd.databricks.v1+cell": {
     "cellMetadata": {
      "byteLimit": 2048000,
      "rowLimit": 10000
     },
     "inputWidgets": {},
     "nuid": "9826d73f-c7b0-4b17-847b-8b6f972ae5bb",
     "showTitle": false,
     "tableResultSettingsMap": {},
     "title": ""
    }
   },
   "outputs": [
    {
     "output_type": "stream",
     "name": "stdout",
     "output_type": "stream",
     "text": [
      "<class 'pandas.core.frame.DataFrame'>\n"
     ]
    }
   ],
   "source": [
    "print(type(cluster_avg))"
   ]
  },
  {
   "cell_type": "markdown",
   "metadata": {
    "application/vnd.databricks.v1+cell": {
     "cellMetadata": {
      "byteLimit": 2048000,
      "rowLimit": 10000
     },
     "inputWidgets": {},
     "nuid": "e3ea36eb-301a-4006-90ad-99be823c6d89",
     "showTitle": false,
     "tableResultSettingsMap": {},
     "title": ""
    }
   },
   "source": [
    "### Saving the insights as new table"
   ]
  },
  {
   "cell_type": "code",
   "execution_count": 0,
   "metadata": {
    "application/vnd.databricks.v1+cell": {
     "cellMetadata": {
      "byteLimit": 2048000,
      "rowLimit": 10000
     },
     "inputWidgets": {},
     "nuid": "391c3184-bd7f-4b7f-a0d7-22b435600f6e",
     "showTitle": false,
     "tableResultSettingsMap": {},
     "title": ""
    }
   },
   "outputs": [],
   "source": [
    "spark_df = spark.createDataFrame(cluster_avg)"
   ]
  },
  {
   "cell_type": "code",
   "execution_count": 0,
   "metadata": {
    "application/vnd.databricks.v1+cell": {
     "cellMetadata": {
      "byteLimit": 2048000,
      "rowLimit": 10000
     },
     "inputWidgets": {},
     "nuid": "1e213d57-aae0-4661-af27-7ec9f0ca9012",
     "showTitle": false,
     "tableResultSettingsMap": {},
     "title": ""
    }
   },
   "outputs": [],
   "source": [
    "spark_df.write.mode(\"overwrite\").saveAsTable(\"sd_bdc_demo.default.2_am_workday_kmean_insights\")"
   ]
  }
 ],
 "metadata": {
  "application/vnd.databricks.v1+notebook": {
   "computePreferences": null,
   "dashboards": [],
   "environmentMetadata": null,
   "inputWidgetPreferences": null,
   "language": "python",
   "notebookMetadata": {
    "pythonIndentUnit": 4
   },
   "notebookName": "02-k_clustering",
   "widgets": {}
  },
  "colab": {
   "collapsed_sections": [],
   "name": "data_preprocessing_tools.ipynb",
   "provenance": [],
   "toc_visible": true
  },
  "kernelspec": {
   "display_name": ".venv",
   "language": "python",
   "name": "python3"
  },
  "language_info": {
   "name": "python"
  }
 },
 "nbformat": 4,
 "nbformat_minor": 0
}