{
  "cells": [
    {
      "cell_type": "markdown",
      "metadata": {
        "colab_type": "text",
        "id": "37puETfgRzzg"
      },
      "source": [
        "# Data Preprocessing Tools"
      ]
    },
    {
      "cell_type": "markdown",
      "metadata": {
        "colab_type": "text",
        "id": "EoRP98MpR-qj"
      },
      "source": [
        "## Importing the libraries"
      ]
    },
    {
      "cell_type": "code",
      "execution_count": 248,
      "metadata": {
        "colab": {},
        "colab_type": "code",
        "id": "N-qiINBQSK2g"
      },
      "outputs": [],
      "source": [
        "import os\n",
        "import numpy as np\n",
        "import matplotlib.pyplot as plt\n",
        "import pandas as pd\n"
      ]
    },
    {
      "cell_type": "markdown",
      "metadata": {
        "colab_type": "text",
        "id": "RopL7tUZSQkT"
      },
      "source": [
        "## Importing the dataset"
      ]
    },
    {
      "cell_type": "code",
      "execution_count": 249,
      "metadata": {},
      "outputs": [],
      "source": [
        "# Load Excel files\n",
        "df_s4 = pd.read_excel(\"0_am_workday_raw_data/resources_s4.xlsx\")\n",
        "df_workday = pd.read_excel(\"0_am_workday_raw_data/resources_workday.xlsx\")"
      ]
    },
    {
      "cell_type": "code",
      "execution_count": 250,
      "metadata": {},
      "outputs": [
        {
          "name": "stdout",
          "output_type": "stream",
          "text": [
            "Index(['SAP Personnel #', 'Company Code', 'Hire_Date', 'Current_Role',\n",
            "       'Last_Name', 'First_Name', 'Cost Center', 'SSN\\n (REQ FIELD)',\n",
            "       'Birthdate', 'Street Address', 'City', 'State', 'Zip Code'],\n",
            "      dtype='object')\n",
            "Index(['Employee_ID', 'Employee Annual Salary$', 'TAXES$',\n",
            "       'Monthly Medical contribution$', 'Monthly Dental Contribution$',\n",
            "       'Monthly Vision Contribution$', 'Bonus $',\n",
            "       'OVERHEAD (Laptop; Desk; Supplies)$', 'Years_Of_Service',\n",
            "       'Last_Promoted', 'Department', 'Location', 'Manager', 'Gender',\n",
            "       'Employee HR rate', '# of Hours per week',\n",
            "       'Calculated Column - Fully Loaded Cost'],\n",
            "      dtype='object')\n"
          ]
        }
      ],
      "source": [
        "print(df_s4.columns)\n",
        "print(df_workday.columns)"
      ]
    },
    {
      "cell_type": "code",
      "execution_count": 251,
      "metadata": {},
      "outputs": [],
      "source": [
        "# Selective renaming for df_s4\n",
        "df_s4_rename = df_s4.rename(columns={\n",
        "    'SAP Personnel #': 'SAP_Personnel',\n",
        "    'Zip Code': 'Zip_Code',\n",
        "    'Company Code':'Company_Code',\n",
        "    'SSN\\n (REQ FIELD)':'SSN',\n",
        "    'Street Address':'Street_Address'\n",
        "})\n",
        "\n",
        "# Selective renaming for df_workday\n",
        "df_workday_rename = df_workday.rename(columns={\n",
        "    'Employee Annual Salary$': 'Employee_Annual_Salary',\n",
        "    'Monthly Medical contribution$': 'Monthly_Medical_contribution',\n",
        "    'Monthly Dental Contribution$': 'Monthly_Dental_Contribution',\n",
        "    'Monthly Vision Contribution$': 'Monthly_Vision_Contribution',\n",
        "    'Bonus $': 'Bonus',\n",
        "    'Employee HR rate': 'Employee_HR_rate',\n",
        "    '# of Hours per week': 'Hours_per_week',\n",
        "    'TAXES$':'TAXES',\n",
        "    'OVERHEAD (Laptop; Desk; Supplies)$':'OVERHEAD',\n",
        "    'Calculated Column - Fully Loaded Cost':'Fully_Loaded_Cost'\n",
        "})\n"
      ]
    },
    {
      "cell_type": "code",
      "execution_count": 252,
      "metadata": {},
      "outputs": [
        {
          "name": "stdout",
          "output_type": "stream",
          "text": [
            "Index(['SAP_Personnel', 'Company_Code', 'Hire_Date', 'Current_Role',\n",
            "       'Last_Name', 'First_Name', 'Cost Center', 'SSN', 'Birthdate',\n",
            "       'Street_Address', 'City', 'State', 'Zip_Code'],\n",
            "      dtype='object')\n",
            "Index(['Employee_ID', 'Employee_Annual_Salary', 'TAXES',\n",
            "       'Monthly_Medical_contribution', 'Monthly_Dental_Contribution',\n",
            "       'Monthly_Vision_Contribution', 'Bonus', 'OVERHEAD', 'Years_Of_Service',\n",
            "       'Last_Promoted', 'Department', 'Location', 'Manager', 'Gender',\n",
            "       'Employee_HR_rate', 'Hours_per_week', 'Fully_Loaded_Cost'],\n",
            "      dtype='object')\n"
          ]
        }
      ],
      "source": [
        "print(df_s4_rename.columns)\n",
        "print(df_workday_rename.columns)"
      ]
    },
    {
      "cell_type": "code",
      "execution_count": 253,
      "metadata": {},
      "outputs": [],
      "source": [
        "# Your selected columns\n",
        "s4_req_cols = ['SAP_Personnel', 'Current_Role', 'Birthdate', 'Zip_Code']\n",
        "workday_req_cols = ['Employee_ID', 'Employee_Annual_Salary', 'Monthly_Medical_contribution', 'Monthly_Dental_Contribution', \n",
        "                    'Monthly_Vision_Contribution', 'Bonus', 'Years_Of_Service', 'Last_Promoted', 'Department',\n",
        "                    'Gender', 'Employee_HR_rate', 'Hours_per_week']\n",
        "\n",
        "# Load only required columns\n",
        "df_s4 = df_s4_rename[s4_req_cols]\n",
        "df_workday = df_workday_rename[workday_req_cols]\n"
      ]
    },
    {
      "cell_type": "code",
      "execution_count": 254,
      "metadata": {},
      "outputs": [
        {
          "name": "stdout",
          "output_type": "stream",
          "text": [
            "   SAP_Personnel               Current_Role  Birthdate  Zip_Code\n",
            "0             57   Senior Software Engineer 1991-05-19     94103\n",
            "1             58   Associate Data Scientist 1996-03-23     94111\n",
            "2             59  Associate Product Manager 1993-09-25     10009\n",
            "3             60           Business Analyst 1994-03-03     60605\n",
            "4             61    Chief Operating Officer 1984-01-13      2101\n",
            "   Employee_ID  Employee_Annual_Salary  Monthly_Medical_contribution  \\\n",
            "0           57                  130800                           130   \n",
            "1           58                   74250                           105   \n",
            "2           59                  125850                           130   \n",
            "3           60                   84750                           105   \n",
            "4           61                  300000                           230   \n",
            "\n",
            "   Monthly_Dental_Contribution  Monthly_Vision_Contribution  Bonus  \\\n",
            "0                           35                           19  13865   \n",
            "1                           30                           17   4344   \n",
            "2                           35                           19  15920   \n",
            "3                           30                           17   5890   \n",
            "4                           55                           27  90000   \n",
            "\n",
            "   Years_Of_Service Last_Promoted    Department      Gender  Employee_HR_rate  \\\n",
            "0               5.2    2022-08-15   Engineering        Male                60   \n",
            "1               1.7    2023-11-10  Data Science  Non-Binary               117   \n",
            "2               1.3    2024-03-05       Product  Non-Binary               147   \n",
            "3               3.9    2023-02-15       Finance      Female               153   \n",
            "4              15.2    2019-08-22     Executive      Female                79   \n",
            "\n",
            "   Hours_per_week  \n",
            "0              40  \n",
            "1              40  \n",
            "2              40  \n",
            "3              40  \n",
            "4              40  \n"
          ]
        }
      ],
      "source": [
        "print(df_s4.head())\n",
        "print(df_workday.head())"
      ]
    },
    {
      "cell_type": "markdown",
      "metadata": {},
      "source": [
        "## Merging the dataset"
      ]
    },
    {
      "cell_type": "code",
      "execution_count": 255,
      "metadata": {},
      "outputs": [],
      "source": [
        "# Merge on SAP Personnel # and Employee_ID\n",
        "df_merged = pd.merge(df_s4, df_workday, left_on='SAP_Personnel', right_on='Employee_ID', how='inner')\n",
        "\n",
        "# Drop both ID columns since they are just identifiers\n",
        "df_merged.drop(columns=['SAP_Personnel'], errors='ignore', inplace=True)"
      ]
    },
    {
      "cell_type": "code",
      "execution_count": 256,
      "metadata": {},
      "outputs": [
        {
          "name": "stdout",
          "output_type": "stream",
          "text": [
            "                Current_Role  Birthdate  Zip_Code  Employee_ID  \\\n",
            "0   Senior Software Engineer 1991-05-19     94103           57   \n",
            "1   Associate Data Scientist 1996-03-23     94111           58   \n",
            "2  Associate Product Manager 1993-09-25     10009           59   \n",
            "3           Business Analyst 1994-03-03     60605           60   \n",
            "4    Chief Operating Officer 1984-01-13      2101           61   \n",
            "\n",
            "   Employee_Annual_Salary  Monthly_Medical_contribution  \\\n",
            "0                  130800                           130   \n",
            "1                   74250                           105   \n",
            "2                  125850                           130   \n",
            "3                   84750                           105   \n",
            "4                  300000                           230   \n",
            "\n",
            "   Monthly_Dental_Contribution  Monthly_Vision_Contribution  Bonus  \\\n",
            "0                           35                           19  13865   \n",
            "1                           30                           17   4344   \n",
            "2                           35                           19  15920   \n",
            "3                           30                           17   5890   \n",
            "4                           55                           27  90000   \n",
            "\n",
            "   Years_Of_Service Last_Promoted    Department      Gender  Employee_HR_rate  \\\n",
            "0               5.2    2022-08-15   Engineering        Male                60   \n",
            "1               1.7    2023-11-10  Data Science  Non-Binary               117   \n",
            "2               1.3    2024-03-05       Product  Non-Binary               147   \n",
            "3               3.9    2023-02-15       Finance      Female               153   \n",
            "4              15.2    2019-08-22     Executive      Female                79   \n",
            "\n",
            "   Hours_per_week  \n",
            "0              40  \n",
            "1              40  \n",
            "2              40  \n",
            "3              40  \n",
            "4              40  \n"
          ]
        }
      ],
      "source": [
        "print(df_merged.head())"
      ]
    },
    {
      "cell_type": "code",
      "execution_count": 257,
      "metadata": {},
      "outputs": [
        {
          "name": "stdout",
          "output_type": "stream",
          "text": [
            "(100, 15)\n"
          ]
        }
      ],
      "source": [
        "print(df_merged.shape)"
      ]
    },
    {
      "cell_type": "markdown",
      "metadata": {},
      "source": [
        "## Feature Engineering"
      ]
    },
    {
      "cell_type": "code",
      "execution_count": 258,
      "metadata": {},
      "outputs": [
        {
          "name": "stdout",
          "output_type": "stream",
          "text": [
            "   Years_Since_Last_Promotion  age\n",
            "0                    2.811773   34\n",
            "1                    1.574264   29\n",
            "2                    1.256674   31\n",
            "3                    2.308008   31\n",
            "4                    5.793292   41\n"
          ]
        }
      ],
      "source": [
        "df_merged['Last_Promoted'] = pd.to_datetime(df_merged['Last_Promoted'])\n",
        "df_merged['Birthdate'] = pd.to_datetime(df_merged['Birthdate'])\n",
        "\n",
        "today = pd.Timestamp.today()\n",
        "\n",
        "# Calculate years since last promotion using days / 365.25\n",
        "df_merged['Years_Since_Last_Promotion'] = (today - df_merged['Last_Promoted']).dt.days / 365.25\n",
        "\n",
        "# Calculate age as integer years\n",
        "df_merged['age'] = ((today - df_merged['Birthdate']).dt.days / 365.25).astype(int)\n",
        "\n",
        "\n",
        "# Renaming DataFrame for feature-engineered data\n",
        "df_featured = df_merged.copy()\n",
        "\n",
        "# Optionally drop original columns\n",
        "df_featured.drop(columns=['Last_Promoted', 'Birthdate'], inplace=True)\n",
        "\n",
        "print(df_featured[['Years_Since_Last_Promotion', 'age']].head())"
      ]
    },
    {
      "cell_type": "code",
      "execution_count": 259,
      "metadata": {},
      "outputs": [
        {
          "name": "stdout",
          "output_type": "stream",
          "text": [
            "                Current_Role  Zip_Code  Employee_ID  Employee_Annual_Salary  \\\n",
            "0   Senior Software Engineer     94103           57                  130800   \n",
            "1   Associate Data Scientist     94111           58                   74250   \n",
            "2  Associate Product Manager     10009           59                  125850   \n",
            "3           Business Analyst     60605           60                   84750   \n",
            "4    Chief Operating Officer      2101           61                  300000   \n",
            "\n",
            "   Monthly_Medical_contribution  Monthly_Dental_Contribution  \\\n",
            "0                           130                           35   \n",
            "1                           105                           30   \n",
            "2                           130                           35   \n",
            "3                           105                           30   \n",
            "4                           230                           55   \n",
            "\n",
            "   Monthly_Vision_Contribution  Bonus  Years_Of_Service    Department  \\\n",
            "0                           19  13865               5.2   Engineering   \n",
            "1                           17   4344               1.7  Data Science   \n",
            "2                           19  15920               1.3       Product   \n",
            "3                           17   5890               3.9       Finance   \n",
            "4                           27  90000              15.2     Executive   \n",
            "\n",
            "       Gender  Employee_HR_rate  Hours_per_week  Years_Since_Last_Promotion  \\\n",
            "0        Male                60              40                    2.811773   \n",
            "1  Non-Binary               117              40                    1.574264   \n",
            "2  Non-Binary               147              40                    1.256674   \n",
            "3      Female               153              40                    2.308008   \n",
            "4      Female                79              40                    5.793292   \n",
            "\n",
            "   age  \n",
            "0   34  \n",
            "1   29  \n",
            "2   31  \n",
            "3   31  \n",
            "4   41  \n"
          ]
        }
      ],
      "source": [
        "print(df_featured.head())"
      ]
    },
    {
      "cell_type": "code",
      "execution_count": 260,
      "metadata": {},
      "outputs": [
        {
          "name": "stdout",
          "output_type": "stream",
          "text": [
            "Index(['Current_Role', 'Zip_Code', 'Employee_ID', 'Employee_Annual_Salary',\n",
            "       'Monthly_Medical_contribution', 'Monthly_Dental_Contribution',\n",
            "       'Monthly_Vision_Contribution', 'Bonus', 'Years_Of_Service',\n",
            "       'Department', 'Gender', 'Employee_HR_rate', 'Hours_per_week',\n",
            "       'Years_Since_Last_Promotion', 'age'],\n",
            "      dtype='object')\n"
          ]
        }
      ],
      "source": [
        "print(df_featured.columns)"
      ]
    },
    {
      "cell_type": "code",
      "execution_count": 261,
      "metadata": {},
      "outputs": [
        {
          "name": "stdout",
          "output_type": "stream",
          "text": [
            "(100, 15)\n"
          ]
        }
      ],
      "source": [
        "print(df_featured.shape)"
      ]
    },
    {
      "cell_type": "markdown",
      "metadata": {},
      "source": [
        "## Create Custom Dependent Column"
      ]
    },
    {
      "cell_type": "code",
      "execution_count": 262,
      "metadata": {},
      "outputs": [],
      "source": [
        "# Create a boolean Series for condition\n",
        "condition = df_featured['Years_Since_Last_Promotion'] > 5\n",
        "\n",
        "# Group by that boolean condition\n",
        "grouped = df_featured.groupby(condition)\n"
      ]
    },
    {
      "cell_type": "code",
      "execution_count": 263,
      "metadata": {},
      "outputs": [
        {
          "name": "stdout",
          "output_type": "stream",
          "text": [
            "Years_Since_Last_Promotion\n",
            "False    89\n",
            "True     11\n",
            "dtype: int64\n"
          ]
        }
      ],
      "source": [
        "print(grouped.size())"
      ]
    },
    {
      "cell_type": "code",
      "execution_count": 264,
      "metadata": {},
      "outputs": [],
      "source": [
        "df_featured['left'] = (df_featured['Years_Since_Last_Promotion'] > 5).astype(int)\n",
        "\n",
        "# Renaming DataFrame for updated-engineered data\n",
        "df_updated = df_featured.copy()"
      ]
    },
    {
      "cell_type": "code",
      "execution_count": 265,
      "metadata": {},
      "outputs": [
        {
          "name": "stdout",
          "output_type": "stream",
          "text": [
            "   Years_Since_Last_Promotion  left\n",
            "0                    2.811773     0\n",
            "1                    1.574264     0\n",
            "2                    1.256674     0\n",
            "3                    2.308008     0\n",
            "4                    5.793292     1\n"
          ]
        }
      ],
      "source": [
        "print(df_updated[['Years_Since_Last_Promotion', 'left']].head())"
      ]
    },
    {
      "cell_type": "markdown",
      "metadata": {},
      "source": [
        "## Export Updated Excel"
      ]
    },
    {
      "cell_type": "code",
      "execution_count": 266,
      "metadata": {},
      "outputs": [],
      "source": [
        "# Create the folder if it doesn't exist\n",
        "os.makedirs(\"1_am_workday_updated_data\", exist_ok=True)\n",
        "\n",
        "# Save the Excel file inside the folder\n",
        "df_updated.to_csv(\"1_am_workday_updated_data/1_am_workday_updated_data.csv\", index=False)\n"
      ]
    }
  ],
  "metadata": {
    "colab": {
      "collapsed_sections": [],
      "name": "data_preprocessing_tools.ipynb",
      "provenance": [],
      "toc_visible": true
    },
    "kernelspec": {
      "display_name": ".venv",
      "language": "python",
      "name": "python3"
    },
    "language_info": {
      "codemirror_mode": {
        "name": "ipython",
        "version": 3
      },
      "file_extension": ".py",
      "mimetype": "text/x-python",
      "name": "python",
      "nbconvert_exporter": "python",
      "pygments_lexer": "ipython3",
      "version": "3.13.3"
    }
  },
  "nbformat": 4,
  "nbformat_minor": 0
}
