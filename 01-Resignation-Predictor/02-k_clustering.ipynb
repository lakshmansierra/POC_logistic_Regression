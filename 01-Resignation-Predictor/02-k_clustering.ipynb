{
  "cells": [
    {
      "cell_type": "markdown",
      "metadata": {
        "colab_type": "text",
        "id": "37puETfgRzzg"
      },
      "source": [
        "# Logistic Regression"
      ]
    },
    {
      "cell_type": "markdown",
      "metadata": {
        "colab_type": "text",
        "id": "EoRP98MpR-qj"
      },
      "source": [
        "## Importing the libraries"
      ]
    },
    {
      "cell_type": "code",
      "execution_count": 330,
      "metadata": {
        "colab": {},
        "colab_type": "code",
        "id": "N-qiINBQSK2g"
      },
      "outputs": [],
      "source": [
        "import os\n",
        "import numpy as np\n",
        "import matplotlib.pyplot as plt\n",
        "import pandas as pd"
      ]
    },
    {
      "cell_type": "markdown",
      "metadata": {
        "colab_type": "text",
        "id": "RopL7tUZSQkT"
      },
      "source": [
        "## Importing the dataset"
      ]
    },
    {
      "cell_type": "code",
      "execution_count": 331,
      "metadata": {
        "colab": {},
        "colab_type": "code",
        "id": "WwEPNDWySTKm"
      },
      "outputs": [],
      "source": [
        "df = pd.read_excel(\"updated_data/updated_data.xlsx\")\n"
      ]
    },
    {
      "cell_type": "code",
      "execution_count": 332,
      "metadata": {},
      "outputs": [
        {
          "name": "stdout",
          "output_type": "stream",
          "text": [
            "<class 'pandas.core.frame.DataFrame'>\n"
          ]
        }
      ],
      "source": [
        "print(type(df))"
      ]
    },
    {
      "cell_type": "code",
      "execution_count": 333,
      "metadata": {},
      "outputs": [
        {
          "name": "stdout",
          "output_type": "stream",
          "text": [
            "Index(['Current_Role', 'Zip_Code', 'Employee_ID', 'Employee_Annual_Salary',\n",
            "       'Monthly_Medical_contribution', 'Monthly_Dental_Contribution',\n",
            "       'Monthly_Vision_Contribution', 'Bonus', 'Years_Of_Service',\n",
            "       'Department', 'Gender', 'Employee_HR_rate', 'Hours_per_week',\n",
            "       'Years_Since_Last_Promotion', 'age', 'left'],\n",
            "      dtype='object')\n"
          ]
        }
      ],
      "source": [
        "print(df.columns)"
      ]
    },
    {
      "cell_type": "code",
      "execution_count": 334,
      "metadata": {},
      "outputs": [
        {
          "name": "stdout",
          "output_type": "stream",
          "text": [
            "                Current_Role  Zip_Code  Employee_ID  Employee_Annual_Salary  \\\n",
            "0   Senior Software Engineer     94103           57                  130800   \n",
            "1   Associate Data Scientist     94111           58                   74250   \n",
            "2  Associate Product Manager     10009           59                  125850   \n",
            "3           Business Analyst     60605           60                   84750   \n",
            "4    Chief Operating Officer      2101           61                  300000   \n",
            "\n",
            "   Monthly_Medical_contribution  Monthly_Dental_Contribution  \\\n",
            "0                           130                           35   \n",
            "1                           105                           30   \n",
            "2                           130                           35   \n",
            "3                           105                           30   \n",
            "4                           230                           55   \n",
            "\n",
            "   Monthly_Vision_Contribution  Bonus  Years_Of_Service    Department  \\\n",
            "0                           19  13865               5.2   Engineering   \n",
            "1                           17   4344               1.7  Data Science   \n",
            "2                           19  15920               1.3       Product   \n",
            "3                           17   5890               3.9       Finance   \n",
            "4                           27  90000              15.2     Executive   \n",
            "\n",
            "       Gender  Employee_HR_rate  Hours_per_week  Years_Since_Last_Promotion  \\\n",
            "0        Male                60              40                    2.806297   \n",
            "1  Non-Binary               117              40                    1.568789   \n",
            "2  Non-Binary               147              40                    1.251198   \n",
            "3      Female               153              40                    2.302533   \n",
            "4      Female                79              40                    5.787817   \n",
            "\n",
            "   age  left  \n",
            "0   34     0  \n",
            "1   29     0  \n",
            "2   31     0  \n",
            "3   31     0  \n",
            "4   41     1  \n"
          ]
        }
      ],
      "source": [
        "print(df.head())"
      ]
    },
    {
      "cell_type": "code",
      "execution_count": 335,
      "metadata": {},
      "outputs": [
        {
          "name": "stdout",
          "output_type": "stream",
          "text": [
            "(100, 16)\n"
          ]
        }
      ],
      "source": [
        "print(df.shape)"
      ]
    },
    {
      "cell_type": "markdown",
      "metadata": {
        "colab_type": "text",
        "id": "CriG6VzVSjcK"
      },
      "source": [
        "## Encoding categorical data"
      ]
    },
    {
      "cell_type": "code",
      "execution_count": 336,
      "metadata": {},
      "outputs": [],
      "source": [
        "df_encoded = pd.get_dummies(df, columns=['Current_Role', 'Department', 'Gender'], drop_first=False).astype(int)\n"
      ]
    },
    {
      "cell_type": "code",
      "execution_count": 337,
      "metadata": {},
      "outputs": [
        {
          "name": "stdout",
          "output_type": "stream",
          "text": [
            "   Zip_Code  Employee_ID  Employee_Annual_Salary  \\\n",
            "0     94103           57                  130800   \n",
            "1     94111           58                   74250   \n",
            "2     10009           59                  125850   \n",
            "3     60605           60                   84750   \n",
            "4      2101           61                  300000   \n",
            "\n",
            "   Monthly_Medical_contribution  Monthly_Dental_Contribution  \\\n",
            "0                           130                           35   \n",
            "1                           105                           30   \n",
            "2                           130                           35   \n",
            "3                           105                           30   \n",
            "4                           230                           55   \n",
            "\n",
            "   Monthly_Vision_Contribution  Bonus  Years_Of_Service  Employee_HR_rate  \\\n",
            "0                           19  13865                 5                60   \n",
            "1                           17   4344                 1               117   \n",
            "2                           19  15920                 1               147   \n",
            "3                           17   5890                 3               153   \n",
            "4                           27  90000                15                79   \n",
            "\n",
            "   Hours_per_week  ...  Department_Finance  Department_Human Resources  \\\n",
            "0              40  ...                   0                           0   \n",
            "1              40  ...                   0                           0   \n",
            "2              40  ...                   0                           0   \n",
            "3              40  ...                   1                           0   \n",
            "4              40  ...                   0                           0   \n",
            "\n",
            "   Department_IT  Department_Marketing  Department_Operations  \\\n",
            "0              0                     0                      0   \n",
            "1              0                     0                      0   \n",
            "2              0                     0                      0   \n",
            "3              0                     0                      0   \n",
            "4              0                     0                      0   \n",
            "\n",
            "   Department_Product  Department_Sales  Gender_Female  Gender_Male  \\\n",
            "0                   0                 0              0            1   \n",
            "1                   0                 0              0            0   \n",
            "2                   1                 0              0            0   \n",
            "3                   0                 0              1            0   \n",
            "4                   0                 0              1            0   \n",
            "\n",
            "   Gender_Non-Binary  \n",
            "0                  0  \n",
            "1                  1  \n",
            "2                  1  \n",
            "3                  0  \n",
            "4                  0  \n",
            "\n",
            "[5 rows x 105 columns]\n"
          ]
        }
      ],
      "source": [
        "print(df_encoded.head())"
      ]
    },
    {
      "cell_type": "code",
      "execution_count": 338,
      "metadata": {},
      "outputs": [
        {
          "name": "stdout",
          "output_type": "stream",
          "text": [
            "(100, 105)\n"
          ]
        }
      ],
      "source": [
        "print(df_encoded.shape)"
      ]
    },
    {
      "cell_type": "markdown",
      "metadata": {},
      "source": [
        "## Removing `left` column"
      ]
    },
    {
      "cell_type": "code",
      "execution_count": 339,
      "metadata": {},
      "outputs": [],
      "source": [
        "df_no_left = df_encoded.drop(columns=['left'])\n",
        "X = df_no_left"
      ]
    },
    {
      "cell_type": "code",
      "execution_count": 340,
      "metadata": {},
      "outputs": [
        {
          "name": "stdout",
          "output_type": "stream",
          "text": [
            "   Zip_Code  Employee_ID  Employee_Annual_Salary  \\\n",
            "0     94103           57                  130800   \n",
            "1     94111           58                   74250   \n",
            "2     10009           59                  125850   \n",
            "3     60605           60                   84750   \n",
            "4      2101           61                  300000   \n",
            "\n",
            "   Monthly_Medical_contribution  Monthly_Dental_Contribution  \\\n",
            "0                           130                           35   \n",
            "1                           105                           30   \n",
            "2                           130                           35   \n",
            "3                           105                           30   \n",
            "4                           230                           55   \n",
            "\n",
            "   Monthly_Vision_Contribution  Bonus  Years_Of_Service  Employee_HR_rate  \\\n",
            "0                           19  13865                 5                60   \n",
            "1                           17   4344                 1               117   \n",
            "2                           19  15920                 1               147   \n",
            "3                           17   5890                 3               153   \n",
            "4                           27  90000                15                79   \n",
            "\n",
            "   Hours_per_week  ...  Department_Finance  Department_Human Resources  \\\n",
            "0              40  ...                   0                           0   \n",
            "1              40  ...                   0                           0   \n",
            "2              40  ...                   0                           0   \n",
            "3              40  ...                   1                           0   \n",
            "4              40  ...                   0                           0   \n",
            "\n",
            "   Department_IT  Department_Marketing  Department_Operations  \\\n",
            "0              0                     0                      0   \n",
            "1              0                     0                      0   \n",
            "2              0                     0                      0   \n",
            "3              0                     0                      0   \n",
            "4              0                     0                      0   \n",
            "\n",
            "   Department_Product  Department_Sales  Gender_Female  Gender_Male  \\\n",
            "0                   0                 0              0            1   \n",
            "1                   0                 0              0            0   \n",
            "2                   1                 0              0            0   \n",
            "3                   0                 0              1            0   \n",
            "4                   0                 0              1            0   \n",
            "\n",
            "   Gender_Non-Binary  \n",
            "0                  0  \n",
            "1                  1  \n",
            "2                  1  \n",
            "3                  0  \n",
            "4                  0  \n",
            "\n",
            "[5 rows x 104 columns]\n"
          ]
        }
      ],
      "source": [
        "print(X.head())\n"
      ]
    },
    {
      "cell_type": "code",
      "execution_count": 341,
      "metadata": {},
      "outputs": [
        {
          "name": "stdout",
          "output_type": "stream",
          "text": [
            "(100, 104)\n"
          ]
        }
      ],
      "source": [
        "print(X.shape)"
      ]
    },
    {
      "cell_type": "markdown",
      "metadata": {},
      "source": [
        "## Feature Scaling"
      ]
    },
    {
      "cell_type": "code",
      "execution_count": 342,
      "metadata": {},
      "outputs": [],
      "source": [
        "from sklearn.preprocessing import StandardScaler\n",
        "sc = StandardScaler()\n",
        "\n",
        "# List of columns to scale\n",
        "columns_to_scale = [\n",
        "    'Employee_Annual_Salary', 'Monthly_Medical_contribution',\n",
        "    'Monthly_Dental_Contribution', 'Monthly_Vision_Contribution', 'Bonus',\n",
        "    'Years_Of_Service', 'Employee_HR_rate', 'Hours_per_week',\n",
        "    'Years_Since_Last_Promotion', 'age'\n",
        "]\n",
        "\n",
        "# Fit sc on training data and transform both training and test sets\n",
        "X_scaled = X.copy()\n",
        "\n",
        "X_scaled[columns_to_scale] = sc.fit_transform(X_scaled[columns_to_scale])\n"
      ]
    },
    {
      "cell_type": "code",
      "execution_count": 343,
      "metadata": {
        "colab": {
          "base_uri": "https://localhost:8080/",
          "height": 154
        },
        "colab_type": "code",
        "id": "DWPET8ZdlMnu",
        "outputId": "dea86927-5124-4e2a-e974-2804df9a913c"
      },
      "outputs": [
        {
          "name": "stdout",
          "output_type": "stream",
          "text": [
            "    Zip_Code  Employee_ID  Employee_Annual_Salary  \\\n",
            "0      94103           57                0.042182   \n",
            "1      94111           58               -1.037434   \n",
            "2      10009           59               -0.052320   \n",
            "3      60605           60               -0.836975   \n",
            "4       2101           61                3.272440   \n",
            "..       ...          ...                     ...   \n",
            "95     98103          152               -0.773018   \n",
            "96     78723          153               -0.624106   \n",
            "97     78712          154               -0.773018   \n",
            "98     78703          155               -0.778746   \n",
            "99     98109          156                3.272440   \n",
            "\n",
            "    Monthly_Medical_contribution  Monthly_Dental_Contribution  \\\n",
            "0                       0.060356                     0.060356   \n",
            "1                      -0.801873                    -0.801873   \n",
            "2                       0.060356                     0.060356   \n",
            "3                      -0.801873                    -0.801873   \n",
            "4                       3.509273                     3.509273   \n",
            "..                           ...                          ...   \n",
            "95                     -0.801873                    -0.801873   \n",
            "96                     -0.801873                    -0.801873   \n",
            "97                     -0.801873                    -0.801873   \n",
            "98                     -0.801873                    -0.801873   \n",
            "99                      3.509273                     3.509273   \n",
            "\n",
            "    Monthly_Vision_Contribution     Bonus  Years_Of_Service  Employee_HR_rate  \\\n",
            "0                      0.060356 -0.220739         -0.053649         -1.714816   \n",
            "1                     -0.801873 -0.747377         -1.394874          0.259821   \n",
            "2                      0.060356 -0.107070         -1.394874          1.299103   \n",
            "3                     -0.801873 -0.661863         -0.724262          1.506960   \n",
            "4                      3.509273  3.990537          3.299414         -1.056604   \n",
            "..                          ...       ...               ...               ...   \n",
            "95                    -0.801873 -0.678235         -1.059568          1.437674   \n",
            "96                    -0.801873 -0.581880         -0.053649         -0.814105   \n",
            "97                    -0.801873 -0.678235         -1.059568         -1.229818   \n",
            "98                    -0.801873 -0.681720         -1.059568          0.398392   \n",
            "99                     3.509273  3.990537          2.293495         -1.472317   \n",
            "\n",
            "    Hours_per_week  ...  Department_Finance  Department_Human Resources  \\\n",
            "0              0.0  ...                   0                           0   \n",
            "1              0.0  ...                   0                           0   \n",
            "2              0.0  ...                   0                           0   \n",
            "3              0.0  ...                   1                           0   \n",
            "4              0.0  ...                   0                           0   \n",
            "..             ...  ...                 ...                         ...   \n",
            "95             0.0  ...                   0                           0   \n",
            "96             0.0  ...                   0                           0   \n",
            "97             0.0  ...                   0                           0   \n",
            "98             0.0  ...                   0                           0   \n",
            "99             0.0  ...                   0                           0   \n",
            "\n",
            "    Department_IT  Department_Marketing  Department_Operations  \\\n",
            "0               0                     0                      0   \n",
            "1               0                     0                      0   \n",
            "2               0                     0                      0   \n",
            "3               0                     0                      0   \n",
            "4               0                     0                      0   \n",
            "..            ...                   ...                    ...   \n",
            "95              0                     0                      0   \n",
            "96              0                     0                      0   \n",
            "97              0                     0                      0   \n",
            "98              0                     0                      0   \n",
            "99              0                     0                      0   \n",
            "\n",
            "    Department_Product  Department_Sales  Gender_Female  Gender_Male  \\\n",
            "0                    0                 0              0            1   \n",
            "1                    0                 0              0            0   \n",
            "2                    1                 0              0            0   \n",
            "3                    0                 0              1            0   \n",
            "4                    0                 0              1            0   \n",
            "..                 ...               ...            ...          ...   \n",
            "95                   0                 0              0            1   \n",
            "96                   0                 0              1            0   \n",
            "97                   0                 0              0            1   \n",
            "98                   0                 0              0            1   \n",
            "99                   0                 0              1            0   \n",
            "\n",
            "    Gender_Non-Binary  \n",
            "0                   0  \n",
            "1                   1  \n",
            "2                   1  \n",
            "3                   0  \n",
            "4                   0  \n",
            "..                ...  \n",
            "95                  0  \n",
            "96                  0  \n",
            "97                  0  \n",
            "98                  0  \n",
            "99                  0  \n",
            "\n",
            "[100 rows x 104 columns]\n"
          ]
        }
      ],
      "source": [
        "print(X_scaled)"
      ]
    },
    {
      "cell_type": "code",
      "execution_count": 344,
      "metadata": {},
      "outputs": [
        {
          "name": "stdout",
          "output_type": "stream",
          "text": [
            "(100, 104)\n"
          ]
        }
      ],
      "source": [
        "print(X_scaled.shape)"
      ]
    },
    {
      "cell_type": "markdown",
      "metadata": {},
      "source": [
        "### Removing `Employee ID` & `Zip Code` in `X_scaled`"
      ]
    },
    {
      "cell_type": "code",
      "execution_count": 345,
      "metadata": {},
      "outputs": [
        {
          "name": "stdout",
          "output_type": "stream",
          "text": [
            "<class 'pandas.core.frame.DataFrame'>\n"
          ]
        }
      ],
      "source": [
        "print(type(X_scaled))"
      ]
    },
    {
      "cell_type": "code",
      "execution_count": 346,
      "metadata": {},
      "outputs": [
        {
          "name": "stdout",
          "output_type": "stream",
          "text": [
            "    Employee_Annual_Salary  Monthly_Medical_contribution  \\\n",
            "0                 0.042182                      0.060356   \n",
            "1                -1.037434                     -0.801873   \n",
            "2                -0.052320                      0.060356   \n",
            "3                -0.836975                     -0.801873   \n",
            "4                 3.272440                      3.509273   \n",
            "..                     ...                           ...   \n",
            "95               -0.773018                     -0.801873   \n",
            "96               -0.624106                     -0.801873   \n",
            "97               -0.773018                     -0.801873   \n",
            "98               -0.778746                     -0.801873   \n",
            "99                3.272440                      3.509273   \n",
            "\n",
            "    Monthly_Dental_Contribution  Monthly_Vision_Contribution     Bonus  \\\n",
            "0                      0.060356                     0.060356 -0.220739   \n",
            "1                     -0.801873                    -0.801873 -0.747377   \n",
            "2                      0.060356                     0.060356 -0.107070   \n",
            "3                     -0.801873                    -0.801873 -0.661863   \n",
            "4                      3.509273                     3.509273  3.990537   \n",
            "..                          ...                          ...       ...   \n",
            "95                    -0.801873                    -0.801873 -0.678235   \n",
            "96                    -0.801873                    -0.801873 -0.581880   \n",
            "97                    -0.801873                    -0.801873 -0.678235   \n",
            "98                    -0.801873                    -0.801873 -0.681720   \n",
            "99                     3.509273                     3.509273  3.990537   \n",
            "\n",
            "    Years_Of_Service  Employee_HR_rate  Hours_per_week  \\\n",
            "0          -0.053649         -1.714816             0.0   \n",
            "1          -1.394874          0.259821             0.0   \n",
            "2          -1.394874          1.299103             0.0   \n",
            "3          -0.724262          1.506960             0.0   \n",
            "4           3.299414         -1.056604             0.0   \n",
            "..               ...               ...             ...   \n",
            "95         -1.059568          1.437674             0.0   \n",
            "96         -0.053649         -0.814105             0.0   \n",
            "97         -1.059568         -1.229818             0.0   \n",
            "98         -1.059568          0.398392             0.0   \n",
            "99          2.293495         -1.472317             0.0   \n",
            "\n",
            "    Years_Since_Last_Promotion       age  ...  Department_Finance  \\\n",
            "0                    -0.473351  0.635107  ...                   0   \n",
            "1                    -1.236821 -0.688033  ...                   0   \n",
            "2                    -1.236821 -0.158777  ...                   0   \n",
            "3                    -0.473351 -0.158777  ...                   1   \n",
            "4                     1.817059  2.487504  ...                   0   \n",
            "..                         ...       ...  ...                 ...   \n",
            "95                   -1.236821 -0.952661  ...                   0   \n",
            "96                   -0.473351 -0.952661  ...                   0   \n",
            "97                   -0.473351 -0.158777  ...                   0   \n",
            "98                   -1.236821 -2.011173  ...                   0   \n",
            "99                    0.290119  0.899735  ...                   0   \n",
            "\n",
            "    Department_Human Resources  Department_IT  Department_Marketing  \\\n",
            "0                            0              0                     0   \n",
            "1                            0              0                     0   \n",
            "2                            0              0                     0   \n",
            "3                            0              0                     0   \n",
            "4                            0              0                     0   \n",
            "..                         ...            ...                   ...   \n",
            "95                           0              0                     0   \n",
            "96                           0              0                     0   \n",
            "97                           0              0                     0   \n",
            "98                           0              0                     0   \n",
            "99                           0              0                     0   \n",
            "\n",
            "    Department_Operations  Department_Product  Department_Sales  \\\n",
            "0                       0                   0                 0   \n",
            "1                       0                   0                 0   \n",
            "2                       0                   1                 0   \n",
            "3                       0                   0                 0   \n",
            "4                       0                   0                 0   \n",
            "..                    ...                 ...               ...   \n",
            "95                      0                   0                 0   \n",
            "96                      0                   0                 0   \n",
            "97                      0                   0                 0   \n",
            "98                      0                   0                 0   \n",
            "99                      0                   0                 0   \n",
            "\n",
            "    Gender_Female  Gender_Male  Gender_Non-Binary  \n",
            "0               0            1                  0  \n",
            "1               0            0                  1  \n",
            "2               0            0                  1  \n",
            "3               1            0                  0  \n",
            "4               1            0                  0  \n",
            "..            ...          ...                ...  \n",
            "95              0            1                  0  \n",
            "96              1            0                  0  \n",
            "97              0            1                  0  \n",
            "98              0            1                  0  \n",
            "99              1            0                  0  \n",
            "\n",
            "[100 rows x 102 columns]\n"
          ]
        }
      ],
      "source": [
        "X_scaled_new = X_scaled.drop(columns=['Employee_ID', 'Zip_Code'])\n",
        "print(X_scaled_new)"
      ]
    },
    {
      "cell_type": "markdown",
      "metadata": {},
      "source": [
        "## Using the elbow method to find the optimal number of clusters"
      ]
    },
    {
      "cell_type": "code",
      "execution_count": 347,
      "metadata": {},
      "outputs": [
        {
          "data": {
            "image/png": "[encoded data removed]",
            "text/plain": [
              "<Figure size 640x480 with 1 Axes>"
            ]
          },
          "metadata": {},
          "output_type": "display_data"
        }
      ],
      "source": [
        "from sklearn.cluster import KMeans\n",
        "wcss = []\n",
        "for i in range(1, 11):\n",
        "    kmeans = KMeans(n_clusters = i, init = 'k-means++', random_state = 42)\n",
        "    kmeans.fit(X_scaled_new)\n",
        "    wcss.append(kmeans.inertia_)\n",
        "plt.plot(range(1, 11), wcss)\n",
        "plt.title('The Elbow Method')\n",
        "plt.xlabel('Number of clusters')\n",
        "plt.ylabel('WCSS')\n",
        "plt.show()"
      ]
    },
    {
      "cell_type": "markdown",
      "metadata": {},
      "source": [
        "## Training the K-Means model on the dataset"
      ]
    },
    {
      "cell_type": "code",
      "execution_count": 348,
      "metadata": {},
      "outputs": [
        {
          "data": {
            "text/html": [
              "<style>#sk-container-id-10 {\n",
              "  /* Definition of color scheme common for light and dark mode */\n",
              "  --sklearn-color-text: #000;\n",
              "  --sklearn-color-text-muted: #666;\n",
              "  --sklearn-color-line: gray;\n",
              "  /* Definition of color scheme for unfitted estimators */\n",
              "  --sklearn-color-unfitted-level-0: #fff5e6;\n",
              "  --sklearn-color-unfitted-level-1: #f6e4d2;\n",
              "  --sklearn-color-unfitted-level-2: #ffe0b3;\n",
              "  --sklearn-color-unfitted-level-3: chocolate;\n",
              "  /* Definition of color scheme for fitted estimators */\n",
              "  --sklearn-color-fitted-level-0: #f0f8ff;\n",
              "  --sklearn-color-fitted-level-1: #d4ebff;\n",
              "  --sklearn-color-fitted-level-2: #b3dbfd;\n",
              "  --sklearn-color-fitted-level-3: cornflowerblue;\n",
              "\n",
              "  /* Specific color for light theme */\n",
              "  --sklearn-color-text-on-default-background: var(--sg-text-color, var(--theme-code-foreground, var(--jp-content-font-color1, black)));\n",
              "  --sklearn-color-background: var(--sg-background-color, var(--theme-background, var(--jp-layout-color0, white)));\n",
              "  --sklearn-color-border-box: var(--sg-text-color, var(--theme-code-foreground, var(--jp-content-font-color1, black)));\n",
              "  --sklearn-color-icon: #696969;\n",
              "\n",
              "  @media (prefers-color-scheme: dark) {\n",
              "    /* Redefinition of color scheme for dark theme */\n",
              "    --sklearn-color-text-on-default-background: var(--sg-text-color, var(--theme-code-foreground, var(--jp-content-font-color1, white)));\n",
              "    --sklearn-color-background: var(--sg-background-color, var(--theme-background, var(--jp-layout-color0, #111)));\n",
              "    --sklearn-color-border-box: var(--sg-text-color, var(--theme-code-foreground, var(--jp-content-font-color1, white)));\n",
              "    --sklearn-color-icon: #878787;\n",
              "  }\n",
              "}\n",
              "\n",
              "#sk-container-id-10 {\n",
              "  color: var(--sklearn-color-text);\n",
              "}\n",
              "\n",
              "#sk-container-id-10 pre {\n",
              "  padding: 0;\n",
              "}\n",
              "\n",
              "#sk-container-id-10 input.sk-hidden--visually {\n",
              "  border: 0;\n",
              "  clip: rect(1px 1px 1px 1px);\n",
              "  clip: rect(1px, 1px, 1px, 1px);\n",
              "  height: 1px;\n",
              "  margin: -1px;\n",
              "  overflow: hidden;\n",
              "  padding: 0;\n",
              "  position: absolute;\n",
              "  width: 1px;\n",
              "}\n",
              "\n",
              "#sk-container-id-10 div.sk-dashed-wrapped {\n",
              "  border: 1px dashed var(--sklearn-color-line);\n",
              "  margin: 0 0.4em 0.5em 0.4em;\n",
              "  box-sizing: border-box;\n",
              "  padding-bottom: 0.4em;\n",
              "  background-color: var(--sklearn-color-background);\n",
              "}\n",
              "\n",
              "#sk-container-id-10 div.sk-container {\n",
              "  /* jupyter's `normalize.less` sets `[hidden] { display: none; }`\n",
              "     but bootstrap.min.css set `[hidden] { display: none !important; }`\n",
              "     so we also need the `!important` here to be able to override the\n",
              "     default hidden behavior on the sphinx rendered scikit-learn.org.\n",
              "     See: https://github.com/scikit-learn/scikit-learn/issues/21755 */\n",
              "  display: inline-block !important;\n",
              "  position: relative;\n",
              "}\n",
              "\n",
              "#sk-container-id-10 div.sk-text-repr-fallback {\n",
              "  display: none;\n",
              "}\n",
              "\n",
              "div.sk-parallel-item,\n",
              "div.sk-serial,\n",
              "div.sk-item {\n",
              "  /* draw centered vertical line to link estimators */\n",
              "  background-image: linear-gradient(var(--sklearn-color-text-on-default-background), var(--sklearn-color-text-on-default-background));\n",
              "  background-size: 2px 100%;\n",
              "  background-repeat: no-repeat;\n",
              "  background-position: center center;\n",
              "}\n",
              "\n",
              "/* Parallel-specific style estimator block */\n",
              "\n",
              "#sk-container-id-10 div.sk-parallel-item::after {\n",
              "  content: \"\";\n",
              "  width: 100%;\n",
              "  border-bottom: 2px solid var(--sklearn-color-text-on-default-background);\n",
              "  flex-grow: 1;\n",
              "}\n",
              "\n",
              "#sk-container-id-10 div.sk-parallel {\n",
              "  display: flex;\n",
              "  align-items: stretch;\n",
              "  justify-content: center;\n",
              "  background-color: var(--sklearn-color-background);\n",
              "  position: relative;\n",
              "}\n",
              "\n",
              "#sk-container-id-10 div.sk-parallel-item {\n",
              "  display: flex;\n",
              "  flex-direction: column;\n",
              "}\n",
              "\n",
              "#sk-container-id-10 div.sk-parallel-item:first-child::after {\n",
              "  align-self: flex-end;\n",
              "  width: 50%;\n",
              "}\n",
              "\n",
              "#sk-container-id-10 div.sk-parallel-item:last-child::after {\n",
              "  align-self: flex-start;\n",
              "  width: 50%;\n",
              "}\n",
              "\n",
              "#sk-container-id-10 div.sk-parallel-item:only-child::after {\n",
              "  width: 0;\n",
              "}\n",
              "\n",
              "/* Serial-specific style estimator block */\n",
              "\n",
              "#sk-container-id-10 div.sk-serial {\n",
              "  display: flex;\n",
              "  flex-direction: column;\n",
              "  align-items: center;\n",
              "  background-color: var(--sklearn-color-background);\n",
              "  padding-right: 1em;\n",
              "  padding-left: 1em;\n",
              "}\n",
              "\n",
              "\n",
              "/* Toggleable style: style used for estimator/Pipeline/ColumnTransformer box that is\n",
              "clickable and can be expanded/collapsed.\n",
              "- Pipeline and ColumnTransformer use this feature and define the default style\n",
              "- Estimators will overwrite some part of the style using the `sk-estimator` class\n",
              "*/\n",
              "\n",
              "/* Pipeline and ColumnTransformer style (default) */\n",
              "\n",
              "#sk-container-id-10 div.sk-toggleable {\n",
              "  /* Default theme specific background. It is overwritten whether we have a\n",
              "  specific estimator or a Pipeline/ColumnTransformer */\n",
              "  background-color: var(--sklearn-color-background);\n",
              "}\n",
              "\n",
              "/* Toggleable label */\n",
              "#sk-container-id-10 label.sk-toggleable__label {\n",
              "  cursor: pointer;\n",
              "  display: flex;\n",
              "  width: 100%;\n",
              "  margin-bottom: 0;\n",
              "  padding: 0.5em;\n",
              "  box-sizing: border-box;\n",
              "  text-align: center;\n",
              "  align-items: start;\n",
              "  justify-content: space-between;\n",
              "  gap: 0.5em;\n",
              "}\n",
              "\n",
              "#sk-container-id-10 label.sk-toggleable__label .caption {\n",
              "  font-size: 0.6rem;\n",
              "  font-weight: lighter;\n",
              "  color: var(--sklearn-color-text-muted);\n",
              "}\n",
              "\n",
              "#sk-container-id-10 label.sk-toggleable__label-arrow:before {\n",
              "  /* Arrow on the left of the label */\n",
              "  content: \"▸\";\n",
              "  float: left;\n",
              "  margin-right: 0.25em;\n",
              "  color: var(--sklearn-color-icon);\n",
              "}\n",
              "\n",
              "#sk-container-id-10 label.sk-toggleable__label-arrow:hover:before {\n",
              "  color: var(--sklearn-color-text);\n",
              "}\n",
              "\n",
              "/* Toggleable content - dropdown */\n",
              "\n",
              "#sk-container-id-10 div.sk-toggleable__content {\n",
              "  max-height: 0;\n",
              "  max-width: 0;\n",
              "  overflow: hidden;\n",
              "  text-align: left;\n",
              "  /* unfitted */\n",
              "  background-color: var(--sklearn-color-unfitted-level-0);\n",
              "}\n",
              "\n",
              "#sk-container-id-10 div.sk-toggleable__content.fitted {\n",
              "  /* fitted */\n",
              "  background-color: var(--sklearn-color-fitted-level-0);\n",
              "}\n",
              "\n",
              "#sk-container-id-10 div.sk-toggleable__content pre {\n",
              "  margin: 0.2em;\n",
              "  border-radius: 0.25em;\n",
              "  color: var(--sklearn-color-text);\n",
              "  /* unfitted */\n",
              "  background-color: var(--sklearn-color-unfitted-level-0);\n",
              "}\n",
              "\n",
              "#sk-container-id-10 div.sk-toggleable__content.fitted pre {\n",
              "  /* unfitted */\n",
              "  background-color: var(--sklearn-color-fitted-level-0);\n",
              "}\n",
              "\n",
              "#sk-container-id-10 input.sk-toggleable__control:checked~div.sk-toggleable__content {\n",
              "  /* Expand drop-down */\n",
              "  max-height: 200px;\n",
              "  max-width: 100%;\n",
              "  overflow: auto;\n",
              "}\n",
              "\n",
              "#sk-container-id-10 input.sk-toggleable__control:checked~label.sk-toggleable__label-arrow:before {\n",
              "  content: \"▾\";\n",
              "}\n",
              "\n",
              "/* Pipeline/ColumnTransformer-specific style */\n",
              "\n",
              "#sk-container-id-10 div.sk-label input.sk-toggleable__control:checked~label.sk-toggleable__label {\n",
              "  color: var(--sklearn-color-text);\n",
              "  background-color: var(--sklearn-color-unfitted-level-2);\n",
              "}\n",
              "\n",
              "#sk-container-id-10 div.sk-label.fitted input.sk-toggleable__control:checked~label.sk-toggleable__label {\n",
              "  background-color: var(--sklearn-color-fitted-level-2);\n",
              "}\n",
              "\n",
              "/* Estimator-specific style */\n",
              "\n",
              "/* Colorize estimator box */\n",
              "#sk-container-id-10 div.sk-estimator input.sk-toggleable__control:checked~label.sk-toggleable__label {\n",
              "  /* unfitted */\n",
              "  background-color: var(--sklearn-color-unfitted-level-2);\n",
              "}\n",
              "\n",
              "#sk-container-id-10 div.sk-estimator.fitted input.sk-toggleable__control:checked~label.sk-toggleable__label {\n",
              "  /* fitted */\n",
              "  background-color: var(--sklearn-color-fitted-level-2);\n",
              "}\n",
              "\n",
              "#sk-container-id-10 div.sk-label label.sk-toggleable__label,\n",
              "#sk-container-id-10 div.sk-label label {\n",
              "  /* The background is the default theme color */\n",
              "  color: var(--sklearn-color-text-on-default-background);\n",
              "}\n",
              "\n",
              "/* On hover, darken the color of the background */\n",
              "#sk-container-id-10 div.sk-label:hover label.sk-toggleable__label {\n",
              "  color: var(--sklearn-color-text);\n",
              "  background-color: var(--sklearn-color-unfitted-level-2);\n",
              "}\n",
              "\n",
              "/* Label box, darken color on hover, fitted */\n",
              "#sk-container-id-10 div.sk-label.fitted:hover label.sk-toggleable__label.fitted {\n",
              "  color: var(--sklearn-color-text);\n",
              "  background-color: var(--sklearn-color-fitted-level-2);\n",
              "}\n",
              "\n",
              "/* Estimator label */\n",
              "\n",
              "#sk-container-id-10 div.sk-label label {\n",
              "  font-family: monospace;\n",
              "  font-weight: bold;\n",
              "  display: inline-block;\n",
              "  line-height: 1.2em;\n",
              "}\n",
              "\n",
              "#sk-container-id-10 div.sk-label-container {\n",
              "  text-align: center;\n",
              "}\n",
              "\n",
              "/* Estimator-specific */\n",
              "#sk-container-id-10 div.sk-estimator {\n",
              "  font-family: monospace;\n",
              "  border: 1px dotted var(--sklearn-color-border-box);\n",
              "  border-radius: 0.25em;\n",
              "  box-sizing: border-box;\n",
              "  margin-bottom: 0.5em;\n",
              "  /* unfitted */\n",
              "  background-color: var(--sklearn-color-unfitted-level-0);\n",
              "}\n",
              "\n",
              "#sk-container-id-10 div.sk-estimator.fitted {\n",
              "  /* fitted */\n",
              "  background-color: var(--sklearn-color-fitted-level-0);\n",
              "}\n",
              "\n",
              "/* on hover */\n",
              "#sk-container-id-10 div.sk-estimator:hover {\n",
              "  /* unfitted */\n",
              "  background-color: var(--sklearn-color-unfitted-level-2);\n",
              "}\n",
              "\n",
              "#sk-container-id-10 div.sk-estimator.fitted:hover {\n",
              "  /* fitted */\n",
              "  background-color: var(--sklearn-color-fitted-level-2);\n",
              "}\n",
              "\n",
              "/* Specification for estimator info (e.g. \"i\" and \"?\") */\n",
              "\n",
              "/* Common style for \"i\" and \"?\" */\n",
              "\n",
              ".sk-estimator-doc-link,\n",
              "a:link.sk-estimator-doc-link,\n",
              "a:visited.sk-estimator-doc-link {\n",
              "  float: right;\n",
              "  font-size: smaller;\n",
              "  line-height: 1em;\n",
              "  font-family: monospace;\n",
              "  background-color: var(--sklearn-color-background);\n",
              "  border-radius: 1em;\n",
              "  height: 1em;\n",
              "  width: 1em;\n",
              "  text-decoration: none !important;\n",
              "  margin-left: 0.5em;\n",
              "  text-align: center;\n",
              "  /* unfitted */\n",
              "  border: var(--sklearn-color-unfitted-level-1) 1pt solid;\n",
              "  color: var(--sklearn-color-unfitted-level-1);\n",
              "}\n",
              "\n",
              ".sk-estimator-doc-link.fitted,\n",
              "a:link.sk-estimator-doc-link.fitted,\n",
              "a:visited.sk-estimator-doc-link.fitted {\n",
              "  /* fitted */\n",
              "  border: var(--sklearn-color-fitted-level-1) 1pt solid;\n",
              "  color: var(--sklearn-color-fitted-level-1);\n",
              "}\n",
              "\n",
              "/* On hover */\n",
              "div.sk-estimator:hover .sk-estimator-doc-link:hover,\n",
              ".sk-estimator-doc-link:hover,\n",
              "div.sk-label-container:hover .sk-estimator-doc-link:hover,\n",
              ".sk-estimator-doc-link:hover {\n",
              "  /* unfitted */\n",
              "  background-color: var(--sklearn-color-unfitted-level-3);\n",
              "  color: var(--sklearn-color-background);\n",
              "  text-decoration: none;\n",
              "}\n",
              "\n",
              "div.sk-estimator.fitted:hover .sk-estimator-doc-link.fitted:hover,\n",
              ".sk-estimator-doc-link.fitted:hover,\n",
              "div.sk-label-container:hover .sk-estimator-doc-link.fitted:hover,\n",
              ".sk-estimator-doc-link.fitted:hover {\n",
              "  /* fitted */\n",
              "  background-color: var(--sklearn-color-fitted-level-3);\n",
              "  color: var(--sklearn-color-background);\n",
              "  text-decoration: none;\n",
              "}\n",
              "\n",
              "/* Span, style for the box shown on hovering the info icon */\n",
              ".sk-estimator-doc-link span {\n",
              "  display: none;\n",
              "  z-index: 9999;\n",
              "  position: relative;\n",
              "  font-weight: normal;\n",
              "  right: .2ex;\n",
              "  padding: .5ex;\n",
              "  margin: .5ex;\n",
              "  width: min-content;\n",
              "  min-width: 20ex;\n",
              "  max-width: 50ex;\n",
              "  color: var(--sklearn-color-text);\n",
              "  box-shadow: 2pt 2pt 4pt #999;\n",
              "  /* unfitted */\n",
              "  background: var(--sklearn-color-unfitted-level-0);\n",
              "  border: .5pt solid var(--sklearn-color-unfitted-level-3);\n",
              "}\n",
              "\n",
              ".sk-estimator-doc-link.fitted span {\n",
              "  /* fitted */\n",
              "  background: var(--sklearn-color-fitted-level-0);\n",
              "  border: var(--sklearn-color-fitted-level-3);\n",
              "}\n",
              "\n",
              ".sk-estimator-doc-link:hover span {\n",
              "  display: block;\n",
              "}\n",
              "\n",
              "/* \"?\"-specific style due to the `<a>` HTML tag */\n",
              "\n",
              "#sk-container-id-10 a.estimator_doc_link {\n",
              "  float: right;\n",
              "  font-size: 1rem;\n",
              "  line-height: 1em;\n",
              "  font-family: monospace;\n",
              "  background-color: var(--sklearn-color-background);\n",
              "  border-radius: 1rem;\n",
              "  height: 1rem;\n",
              "  width: 1rem;\n",
              "  text-decoration: none;\n",
              "  /* unfitted */\n",
              "  color: var(--sklearn-color-unfitted-level-1);\n",
              "  border: var(--sklearn-color-unfitted-level-1) 1pt solid;\n",
              "}\n",
              "\n",
              "#sk-container-id-10 a.estimator_doc_link.fitted {\n",
              "  /* fitted */\n",
              "  border: var(--sklearn-color-fitted-level-1) 1pt solid;\n",
              "  color: var(--sklearn-color-fitted-level-1);\n",
              "}\n",
              "\n",
              "/* On hover */\n",
              "#sk-container-id-10 a.estimator_doc_link:hover {\n",
              "  /* unfitted */\n",
              "  background-color: var(--sklearn-color-unfitted-level-3);\n",
              "  color: var(--sklearn-color-background);\n",
              "  text-decoration: none;\n",
              "}\n",
              "\n",
              "#sk-container-id-10 a.estimator_doc_link.fitted:hover {\n",
              "  /* fitted */\n",
              "  background-color: var(--sklearn-color-fitted-level-3);\n",
              "}\n",
              "</style><div id=\"sk-container-id-10\" class=\"sk-top-container\"><div class=\"sk-text-repr-fallback\"><pre>KMeans(n_clusters=5, random_state=42)</pre><b>In a Jupyter environment, please rerun this cell to show the HTML representation or trust the notebook. <br />On GitHub, the HTML representation is unable to render, please try loading this page with nbviewer.org.</b></div><div class=\"sk-container\" hidden><div class=\"sk-item\"><div class=\"sk-estimator fitted sk-toggleable\"><input class=\"sk-toggleable__control sk-hidden--visually\" id=\"sk-estimator-id-10\" type=\"checkbox\" checked><label for=\"sk-estimator-id-10\" class=\"sk-toggleable__label fitted sk-toggleable__label-arrow\"><div><div>KMeans</div></div><div><a class=\"sk-estimator-doc-link fitted\" rel=\"noreferrer\" target=\"_blank\" href=\"https://scikit-learn.org/1.6/modules/generated/sklearn.cluster.KMeans.html\">?<span>Documentation for KMeans</span></a><span class=\"sk-estimator-doc-link fitted\">i<span>Fitted</span></span></div></label><div class=\"sk-toggleable__content fitted\"><pre>KMeans(n_clusters=5, random_state=42)</pre></div> </div></div></div></div>"
            ],
            "text/plain": [
              "KMeans(n_clusters=5, random_state=42)"
            ]
          },
          "execution_count": 348,
          "metadata": {},
          "output_type": "execute_result"
        }
      ],
      "source": [
        "kmeans = KMeans(n_clusters = 5, init = 'k-means++', random_state = 42)\n",
        "kmeans.fit(X_scaled_new)"
      ]
    },
    {
      "cell_type": "markdown",
      "metadata": {},
      "source": [
        "## Prediction"
      ]
    },
    {
      "cell_type": "code",
      "execution_count": 349,
      "metadata": {},
      "outputs": [],
      "source": [
        "y_kmeans = kmeans.predict(X_scaled_new)"
      ]
    },
    {
      "cell_type": "code",
      "execution_count": 350,
      "metadata": {},
      "outputs": [
        {
          "name": "stdout",
          "output_type": "stream",
          "text": [
            "[0 4 4 4 2 2 0 4 0 0 4 0 0 0 4 1 1 0 1 1 1 1 1 0 0 4 4 4 0 4 4 4 4 3 3 4 4\n",
            " 0 4 4 4 4 4 3 3 3 1 3 3 3 3 4 0 0 4 0 4 0 1 1 1 1 1 3 1 3 0 3 3 1 0 3 3 3\n",
            " 3 3 3 3 3 3 3 3 3 3 3 3 3 3 3 0 3 4 1 3 0 4 0 0 4 2]\n"
          ]
        }
      ],
      "source": [
        "print(y_kmeans)"
      ]
    },
    {
      "cell_type": "code",
      "execution_count": 351,
      "metadata": {},
      "outputs": [
        {
          "name": "stdout",
          "output_type": "stream",
          "text": [
            "100\n"
          ]
        }
      ],
      "source": [
        "print(len(y_kmeans))"
      ]
    },
    {
      "cell_type": "markdown",
      "metadata": {},
      "source": [
        "### Saving the output as new table"
      ]
    },
    {
      "cell_type": "code",
      "execution_count": 352,
      "metadata": {},
      "outputs": [],
      "source": [
        "df_new = df.copy()"
      ]
    },
    {
      "cell_type": "code",
      "execution_count": 353,
      "metadata": {},
      "outputs": [],
      "source": [
        "df_new['Cluster_label'] = y_kmeans\n"
      ]
    },
    {
      "cell_type": "code",
      "execution_count": 354,
      "metadata": {},
      "outputs": [
        {
          "name": "stdout",
          "output_type": "stream",
          "text": [
            "                 Current_Role  Zip_Code  Employee_ID  Employee_Annual_Salary  \\\n",
            "0    Senior Software Engineer     94103           57                  130800   \n",
            "1    Associate Data Scientist     94111           58                   74250   \n",
            "2   Associate Product Manager     10009           59                  125850   \n",
            "3            Business Analyst     60605           60                   84750   \n",
            "4     Chief Operating Officer      2101           61                  300000   \n",
            "..                        ...       ...          ...                     ...   \n",
            "95           Technical Writer     98103          152                   88100   \n",
            "96                UX Designer     78723          153                   95900   \n",
            "97              UX Researcher     78712          154                   88100   \n",
            "98              UX Researcher     78703          155                   87800   \n",
            "99           VP of Technology     98109          156                  300000   \n",
            "\n",
            "    Monthly_Medical_contribution  Monthly_Dental_Contribution  \\\n",
            "0                            130                           35   \n",
            "1                            105                           30   \n",
            "2                            130                           35   \n",
            "3                            105                           30   \n",
            "4                            230                           55   \n",
            "..                           ...                          ...   \n",
            "95                           105                           30   \n",
            "96                           105                           30   \n",
            "97                           105                           30   \n",
            "98                           105                           30   \n",
            "99                           230                           55   \n",
            "\n",
            "    Monthly_Vision_Contribution  Bonus  Years_Of_Service    Department  \\\n",
            "0                            19  13865               5.2   Engineering   \n",
            "1                            17   4344               1.7  Data Science   \n",
            "2                            19  15920               1.3       Product   \n",
            "3                            17   5890               3.9       Finance   \n",
            "4                            27  90000              15.2     Executive   \n",
            "..                          ...    ...               ...           ...   \n",
            "95                           17   5594               2.7   Engineering   \n",
            "96                           17   7336               5.3        Design   \n",
            "97                           17   5594               2.7        Design   \n",
            "98                           17   5531               2.6        Design   \n",
            "99                           27  90000              12.3     Executive   \n",
            "\n",
            "        Gender  Employee_HR_rate  Hours_per_week  Years_Since_Last_Promotion  \\\n",
            "0         Male                60              40                    2.806297   \n",
            "1   Non-Binary               117              40                    1.568789   \n",
            "2   Non-Binary               147              40                    1.251198   \n",
            "3       Female               153              40                    2.302533   \n",
            "4       Female                79              40                    5.787817   \n",
            "..         ...               ...             ...                         ...   \n",
            "95        Male               151              40                    1.708419   \n",
            "96      Female                86              40                    2.721424   \n",
            "97        Male                74              40                    2.154689   \n",
            "98        Male               121              40                    1.639973   \n",
            "99      Female                67              40                    3.964408   \n",
            "\n",
            "    age  left  Cluster_label  \n",
            "0    34     0              0  \n",
            "1    29     0              4  \n",
            "2    31     0              4  \n",
            "3    31     0              4  \n",
            "4    41     1              2  \n",
            "..  ...   ...            ...  \n",
            "95   28     0              4  \n",
            "96   28     0              0  \n",
            "97   31     0              0  \n",
            "98   24     0              4  \n",
            "99   35     0              2  \n",
            "\n",
            "[100 rows x 17 columns]\n"
          ]
        }
      ],
      "source": [
        "print(df_new)"
      ]
    },
    {
      "cell_type": "code",
      "execution_count": 355,
      "metadata": {},
      "outputs": [
        {
          "name": "stdout",
          "output_type": "stream",
          "text": [
            "(100, 17)\n"
          ]
        }
      ],
      "source": [
        "print(df_new.shape)"
      ]
    },
    {
      "cell_type": "code",
      "execution_count": 356,
      "metadata": {},
      "outputs": [],
      "source": [
        "# Create the folder if it doesn't exist\n",
        "os.makedirs(\"cluster_data\", exist_ok=True)\n",
        "\n",
        "# Save the Excel file inside the folder\n",
        "df_new.to_excel(\"cluster_data/cluster_data.xlsx\", index=False)"
      ]
    },
    {
      "cell_type": "markdown",
      "metadata": {},
      "source": [
        "## Insights"
      ]
    },
    {
      "cell_type": "code",
      "execution_count": 357,
      "metadata": {},
      "outputs": [
        {
          "data": {
            "text/plain": [
              "<Axes: xlabel='Cluster_label', ylabel='age'>"
            ]
          },
          "execution_count": 357,
          "metadata": {},
          "output_type": "execute_result"
        },
        {
          "data": {
            "image/png": "[encoded data removed]",
            "text/plain": [
              "<Figure size 640x480 with 1 Axes>"
            ]
          },
          "metadata": {},
          "output_type": "display_data"
        }
      ],
      "source": [
        "# Compare age distributions visually\n",
        "import seaborn as sns\n",
        "sns.boxplot(x='Cluster_label', y='age', data=df_new)"
      ]
    },
    {
      "cell_type": "markdown",
      "metadata": {},
      "source": [
        "### 🔴 NOTE\n",
        "- On an average, 37.5% people leave the organization from cluster 1\n",
        "- On an average, 33.3% people leave the organization from cluster 2\n",
        "- On an average, 12.1% people leave the organization from cluster 3"
      ]
    },
    {
      "cell_type": "code",
      "execution_count": 358,
      "metadata": {},
      "outputs": [
        {
          "name": "stdout",
          "output_type": "stream",
          "text": [
            "   Cluster_label  Employee_Annual_Salary  Monthly_Medical_contribution  \\\n",
            "0              0            94915.909091                    109.545455   \n",
            "1              1           198421.875000                    169.062500   \n",
            "2              2           300000.000000                    230.000000   \n",
            "3              3           138057.575758                    129.242424   \n",
            "4              4            82317.307692                    105.961538   \n",
            "\n",
            "   Monthly_Dental_Contribution  Monthly_Vision_Contribution         Bonus  \\\n",
            "0                    30.909091                    17.363636   7943.500000   \n",
            "1                    42.812500                    22.125000  41065.562500   \n",
            "2                    55.000000                    27.000000  90000.000000   \n",
            "3                    34.848485                    18.939394  16239.606061   \n",
            "4                    30.192308                    17.076923   5686.846154   \n",
            "\n",
            "   Years_Of_Service  Employee_HR_rate  Hours_per_week  \\\n",
            "0          3.609091         85.909091            40.0   \n",
            "1          9.143750        100.937500            40.0   \n",
            "2         14.066667         72.000000            40.0   \n",
            "3          6.772727        117.848485            40.0   \n",
            "4          2.930769        128.461538            40.0   \n",
            "\n",
            "   Years_Since_Last_Promotion        age      left  \n",
            "0                    2.215419  30.636364  0.000000  \n",
            "1                    4.454654  35.625000  0.375000  \n",
            "2                    4.753822  38.666667  0.333333  \n",
            "3                    3.864850  32.666667  0.121212  \n",
            "4                    1.963144  27.769231  0.000000  \n"
          ]
        }
      ],
      "source": [
        "selected_cols = [\n",
        "                    'Employee_Annual_Salary', 'Monthly_Medical_contribution',\n",
        "                    'Monthly_Dental_Contribution', 'Monthly_Vision_Contribution', 'Bonus',\n",
        "                    'Years_Of_Service', 'Employee_HR_rate', 'Hours_per_week',\n",
        "                    'Years_Since_Last_Promotion', 'age', 'left'\n",
        "                ]\n",
        "cluster_avg = df_new.groupby('Cluster_label')[selected_cols].mean().reset_index()\n",
        "print(cluster_avg)\n"
      ]
    },
    {
      "cell_type": "code",
      "execution_count": 359,
      "metadata": {},
      "outputs": [
        {
          "name": "stdout",
          "output_type": "stream",
          "text": [
            "<class 'pandas.core.frame.DataFrame'>\n"
          ]
        }
      ],
      "source": [
        "print(type(cluster_avg))"
      ]
    },
    {
      "cell_type": "markdown",
      "metadata": {},
      "source": [
        "### Saving the insights as new table"
      ]
    },
    {
      "cell_type": "code",
      "execution_count": 360,
      "metadata": {},
      "outputs": [],
      "source": [
        "# Create the folder if it doesn't exist\n",
        "os.makedirs(\"insight_data\", exist_ok=True)\n",
        "\n",
        "# Save the Excel file inside the folder\n",
        "cluster_avg.to_excel(\"insight_data/insight_data.xlsx\", index=False)"
      ]
    }
  ],
  "metadata": {
    "colab": {
      "collapsed_sections": [],
      "name": "data_preprocessing_tools.ipynb",
      "provenance": [],
      "toc_visible": true
    },
    "kernelspec": {
      "display_name": ".venv",
      "language": "python",
      "name": "python3"
    },
    "language_info": {
      "codemirror_mode": {
        "name": "ipython",
        "version": 3
      },
      "file_extension": ".py",
      "mimetype": "text/x-python",
      "name": "python",
      "nbconvert_exporter": "python",
      "pygments_lexer": "ipython3",
      "version": "3.13.3"
    }
  },
  "nbformat": 4,
  "nbformat_minor": 0
}
